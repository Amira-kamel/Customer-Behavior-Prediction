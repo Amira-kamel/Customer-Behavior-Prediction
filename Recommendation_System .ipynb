{
 "cells": [
  {
   "cell_type": "markdown",
   "metadata": {
    "id": "xJZbPeW4VGTR"
   },
   "source": [
    "# Load Data"
   ]
  },
  {
   "cell_type": "code",
   "execution_count": 2,
   "metadata": {
    "colab": {
     "base_uri": "https://localhost:8080/"
    },
    "executionInfo": {
     "elapsed": 3079,
     "status": "ok",
     "timestamp": 1746804293059,
     "user": {
      "displayName": "Amira Kamel",
      "userId": "17694101562792701289"
     },
     "user_tz": -180
    },
    "id": "M7GTV9x4U_Fr",
    "outputId": "57b0b286-b058-4e89-abb9-56e16d638f21"
   },
   "outputs": [
    {
     "name": "stdout",
     "output_type": "stream",
     "text": [
      "Dataset URL: https://www.kaggle.com/datasets/olistbr/brazilian-ecommerce\n",
      "License(s): CC-BY-NC-SA-4.0\n",
      "Archive:  /content/brazilian-ecommerce.zip\n",
      "  inflating: olist_customers_dataset.csv  \n",
      "  inflating: olist_geolocation_dataset.csv  \n",
      "  inflating: olist_order_items_dataset.csv  \n",
      "  inflating: olist_order_payments_dataset.csv  \n",
      "  inflating: olist_order_reviews_dataset.csv  \n",
      "  inflating: olist_orders_dataset.csv  \n",
      "  inflating: olist_products_dataset.csv  \n",
      "  inflating: olist_sellers_dataset.csv  \n",
      "  inflating: product_category_name_translation.csv  \n"
     ]
    }
   ],
   "source": [
    "! kaggle datasets download -d olistbr/brazilian-ecommerce\n",
    "! unzip /content/brazilian-ecommerce.zip"
   ]
  },
  {
   "cell_type": "markdown",
   "metadata": {
    "id": "4NHsspPIVI4H"
   },
   "source": [
    "# Import Needed Libraries"
   ]
  },
  {
   "cell_type": "code",
   "execution_count": 3,
   "metadata": {
    "executionInfo": {
     "elapsed": 3353,
     "status": "ok",
     "timestamp": 1746804298323,
     "user": {
      "displayName": "Amira Kamel",
      "userId": "17694101562792701289"
     },
     "user_tz": -180
    },
    "id": "3S8oXsgEU_A9"
   },
   "outputs": [],
   "source": [
    "import numpy as np\n",
    "import pandas as pd\n",
    "import matplotlib.pyplot as plt\n",
    "import plotly.express as px\n",
    "import seaborn as sns\n",
    "from sklearn.preprocessing import LabelEncoder\n",
    "import os"
   ]
  },
  {
   "cell_type": "code",
   "execution_count": 4,
   "metadata": {
    "executionInfo": {
     "elapsed": 3333,
     "status": "ok",
     "timestamp": 1746804754555,
     "user": {
      "displayName": "Amira Kamel",
      "userId": "17694101562792701289"
     },
     "user_tz": -180
    },
    "id": "nAz_jD5dU-_q"
   },
   "outputs": [],
   "source": [
    "order=pd.read_csv('/content/olist_orders_dataset.csv')\n",
    "seller=pd.read_csv('/content/olist_sellers_dataset.csv')\n",
    "product=pd.read_csv('/content/olist_products_dataset.csv')\n",
    "product_translation=pd.read_csv('/content/product_category_name_translation.csv')\n",
    "pay=pd.read_csv('/content/olist_order_payments_dataset.csv')\n",
    "geoloca=pd.read_csv('/content/olist_geolocation_dataset.csv')\n",
    "customer=pd.read_csv('/content/olist_customers_dataset.csv')\n",
    "reviews=pd.read_csv('/content/olist_order_reviews_dataset.csv')\n",
    "\n",
    "\n",
    "order_copy=order.copy()\n",
    "seller_copy=seller.copy()\n",
    "product_copy=product.copy()\n",
    "product_translation_copy=product_translation.copy()\n",
    "pay_copy=pay.copy()\n",
    "geoloca_copy=geoloca.copy()\n",
    "customer_copy=customer.copy()\n",
    "reviews_copy=reviews.copy()\n",
    "\n",
    "order_df=pd.DataFrame(order_copy)\n",
    "seller_df=pd.DataFrame(seller_copy)\n",
    "product_df=pd.DataFrame(product_copy)\n",
    "product_translation_df=pd.DataFrame(product_translation_copy)\n",
    "df_pay=pd.DataFrame(pay_copy)\n",
    "df_geoloca=pd.DataFrame(geoloca_copy)\n",
    "df_customer=pd.DataFrame(customer_copy)\n",
    "reviews_df=pd.DataFrame(reviews_copy)"
   ]
  },
  {
   "cell_type": "markdown",
   "metadata": {
    "id": "jNd52CNdVS0Z"
   },
   "source": [
    "# EDA"
   ]
  },
  {
   "cell_type": "markdown",
   "metadata": {
    "id": "W8gmhxIUn7Mt"
   },
   "source": [
    "## Order"
   ]
  },
  {
   "cell_type": "code",
   "execution_count": null,
   "metadata": {
    "colab": {
     "base_uri": "https://localhost:8080/",
     "height": 226
    },
    "executionInfo": {
     "elapsed": 801,
     "status": "ok",
     "timestamp": 1746783223810,
     "user": {
      "displayName": "Amira Kamel",
      "userId": "17694101562792701289"
     },
     "user_tz": -180
    },
    "id": "QijRbUjVU-7h",
    "outputId": "13329dd8-e1d3-4410-f53b-50c112dadc19"
   },
   "outputs": [
    {
     "data": {
      "application/vnd.google.colaboratory.intrinsic+json": {
       "summary": "{\n  \"name\": \"order_df\",\n  \"rows\": 99441,\n  \"fields\": [\n    {\n      \"column\": \"order_id\",\n      \"properties\": {\n        \"dtype\": \"string\",\n        \"num_unique_values\": 99441,\n        \"samples\": [\n          \"b9a6c5f5df52c7226ac85aee7524c27f\",\n          \"261e71d2349c713eafa9f3df5972b95d\",\n          \"67b50899f52995848c427e361e10dde3\"\n        ],\n        \"semantic_type\": \"\",\n        \"description\": \"\"\n      }\n    },\n    {\n      \"column\": \"customer_id\",\n      \"properties\": {\n        \"dtype\": \"string\",\n        \"num_unique_values\": 99441,\n        \"samples\": [\n          \"f160aaf480efdfa7268f0fa535f73e76\",\n          \"d6708bbbd2d419475869a84e41f620a1\",\n          \"1b353c00c71689afba44554e43cc5a76\"\n        ],\n        \"semantic_type\": \"\",\n        \"description\": \"\"\n      }\n    },\n    {\n      \"column\": \"order_status\",\n      \"properties\": {\n        \"dtype\": \"category\",\n        \"num_unique_values\": 8,\n        \"samples\": [\n          \"invoiced\",\n          \"canceled\",\n          \"delivered\"\n        ],\n        \"semantic_type\": \"\",\n        \"description\": \"\"\n      }\n    },\n    {\n      \"column\": \"order_purchase_timestamp\",\n      \"properties\": {\n        \"dtype\": \"object\",\n        \"num_unique_values\": 98875,\n        \"samples\": [\n          \"2017-12-03 02:01:18\",\n          \"2018-05-15 22:52:30\",\n          \"2018-08-22 21:56:07\"\n        ],\n        \"semantic_type\": \"\",\n        \"description\": \"\"\n      }\n    },\n    {\n      \"column\": \"order_approved_at\",\n      \"properties\": {\n        \"dtype\": \"object\",\n        \"num_unique_values\": 90733,\n        \"samples\": [\n          \"2017-05-17 03:55:26\",\n          \"2018-03-04 10:55:33\",\n          \"2017-10-05 02:49:39\"\n        ],\n        \"semantic_type\": \"\",\n        \"description\": \"\"\n      }\n    },\n    {\n      \"column\": \"order_delivered_carrier_date\",\n      \"properties\": {\n        \"dtype\": \"object\",\n        \"num_unique_values\": 81018,\n        \"samples\": [\n          \"2018-04-24 14:38:40\",\n          \"2017-03-18 10:37:00\",\n          \"2017-12-29 17:22:42\"\n        ],\n        \"semantic_type\": \"\",\n        \"description\": \"\"\n      }\n    },\n    {\n      \"column\": \"order_delivered_customer_date\",\n      \"properties\": {\n        \"dtype\": \"object\",\n        \"num_unique_values\": 95664,\n        \"samples\": [\n          \"2017-03-27 12:43:40\",\n          \"2018-02-23 16:39:23\",\n          \"2017-10-09 22:16:39\"\n        ],\n        \"semantic_type\": \"\",\n        \"description\": \"\"\n      }\n    },\n    {\n      \"column\": \"order_estimated_delivery_date\",\n      \"properties\": {\n        \"dtype\": \"object\",\n        \"num_unique_values\": 459,\n        \"samples\": [\n          \"2018-07-27 00:00:00\",\n          \"2018-08-06 00:00:00\",\n          \"2017-09-13 00:00:00\"\n        ],\n        \"semantic_type\": \"\",\n        \"description\": \"\"\n      }\n    }\n  ]\n}",
       "type": "dataframe",
       "variable_name": "order_df"
      },
      "text/html": [
       "\n",
       "  <div id=\"df-deb9f8a0-b6a5-49d0-868c-709925d09bf3\" class=\"colab-df-container\">\n",
       "    <div>\n",
       "<style scoped>\n",
       "    .dataframe tbody tr th:only-of-type {\n",
       "        vertical-align: middle;\n",
       "    }\n",
       "\n",
       "    .dataframe tbody tr th {\n",
       "        vertical-align: top;\n",
       "    }\n",
       "\n",
       "    .dataframe thead th {\n",
       "        text-align: right;\n",
       "    }\n",
       "</style>\n",
       "<table border=\"1\" class=\"dataframe\">\n",
       "  <thead>\n",
       "    <tr style=\"text-align: right;\">\n",
       "      <th></th>\n",
       "      <th>order_id</th>\n",
       "      <th>customer_id</th>\n",
       "      <th>order_status</th>\n",
       "      <th>order_purchase_timestamp</th>\n",
       "      <th>order_approved_at</th>\n",
       "      <th>order_delivered_carrier_date</th>\n",
       "      <th>order_delivered_customer_date</th>\n",
       "      <th>order_estimated_delivery_date</th>\n",
       "    </tr>\n",
       "  </thead>\n",
       "  <tbody>\n",
       "    <tr>\n",
       "      <th>0</th>\n",
       "      <td>e481f51cbdc54678b7cc49136f2d6af7</td>\n",
       "      <td>9ef432eb6251297304e76186b10a928d</td>\n",
       "      <td>delivered</td>\n",
       "      <td>2017-10-02 10:56:33</td>\n",
       "      <td>2017-10-02 11:07:15</td>\n",
       "      <td>2017-10-04 19:55:00</td>\n",
       "      <td>2017-10-10 21:25:13</td>\n",
       "      <td>2017-10-18 00:00:00</td>\n",
       "    </tr>\n",
       "    <tr>\n",
       "      <th>1</th>\n",
       "      <td>53cdb2fc8bc7dce0b6741e2150273451</td>\n",
       "      <td>b0830fb4747a6c6d20dea0b8c802d7ef</td>\n",
       "      <td>delivered</td>\n",
       "      <td>2018-07-24 20:41:37</td>\n",
       "      <td>2018-07-26 03:24:27</td>\n",
       "      <td>2018-07-26 14:31:00</td>\n",
       "      <td>2018-08-07 15:27:45</td>\n",
       "      <td>2018-08-13 00:00:00</td>\n",
       "    </tr>\n",
       "    <tr>\n",
       "      <th>2</th>\n",
       "      <td>47770eb9100c2d0c44946d9cf07ec65d</td>\n",
       "      <td>41ce2a54c0b03bf3443c3d931a367089</td>\n",
       "      <td>delivered</td>\n",
       "      <td>2018-08-08 08:38:49</td>\n",
       "      <td>2018-08-08 08:55:23</td>\n",
       "      <td>2018-08-08 13:50:00</td>\n",
       "      <td>2018-08-17 18:06:29</td>\n",
       "      <td>2018-09-04 00:00:00</td>\n",
       "    </tr>\n",
       "    <tr>\n",
       "      <th>3</th>\n",
       "      <td>949d5b44dbf5de918fe9c16f97b45f8a</td>\n",
       "      <td>f88197465ea7920adcdbec7375364d82</td>\n",
       "      <td>delivered</td>\n",
       "      <td>2017-11-18 19:28:06</td>\n",
       "      <td>2017-11-18 19:45:59</td>\n",
       "      <td>2017-11-22 13:39:59</td>\n",
       "      <td>2017-12-02 00:28:42</td>\n",
       "      <td>2017-12-15 00:00:00</td>\n",
       "    </tr>\n",
       "    <tr>\n",
       "      <th>4</th>\n",
       "      <td>ad21c59c0840e6cb83a9ceb5573f8159</td>\n",
       "      <td>8ab97904e6daea8866dbdbc4fb7aad2c</td>\n",
       "      <td>delivered</td>\n",
       "      <td>2018-02-13 21:18:39</td>\n",
       "      <td>2018-02-13 22:20:29</td>\n",
       "      <td>2018-02-14 19:46:34</td>\n",
       "      <td>2018-02-16 18:17:02</td>\n",
       "      <td>2018-02-26 00:00:00</td>\n",
       "    </tr>\n",
       "  </tbody>\n",
       "</table>\n",
       "</div>\n",
       "    <div class=\"colab-df-buttons\">\n",
       "\n",
       "  <div class=\"colab-df-container\">\n",
       "    <button class=\"colab-df-convert\" onclick=\"convertToInteractive('df-deb9f8a0-b6a5-49d0-868c-709925d09bf3')\"\n",
       "            title=\"Convert this dataframe to an interactive table.\"\n",
       "            style=\"display:none;\">\n",
       "\n",
       "  <svg xmlns=\"http://www.w3.org/2000/svg\" height=\"24px\" viewBox=\"0 -960 960 960\">\n",
       "    <path d=\"M120-120v-720h720v720H120Zm60-500h600v-160H180v160Zm220 220h160v-160H400v160Zm0 220h160v-160H400v160ZM180-400h160v-160H180v160Zm440 0h160v-160H620v160ZM180-180h160v-160H180v160Zm440 0h160v-160H620v160Z\"/>\n",
       "  </svg>\n",
       "    </button>\n",
       "\n",
       "  <style>\n",
       "    .colab-df-container {\n",
       "      display:flex;\n",
       "      gap: 12px;\n",
       "    }\n",
       "\n",
       "    .colab-df-convert {\n",
       "      background-color: #E8F0FE;\n",
       "      border: none;\n",
       "      border-radius: 50%;\n",
       "      cursor: pointer;\n",
       "      display: none;\n",
       "      fill: #1967D2;\n",
       "      height: 32px;\n",
       "      padding: 0 0 0 0;\n",
       "      width: 32px;\n",
       "    }\n",
       "\n",
       "    .colab-df-convert:hover {\n",
       "      background-color: #E2EBFA;\n",
       "      box-shadow: 0px 1px 2px rgba(60, 64, 67, 0.3), 0px 1px 3px 1px rgba(60, 64, 67, 0.15);\n",
       "      fill: #174EA6;\n",
       "    }\n",
       "\n",
       "    .colab-df-buttons div {\n",
       "      margin-bottom: 4px;\n",
       "    }\n",
       "\n",
       "    [theme=dark] .colab-df-convert {\n",
       "      background-color: #3B4455;\n",
       "      fill: #D2E3FC;\n",
       "    }\n",
       "\n",
       "    [theme=dark] .colab-df-convert:hover {\n",
       "      background-color: #434B5C;\n",
       "      box-shadow: 0px 1px 3px 1px rgba(0, 0, 0, 0.15);\n",
       "      filter: drop-shadow(0px 1px 2px rgba(0, 0, 0, 0.3));\n",
       "      fill: #FFFFFF;\n",
       "    }\n",
       "  </style>\n",
       "\n",
       "    <script>\n",
       "      const buttonEl =\n",
       "        document.querySelector('#df-deb9f8a0-b6a5-49d0-868c-709925d09bf3 button.colab-df-convert');\n",
       "      buttonEl.style.display =\n",
       "        google.colab.kernel.accessAllowed ? 'block' : 'none';\n",
       "\n",
       "      async function convertToInteractive(key) {\n",
       "        const element = document.querySelector('#df-deb9f8a0-b6a5-49d0-868c-709925d09bf3');\n",
       "        const dataTable =\n",
       "          await google.colab.kernel.invokeFunction('convertToInteractive',\n",
       "                                                    [key], {});\n",
       "        if (!dataTable) return;\n",
       "\n",
       "        const docLinkHtml = 'Like what you see? Visit the ' +\n",
       "          '<a target=\"_blank\" href=https://colab.research.google.com/notebooks/data_table.ipynb>data table notebook</a>'\n",
       "          + ' to learn more about interactive tables.';\n",
       "        element.innerHTML = '';\n",
       "        dataTable['output_type'] = 'display_data';\n",
       "        await google.colab.output.renderOutput(dataTable, element);\n",
       "        const docLink = document.createElement('div');\n",
       "        docLink.innerHTML = docLinkHtml;\n",
       "        element.appendChild(docLink);\n",
       "      }\n",
       "    </script>\n",
       "  </div>\n",
       "\n",
       "\n",
       "    <div id=\"df-22a6ce0e-25bd-497d-a1b0-8f1f22754ad1\">\n",
       "      <button class=\"colab-df-quickchart\" onclick=\"quickchart('df-22a6ce0e-25bd-497d-a1b0-8f1f22754ad1')\"\n",
       "                title=\"Suggest charts\"\n",
       "                style=\"display:none;\">\n",
       "\n",
       "<svg xmlns=\"http://www.w3.org/2000/svg\" height=\"24px\"viewBox=\"0 0 24 24\"\n",
       "     width=\"24px\">\n",
       "    <g>\n",
       "        <path d=\"M19 3H5c-1.1 0-2 .9-2 2v14c0 1.1.9 2 2 2h14c1.1 0 2-.9 2-2V5c0-1.1-.9-2-2-2zM9 17H7v-7h2v7zm4 0h-2V7h2v10zm4 0h-2v-4h2v4z\"/>\n",
       "    </g>\n",
       "</svg>\n",
       "      </button>\n",
       "\n",
       "<style>\n",
       "  .colab-df-quickchart {\n",
       "      --bg-color: #E8F0FE;\n",
       "      --fill-color: #1967D2;\n",
       "      --hover-bg-color: #E2EBFA;\n",
       "      --hover-fill-color: #174EA6;\n",
       "      --disabled-fill-color: #AAA;\n",
       "      --disabled-bg-color: #DDD;\n",
       "  }\n",
       "\n",
       "  [theme=dark] .colab-df-quickchart {\n",
       "      --bg-color: #3B4455;\n",
       "      --fill-color: #D2E3FC;\n",
       "      --hover-bg-color: #434B5C;\n",
       "      --hover-fill-color: #FFFFFF;\n",
       "      --disabled-bg-color: #3B4455;\n",
       "      --disabled-fill-color: #666;\n",
       "  }\n",
       "\n",
       "  .colab-df-quickchart {\n",
       "    background-color: var(--bg-color);\n",
       "    border: none;\n",
       "    border-radius: 50%;\n",
       "    cursor: pointer;\n",
       "    display: none;\n",
       "    fill: var(--fill-color);\n",
       "    height: 32px;\n",
       "    padding: 0;\n",
       "    width: 32px;\n",
       "  }\n",
       "\n",
       "  .colab-df-quickchart:hover {\n",
       "    background-color: var(--hover-bg-color);\n",
       "    box-shadow: 0 1px 2px rgba(60, 64, 67, 0.3), 0 1px 3px 1px rgba(60, 64, 67, 0.15);\n",
       "    fill: var(--button-hover-fill-color);\n",
       "  }\n",
       "\n",
       "  .colab-df-quickchart-complete:disabled,\n",
       "  .colab-df-quickchart-complete:disabled:hover {\n",
       "    background-color: var(--disabled-bg-color);\n",
       "    fill: var(--disabled-fill-color);\n",
       "    box-shadow: none;\n",
       "  }\n",
       "\n",
       "  .colab-df-spinner {\n",
       "    border: 2px solid var(--fill-color);\n",
       "    border-color: transparent;\n",
       "    border-bottom-color: var(--fill-color);\n",
       "    animation:\n",
       "      spin 1s steps(1) infinite;\n",
       "  }\n",
       "\n",
       "  @keyframes spin {\n",
       "    0% {\n",
       "      border-color: transparent;\n",
       "      border-bottom-color: var(--fill-color);\n",
       "      border-left-color: var(--fill-color);\n",
       "    }\n",
       "    20% {\n",
       "      border-color: transparent;\n",
       "      border-left-color: var(--fill-color);\n",
       "      border-top-color: var(--fill-color);\n",
       "    }\n",
       "    30% {\n",
       "      border-color: transparent;\n",
       "      border-left-color: var(--fill-color);\n",
       "      border-top-color: var(--fill-color);\n",
       "      border-right-color: var(--fill-color);\n",
       "    }\n",
       "    40% {\n",
       "      border-color: transparent;\n",
       "      border-right-color: var(--fill-color);\n",
       "      border-top-color: var(--fill-color);\n",
       "    }\n",
       "    60% {\n",
       "      border-color: transparent;\n",
       "      border-right-color: var(--fill-color);\n",
       "    }\n",
       "    80% {\n",
       "      border-color: transparent;\n",
       "      border-right-color: var(--fill-color);\n",
       "      border-bottom-color: var(--fill-color);\n",
       "    }\n",
       "    90% {\n",
       "      border-color: transparent;\n",
       "      border-bottom-color: var(--fill-color);\n",
       "    }\n",
       "  }\n",
       "</style>\n",
       "\n",
       "      <script>\n",
       "        async function quickchart(key) {\n",
       "          const quickchartButtonEl =\n",
       "            document.querySelector('#' + key + ' button');\n",
       "          quickchartButtonEl.disabled = true;  // To prevent multiple clicks.\n",
       "          quickchartButtonEl.classList.add('colab-df-spinner');\n",
       "          try {\n",
       "            const charts = await google.colab.kernel.invokeFunction(\n",
       "                'suggestCharts', [key], {});\n",
       "          } catch (error) {\n",
       "            console.error('Error during call to suggestCharts:', error);\n",
       "          }\n",
       "          quickchartButtonEl.classList.remove('colab-df-spinner');\n",
       "          quickchartButtonEl.classList.add('colab-df-quickchart-complete');\n",
       "        }\n",
       "        (() => {\n",
       "          let quickchartButtonEl =\n",
       "            document.querySelector('#df-22a6ce0e-25bd-497d-a1b0-8f1f22754ad1 button');\n",
       "          quickchartButtonEl.style.display =\n",
       "            google.colab.kernel.accessAllowed ? 'block' : 'none';\n",
       "        })();\n",
       "      </script>\n",
       "    </div>\n",
       "\n",
       "    </div>\n",
       "  </div>\n"
      ],
      "text/plain": [
       "                           order_id                       customer_id  \\\n",
       "0  e481f51cbdc54678b7cc49136f2d6af7  9ef432eb6251297304e76186b10a928d   \n",
       "1  53cdb2fc8bc7dce0b6741e2150273451  b0830fb4747a6c6d20dea0b8c802d7ef   \n",
       "2  47770eb9100c2d0c44946d9cf07ec65d  41ce2a54c0b03bf3443c3d931a367089   \n",
       "3  949d5b44dbf5de918fe9c16f97b45f8a  f88197465ea7920adcdbec7375364d82   \n",
       "4  ad21c59c0840e6cb83a9ceb5573f8159  8ab97904e6daea8866dbdbc4fb7aad2c   \n",
       "\n",
       "  order_status order_purchase_timestamp    order_approved_at  \\\n",
       "0    delivered      2017-10-02 10:56:33  2017-10-02 11:07:15   \n",
       "1    delivered      2018-07-24 20:41:37  2018-07-26 03:24:27   \n",
       "2    delivered      2018-08-08 08:38:49  2018-08-08 08:55:23   \n",
       "3    delivered      2017-11-18 19:28:06  2017-11-18 19:45:59   \n",
       "4    delivered      2018-02-13 21:18:39  2018-02-13 22:20:29   \n",
       "\n",
       "  order_delivered_carrier_date order_delivered_customer_date  \\\n",
       "0          2017-10-04 19:55:00           2017-10-10 21:25:13   \n",
       "1          2018-07-26 14:31:00           2018-08-07 15:27:45   \n",
       "2          2018-08-08 13:50:00           2018-08-17 18:06:29   \n",
       "3          2017-11-22 13:39:59           2017-12-02 00:28:42   \n",
       "4          2018-02-14 19:46:34           2018-02-16 18:17:02   \n",
       "\n",
       "  order_estimated_delivery_date  \n",
       "0           2017-10-18 00:00:00  \n",
       "1           2018-08-13 00:00:00  \n",
       "2           2018-09-04 00:00:00  \n",
       "3           2017-12-15 00:00:00  \n",
       "4           2018-02-26 00:00:00  "
      ]
     },
     "execution_count": 5,
     "metadata": {},
     "output_type": "execute_result"
    }
   ],
   "source": [
    "order_df.head()\n"
   ]
  },
  {
   "cell_type": "code",
   "execution_count": null,
   "metadata": {
    "colab": {
     "base_uri": "https://localhost:8080/"
    },
    "executionInfo": {
     "elapsed": 32,
     "status": "ok",
     "timestamp": 1746783223846,
     "user": {
      "displayName": "Amira Kamel",
      "userId": "17694101562792701289"
     },
     "user_tz": -180
    },
    "id": "EcRzKtasU-6D",
    "outputId": "466de527-5952-450e-c705-fea81020b56b"
   },
   "outputs": [
    {
     "name": "stdout",
     "output_type": "stream",
     "text": [
      "<class 'pandas.core.frame.DataFrame'>\n",
      "RangeIndex: 99441 entries, 0 to 99440\n",
      "Data columns (total 8 columns):\n",
      " #   Column                         Non-Null Count  Dtype \n",
      "---  ------                         --------------  ----- \n",
      " 0   order_id                       99441 non-null  object\n",
      " 1   customer_id                    99441 non-null  object\n",
      " 2   order_status                   99441 non-null  object\n",
      " 3   order_purchase_timestamp       99441 non-null  object\n",
      " 4   order_approved_at              99281 non-null  object\n",
      " 5   order_delivered_carrier_date   97658 non-null  object\n",
      " 6   order_delivered_customer_date  96476 non-null  object\n",
      " 7   order_estimated_delivery_date  99441 non-null  object\n",
      "dtypes: object(8)\n",
      "memory usage: 6.1+ MB\n"
     ]
    }
   ],
   "source": [
    "order_df.info()\n"
   ]
  },
  {
   "cell_type": "code",
   "execution_count": null,
   "metadata": {
    "id": "eZCwGagZU-1c"
   },
   "outputs": [],
   "source": [
    "order_df.describe()\n"
   ]
  },
  {
   "cell_type": "code",
   "execution_count": null,
   "metadata": {
    "id": "zXeg5yG-Vanc"
   },
   "outputs": [],
   "source": [
    "order_df.isnull().sum()\n"
   ]
  },
  {
   "cell_type": "code",
   "execution_count": null,
   "metadata": {
    "id": "m3Z8x8vQVal9"
   },
   "outputs": [],
   "source": [
    "order_df.duplicated().sum()\n"
   ]
  },
  {
   "cell_type": "code",
   "execution_count": null,
   "metadata": {
    "id": "i_EoCYTpVaiO"
   },
   "outputs": [],
   "source": [
    "order_df['order_status'].value_counts()\n"
   ]
  },
  {
   "cell_type": "code",
   "execution_count": null,
   "metadata": {
    "id": "1UOioX1AVagp"
   },
   "outputs": [],
   "source": [
    "order_df.dropna(inplace=True)\n"
   ]
  },
  {
   "cell_type": "code",
   "execution_count": null,
   "metadata": {
    "id": "X9txH6cOVacN"
   },
   "outputs": [],
   "source": [
    "order_df.isnull().sum()\n"
   ]
  },
  {
   "cell_type": "code",
   "execution_count": null,
   "metadata": {
    "id": "IjZnFmzTVaaz"
   },
   "outputs": [],
   "source": [
    "# replace zeros with Nan to be converte to timedate\n",
    "order_df['order_approved_at']=order_df['order_approved_at'].replace('0',pd.NaT)\n",
    "order_df['order_delivered_carrier_date']=order_df['order_delivered_carrier_date'].replace('0',pd.NaT)\n",
    "order_df['order_delivered_customer_date']=order_df['order_delivered_customer_date'].replace('0',pd.NaT)\n",
    "order_df['order_estimated_delivery_date']=order_df['order_estimated_delivery_date'].replace('0',pd.NaT)\n",
    "\n",
    "\n",
    "# convert datatypes to date format\n",
    "order_df['order_purchase_timestamp']=pd.to_datetime(order_df['order_purchase_timestamp'])\n",
    "order_df['order_approved_at']=pd.to_datetime(order_df['order_approved_at'])\n",
    "order_df['order_delivered_carrier_date']=pd.to_datetime(order_df['order_delivered_carrier_date'])\n",
    "order_df['order_delivered_customer_date']=pd.to_datetime(order_df['order_delivered_customer_date'])\n",
    "order_df['order_estimated_delivery_date']=pd.to_datetime(order_df['order_estimated_delivery_date'])"
   ]
  },
  {
   "cell_type": "code",
   "execution_count": null,
   "metadata": {
    "id": "1PYgXb4XU-0O"
   },
   "outputs": [],
   "source": [
    "order_df.info()\n"
   ]
  },
  {
   "cell_type": "code",
   "execution_count": null,
   "metadata": {
    "id": "nk29elKaVobq"
   },
   "outputs": [],
   "source": [
    "order_df['order_status'].value_counts()\n"
   ]
  },
  {
   "cell_type": "code",
   "execution_count": null,
   "metadata": {
    "id": "NIydY4ArVoaE"
   },
   "outputs": [],
   "source": [
    "data = {\n",
    "    'order_status': ['delivered', 'canceled'],\n",
    "    'count': [96455, 6]\n",
    "}\n",
    "\n",
    "df = pd.DataFrame(data)\n",
    "\n",
    "# Bar chart\n",
    "fig = px.bar(df, x='order_status', y='count',\n",
    "             title='Order Status Distribution',\n",
    "             color='order_status',\n",
    "             text='count',\n",
    "             color_discrete_sequence=px.colors.qualitative.Bold)\n",
    "\n",
    "fig.update_traces(textposition='outside')\n",
    "fig.update_layout(xaxis_title='Order Status', yaxis_title='Count')\n",
    "fig.show()\n"
   ]
  },
  {
   "cell_type": "code",
   "execution_count": null,
   "metadata": {
    "id": "sIOlIGnCVoTK"
   },
   "outputs": [],
   "source": [
    "# extract the order duration\n",
    "order_df['order_duration_days']=(order_df['order_delivered_customer_date'] - order_df['order_purchase_timestamp']).dt.days"
   ]
  },
  {
   "cell_type": "code",
   "execution_count": null,
   "metadata": {
    "id": "HONBh1FGVoRn"
   },
   "outputs": [],
   "source": [
    "order_df.loc[0:5,['order_purchase_timestamp','order_delivered_customer_date','order_duration_days']]\n"
   ]
  },
  {
   "cell_type": "code",
   "execution_count": null,
   "metadata": {
    "id": "P04qgq9jVoMa"
   },
   "outputs": [],
   "source": [
    "fig = px.histogram(order_df, x='order_duration_days',\n",
    "                   nbins=40,\n",
    "                   title='Distribution of Order Delivery Duration (in Days)',\n",
    "                   labels={'order_duration_days': 'Delivery Duration (Days)'},\n",
    "                   color_discrete_sequence=['royalblue'])\n",
    "\n",
    "fig.update_layout(bargap=0.1)\n",
    "fig.show()"
   ]
  },
  {
   "cell_type": "code",
   "execution_count": null,
   "metadata": {
    "id": "Rw46Rn1eVoKt"
   },
   "outputs": [],
   "source": [
    "fig = px.box(order_df, y='order_duration_days',\n",
    "             title='Box Plot of Order Delivery Duration',\n",
    "             labels={'order_duration_days': 'Delivery Duration (Days)'},\n",
    "             color_discrete_sequence=['mediumseagreen'])\n",
    "\n",
    "fig.show()\n"
   ]
  },
  {
   "cell_type": "code",
   "execution_count": null,
   "metadata": {
    "id": "y-i3pZQMVoH_"
   },
   "outputs": [],
   "source": [
    "# check for inconsistensis\n",
    "# Check if approval happens after purchase\n",
    "order_df[order_df['order_approved_at'] < order_df['order_purchase_timestamp']]"
   ]
  },
  {
   "cell_type": "code",
   "execution_count": null,
   "metadata": {
    "id": "hmvNAV2OVoFb"
   },
   "outputs": [],
   "source": [
    "# Check if actual delivery to customer is before purchase\n",
    "order_df[order_df['order_delivered_customer_date'] < order_df['order_purchase_timestamp']]"
   ]
  },
  {
   "cell_type": "code",
   "execution_count": null,
   "metadata": {
    "id": "C4u0Y13nVoB2"
   },
   "outputs": [],
   "source": [
    "# Check if delivered to carrier is before approval\n",
    "order_df[order_df['order_delivered_carrier_date'] < order_df['order_approved_at']]"
   ]
  },
  {
   "cell_type": "code",
   "execution_count": null,
   "metadata": {
    "id": "f6zM_pzuVoAN"
   },
   "outputs": [],
   "source": [
    "# handle incorrect values that delivered to carrier before be approved 'correct carrier date'\n",
    "mean_value=(order_df['order_delivered_carrier_date'] - order_df['order_approved_at']).mean()\n",
    "order_df.loc[\n",
    "    order_df['order_delivered_carrier_date'] < order_df['order_approved_at'],\n",
    "    'order_delivered_carrier_date'\n",
    "] = order_df['order_approved_at']+mean_value"
   ]
  },
  {
   "cell_type": "code",
   "execution_count": null,
   "metadata": {
    "id": "nNKpHY3eVn8w"
   },
   "outputs": [],
   "source": [
    "# Check if delivered to carrier is before approval after correction\n",
    "order_df[order_df['order_delivered_carrier_date'] < order_df['order_approved_at']]"
   ]
  },
  {
   "cell_type": "code",
   "execution_count": null,
   "metadata": {
    "id": "yN6U2suYVn67"
   },
   "outputs": [],
   "source": [
    "# Check if customer received order before it was shipped to carrier\n",
    "order_df[order_df['order_delivered_customer_date'] < order_df['order_delivered_carrier_date']]"
   ]
  },
  {
   "cell_type": "code",
   "execution_count": null,
   "metadata": {
    "id": "rzc8-x4XVn3y"
   },
   "outputs": [],
   "source": [
    "# drop inconsistent row that dilevered to customer before delivered to carrier and\n",
    "# update order_df to keep just valid\n",
    "order_df = order_df[(order_df['order_delivered_customer_date'] >= order_df['order_delivered_carrier_date'])]"
   ]
  },
  {
   "cell_type": "code",
   "execution_count": null,
   "metadata": {
    "id": "5Jv9j9xVVn2C"
   },
   "outputs": [],
   "source": [
    "# Check if customer received order before it was shipped to carrier 'after correction'\n",
    "order_df[order_df['order_delivered_customer_date'] < order_df['order_delivered_carrier_date']]"
   ]
  },
  {
   "cell_type": "code",
   "execution_count": null,
   "metadata": {
    "id": "tTwZA2N8Vnyr"
   },
   "outputs": [],
   "source": [
    "# Check if estimated delivery is before actual delivery (late deliveries)\n",
    "order_df[order_df['order_estimated_delivery_date'] < order_df['order_delivered_customer_date']]"
   ]
  },
  {
   "cell_type": "code",
   "execution_count": null,
   "metadata": {
    "id": "iJALuR-TVnw4"
   },
   "outputs": [],
   "source": [
    "order_df['delivery_status'] = np.where(\n",
    "    order_df['order_delivered_customer_date'] > order_df['order_estimated_delivery_date'],\n",
    "    'Late',\n",
    "    'On time'\n",
    ")\n"
   ]
  },
  {
   "cell_type": "code",
   "execution_count": null,
   "metadata": {
    "id": "jTw1wis9Vnuv"
   },
   "outputs": [],
   "source": [
    "fig = px.histogram(order_df, x='delivery_status',\n",
    "                   title='Delivery Status: On Time vs Late',\n",
    "                   color='delivery_status',\n",
    "                   color_discrete_sequence=['green', 'red'])\n",
    "\n",
    "fig.show()\n"
   ]
  },
  {
   "cell_type": "code",
   "execution_count": null,
   "metadata": {
    "id": "OIWDXvk1Vnr7"
   },
   "outputs": [],
   "source": [
    "order_df.info()\n"
   ]
  },
  {
   "cell_type": "code",
   "execution_count": null,
   "metadata": {
    "id": "SMPBGxytVnoh"
   },
   "outputs": [],
   "source": [
    "# Extract month , day , hour from purchas time\n",
    "order_df['purchase_hour'] = order_df['order_purchase_timestamp'].dt.hour\n",
    "order_df['purchase_day'] = order_df['order_purchase_timestamp'].dt.day\n",
    "order_df['purchase_month'] = order_df['order_purchase_timestamp'].dt.month"
   ]
  },
  {
   "cell_type": "code",
   "execution_count": null,
   "metadata": {
    "id": "YfsE8WFsVnmr"
   },
   "outputs": [],
   "source": [
    "order_df.loc[:,'order_purchase_timestamp':'purchase_month']"
   ]
  },
  {
   "cell_type": "code",
   "execution_count": null,
   "metadata": {
    "id": "w8JwUP1QVniw"
   },
   "outputs": [],
   "source": [
    "import plotly.express as px\n",
    "\n",
    "fig = px.histogram(order_df, x='purchase_hour',\n",
    "                   title='Orders by Hour of the Day',\n",
    "                   nbins=50,\n",
    "            )\n",
    "\n",
    "fig.update_layout(xaxis_title='Hour of Day (0–23)', yaxis_title='Number of Orders')\n",
    "fig.show()"
   ]
  },
  {
   "cell_type": "code",
   "execution_count": null,
   "metadata": {
    "id": "dSaDN65CVnhe"
   },
   "outputs": [],
   "source": [
    "fig = px.histogram(order_df, x='purchase_day',\n",
    "                   nbins=120,\n",
    "                   title='Orders by Day of the Month',\n",
    "                   color_discrete_sequence=['darkviolet'])\n",
    "\n",
    "fig.update_layout(xaxis_title='Day of Month (1–31)', yaxis_title='Number of Orders')\n",
    "fig.show()\n"
   ]
  },
  {
   "cell_type": "code",
   "execution_count": null,
   "metadata": {
    "id": "rzdxn20tVndS"
   },
   "outputs": [],
   "source": [
    "# Optional: Convert month number to month name\n",
    "order_df['purchase_month_name'] = order_df['order_purchase_timestamp'].dt.strftime('%B')\n",
    "\n",
    "fig = px.histogram(order_df, x='purchase_month_name',\n",
    "                   category_orders={'purchase_month_name': ['January','February','March','April','May','June',\n",
    "                                                            'July','August','September','October','November','December']},\n",
    "                   title='Orders by Month',\n",
    "                   color_discrete_sequence=['tomato'])\n",
    "fig.update_layout(xaxis_title='Month', yaxis_title='Number of Orders')\n",
    "fig.show()\n"
   ]
  },
  {
   "cell_type": "code",
   "execution_count": null,
   "metadata": {
    "id": "fFwV7FVGVncA"
   },
   "outputs": [],
   "source": [
    "order_df.info()\n"
   ]
  },
  {
   "cell_type": "code",
   "execution_count": null,
   "metadata": {
    "id": "Xf2oijaRVnYJ"
   },
   "outputs": [],
   "source": [
    "order_df.head()\n"
   ]
  },
  {
   "cell_type": "markdown",
   "metadata": {
    "id": "deh-0uK7XYJe"
   },
   "source": [
    "## Seller"
   ]
  },
  {
   "cell_type": "code",
   "execution_count": null,
   "metadata": {
    "id": "4Btgv6fPVnW1"
   },
   "outputs": [],
   "source": [
    "seller_df.head()\n"
   ]
  },
  {
   "cell_type": "code",
   "execution_count": null,
   "metadata": {
    "id": "zecCeFumW9za"
   },
   "outputs": [],
   "source": [
    "seller_df.info()\n"
   ]
  },
  {
   "cell_type": "code",
   "execution_count": null,
   "metadata": {
    "id": "Xl5T_jbIW9xz"
   },
   "outputs": [],
   "source": [
    "seller_df.isnull().sum()\n"
   ]
  },
  {
   "cell_type": "code",
   "execution_count": null,
   "metadata": {
    "id": "EfEvZ29wW9ts"
   },
   "outputs": [],
   "source": [
    "seller_df.duplicated().sum()\n"
   ]
  },
  {
   "cell_type": "code",
   "execution_count": null,
   "metadata": {
    "id": "EHwcKEE1W9sF"
   },
   "outputs": [],
   "source": [
    "# Count number of sellers by state\n",
    "seller_state_counts = seller_df['seller_state'].value_counts().reset_index()\n",
    "seller_state_counts.columns = ['seller_state', 'count']\n",
    "\n",
    "# Plot with Plotly\n",
    "fig = px.bar(seller_state_counts,\n",
    "             x='seller_state',\n",
    "             y='count',\n",
    "             title='Number of Sellers by State',\n",
    "             color='count',  # Optional: adds color gradient\n",
    "             color_continuous_scale='RdBu')  # Similar to \"coolwarm\"\n",
    "\n",
    "fig.update_layout(xaxis_title='State', yaxis_title='Number of Sellers')\n",
    "fig.show()\n"
   ]
  },
  {
   "cell_type": "code",
   "execution_count": null,
   "metadata": {
    "id": "-YbVb0MrW9oM"
   },
   "outputs": [],
   "source": [
    "# Get the top 10 cities\n",
    "top_cities = seller_df['seller_city'].value_counts().nlargest(10).reset_index()\n",
    "top_cities.columns = ['seller_city', 'count']\n",
    "\n",
    "# Plot with Plotly\n",
    "fig = px.bar(top_cities,\n",
    "             x='seller_city',\n",
    "             y='count',\n",
    "             title='Top 10 Seller Cities',\n",
    "             color='count',  # Optional: adds color gradient\n",
    "             color_continuous_scale='RdBu')  # Similar to \"coolwarm\"\n",
    "\n",
    "fig.update_layout(xaxis_title='City', yaxis_title='Number of Sellers')\n",
    "\n",
    "# Rotate x-axis labels for readability\n",
    "fig.update_xaxes(tickangle=45)\n",
    "\n",
    "fig.show()"
   ]
  },
  {
   "cell_type": "code",
   "execution_count": null,
   "metadata": {
    "id": "Llt5Qq3YXHxt"
   },
   "outputs": [],
   "source": [
    "# check for inconsistency\n",
    "# Group by seller_id and count unique zip, city, and state\n",
    "seller_df.groupby('seller_id').agg({\n",
    "    'seller_zip_code_prefix': 'nunique',\n",
    "    'seller_city': 'nunique',\n",
    "    'seller_state': 'nunique'\n",
    "}).query('seller_zip_code_prefix > 1 or seller_city > 1 or seller_state > 1')\n"
   ]
  },
  {
   "cell_type": "code",
   "execution_count": null,
   "metadata": {
    "id": "jgcJeNEOXHv0"
   },
   "outputs": [],
   "source": [
    "# Multiple cities or states for same zip prefix\n",
    "seller_df.groupby('seller_zip_code_prefix').agg({\n",
    "    'seller_city': 'nunique',\n",
    "    'seller_state': 'nunique'\n",
    "}).query('seller_city > 1 or seller_state > 1')"
   ]
  },
  {
   "cell_type": "code",
   "execution_count": null,
   "metadata": {
    "id": "Mf6K33GeXHr8"
   },
   "outputs": [],
   "source": [
    "# remove city and status\n",
    "seller_df=seller_df.drop('seller_city',axis=1)\n",
    "seller_df=seller_df.drop('seller_state',axis=1)"
   ]
  },
  {
   "cell_type": "code",
   "execution_count": null,
   "metadata": {
    "id": "NtSaQXvTXHp9"
   },
   "outputs": [],
   "source": [
    "seller_df.info()\n"
   ]
  },
  {
   "cell_type": "markdown",
   "metadata": {
    "id": "WJi3eUbUXTHd"
   },
   "source": [
    "## Product"
   ]
  },
  {
   "cell_type": "code",
   "execution_count": null,
   "metadata": {
    "id": "d9qxDmkLXHf2"
   },
   "outputs": [],
   "source": [
    "product_df.head()\n"
   ]
  },
  {
   "cell_type": "code",
   "execution_count": null,
   "metadata": {
    "id": "MTrrGpX4W9mo"
   },
   "outputs": [],
   "source": [
    "product_df.info()\n"
   ]
  },
  {
   "cell_type": "code",
   "execution_count": null,
   "metadata": {
    "id": "F2aQGX9DXc14"
   },
   "outputs": [],
   "source": [
    "product_df.isnull().sum()\n"
   ]
  },
  {
   "cell_type": "code",
   "execution_count": null,
   "metadata": {
    "id": "9zpXi2EeXcz9"
   },
   "outputs": [],
   "source": [
    "product_df.dropna(inplace=True)\n"
   ]
  },
  {
   "cell_type": "code",
   "execution_count": null,
   "metadata": {
    "id": "XRvNmhFyXcrR"
   },
   "outputs": [],
   "source": [
    "product_df.isnull().sum()\n"
   ]
  },
  {
   "cell_type": "code",
   "execution_count": null,
   "metadata": {
    "id": "j-OSEyjgXcpG"
   },
   "outputs": [],
   "source": [
    "product_translation_df.head()\n"
   ]
  },
  {
   "cell_type": "code",
   "execution_count": null,
   "metadata": {
    "id": "5DYy4KWbXcmC"
   },
   "outputs": [],
   "source": [
    "product_translation_df.info()\n"
   ]
  },
  {
   "cell_type": "code",
   "execution_count": null,
   "metadata": {
    "id": "QN5xQnnmXcjk"
   },
   "outputs": [],
   "source": [
    "product_translation_df.info()\n"
   ]
  },
  {
   "cell_type": "code",
   "execution_count": null,
   "metadata": {
    "id": "S5jkGW-dXcfx"
   },
   "outputs": [],
   "source": [
    "product_translation_df.isnull().sum()\n"
   ]
  },
  {
   "cell_type": "code",
   "execution_count": null,
   "metadata": {
    "id": "J5Tv9g0SXcd4"
   },
   "outputs": [],
   "source": [
    "# First, make sure the merge key is properly formatted (no leading/trailing spaces)\n",
    "product_df['product_category_name'] = product_df['product_category_name'].str.strip()\n",
    "product_translation_df['product_category_name'] = product_translation_df['product_category_name'].str.strip()\n",
    "\n",
    "# Now create a dictionary to map Portuguese to English\n",
    "category_translation_dict = dict(zip(\n",
    "    product_translation_df['product_category_name'],\n",
    "    product_translation_df['product_category_name_english']\n",
    "))\n",
    "\n",
    "# Replace the values in the product_df using this dictionary\n",
    "product_df['product_category_name'] = product_df['product_category_name'].map(category_translation_dict)\n"
   ]
  },
  {
   "cell_type": "code",
   "execution_count": null,
   "metadata": {
    "id": "uNipGq_IX0YF"
   },
   "outputs": [],
   "source": [
    "product_df.head()\n"
   ]
  },
  {
   "cell_type": "code",
   "execution_count": null,
   "metadata": {
    "id": "SGE557IZX0UT"
   },
   "outputs": [],
   "source": [
    "product_df['product_name_lenght'].value_counts()\n"
   ]
  },
  {
   "cell_type": "code",
   "execution_count": null,
   "metadata": {
    "id": "2fjHGJnQX0SO"
   },
   "outputs": [],
   "source": [
    "product_df['product_category_name'].value_counts()\n"
   ]
  },
  {
   "cell_type": "code",
   "execution_count": null,
   "metadata": {
    "id": "OYvAZ5ROX0O1"
   },
   "outputs": [],
   "source": [
    "fig = px.histogram(product_df, x='product_category_name', title='Product Count by Category')\n",
    "fig.update_xaxes(categoryorder='total descending')\n",
    "fig.show()\n"
   ]
  },
  {
   "cell_type": "code",
   "execution_count": null,
   "metadata": {
    "id": "6bThcjLaX0Mz"
   },
   "outputs": [],
   "source": [
    "import plotly.graph_objects as go\n",
    "\n",
    "fig = go.Figure()\n",
    "fig.add_trace(go.Box(y=product_df['product_weight_g'], name='Weight (g)'))\n",
    "fig.add_trace(go.Box(y=product_df['product_length_cm'], name='Length (cm)'))\n",
    "fig.add_trace(go.Box(y=product_df['product_height_cm'], name='Height (cm)'))\n",
    "fig.add_trace(go.Box(y=product_df['product_width_cm'], name='Width (cm)'))\n",
    "fig.update_layout(title='Boxplot of Product Dimensions and Weight')\n",
    "fig.show()\n"
   ]
  },
  {
   "cell_type": "code",
   "execution_count": null,
   "metadata": {
    "id": "35qTOc5UYAHX"
   },
   "outputs": [],
   "source": [
    "numeric_cols = ['product_weight_g', 'product_length_cm',\n",
    "                'product_height_cm', 'product_width_cm']\n",
    "\n",
    "for col in numeric_cols:\n",
    "    fig = px.histogram(product_df, x=col, nbins=50, title=f'Distribution of {col}')\n",
    "    fig.show()\n"
   ]
  },
  {
   "cell_type": "code",
   "execution_count": null,
   "metadata": {
    "id": "Io-MoCuUYAFo"
   },
   "outputs": [],
   "source": [
    "# Get the volume of the product\n",
    "product_df['product_volume_cm3'] = product_df['product_length_cm'] * product_df['product_height_cm'] * product_df['product_width_cm']"
   ]
  },
  {
   "cell_type": "code",
   "execution_count": null,
   "metadata": {
    "id": "LMcbCWynX_-2"
   },
   "outputs": [],
   "source": [
    "# drop product_description_lenght and product_photos_qty\n",
    "product_df.drop(['product_description_lenght', 'product_photos_qty'], axis=1, inplace=True)\n"
   ]
  },
  {
   "cell_type": "code",
   "execution_count": null,
   "metadata": {
    "id": "PQGHL6zOX_7t"
   },
   "outputs": [],
   "source": [
    "product_df.info()\n"
   ]
  },
  {
   "cell_type": "markdown",
   "metadata": {
    "id": "AenNlCgcZQt5"
   },
   "source": [
    "# Payment"
   ]
  },
  {
   "cell_type": "code",
   "execution_count": null,
   "metadata": {
    "id": "HfTK7jeeZQg9"
   },
   "outputs": [],
   "source": [
    "df_pay.head(70)\n"
   ]
  },
  {
   "cell_type": "code",
   "execution_count": null,
   "metadata": {
    "id": "eUUfLxoCZQdI"
   },
   "outputs": [],
   "source": [
    "df_pay.info()\n"
   ]
  },
  {
   "cell_type": "code",
   "execution_count": null,
   "metadata": {
    "id": "D8KZsJexZQbM"
   },
   "outputs": [],
   "source": [
    "df_pay.describe()\n"
   ]
  },
  {
   "cell_type": "code",
   "execution_count": null,
   "metadata": {
    "id": "-YB1tqL2ZQXu"
   },
   "outputs": [],
   "source": [
    "df_pay.isnull().sum()\n"
   ]
  },
  {
   "cell_type": "code",
   "execution_count": null,
   "metadata": {
    "id": "XPIn07daZQVr"
   },
   "outputs": [],
   "source": [
    "df_pay['payment_type'].value_counts()\n"
   ]
  },
  {
   "cell_type": "code",
   "execution_count": null,
   "metadata": {
    "id": "LNA4U6N4ZQSM"
   },
   "outputs": [],
   "source": [
    "df_pay['payment_installments'].value_counts()\n"
   ]
  },
  {
   "cell_type": "code",
   "execution_count": null,
   "metadata": {
    "id": "1wy-Ty64ZQQI"
   },
   "outputs": [],
   "source": [
    "df_pay['payment_sequential'].value_counts()\n"
   ]
  },
  {
   "cell_type": "code",
   "execution_count": null,
   "metadata": {
    "id": "tzLjJhcZZQM9"
   },
   "outputs": [],
   "source": [
    "df_pay['order_id'].unique().sum()\n"
   ]
  },
  {
   "cell_type": "code",
   "execution_count": null,
   "metadata": {
    "id": "FQqu82OqZQLD"
   },
   "outputs": [],
   "source": [
    "print(df_pay['payment_type'].unique())\n",
    "print(\"number of uniqeue values in column payment type\",len(df_pay['payment_type'].unique()))"
   ]
  },
  {
   "cell_type": "code",
   "execution_count": null,
   "metadata": {
    "id": "RMCVHmwnZQH9"
   },
   "outputs": [],
   "source": [
    "print(df_pay[df_pay.payment_type=='not_defined'])\n"
   ]
  },
  {
   "cell_type": "code",
   "execution_count": null,
   "metadata": {
    "id": "ozrjnAAkZQF0"
   },
   "outputs": [],
   "source": [
    "print(df_pay['payment_sequential'].unique())\n",
    "\n",
    "print(\"number of uniqeue values in column payment type\",len(df_pay['payment_sequential'].unique()))"
   ]
  },
  {
   "cell_type": "code",
   "execution_count": null,
   "metadata": {
    "id": "CHkM4E0MZQCP"
   },
   "outputs": [],
   "source": [
    "df_pay.duplicated().sum()\n"
   ]
  },
  {
   "cell_type": "code",
   "execution_count": null,
   "metadata": {
    "id": "MfShLIE8ZlIs"
   },
   "outputs": [],
   "source": [
    "print((df_pay[\"payment_installments\"] == 0).sum())\n",
    "print((df_pay [\"payment_value\"] == 0).sum())"
   ]
  },
  {
   "cell_type": "code",
   "execution_count": null,
   "metadata": {
    "id": "Am85GAMgZlGk"
   },
   "outputs": [],
   "source": [
    "#drop missing value form payment data type\n",
    "df_pay = df_pay[df_pay.payment_type != 'not_defined']"
   ]
  },
  {
   "cell_type": "code",
   "execution_count": null,
   "metadata": {
    "id": "80EWD3o0ZlAw"
   },
   "outputs": [],
   "source": [
    "#drop zero value from data\n",
    "df_pay.payment_installments=df_pay.payment_installments !=0\n",
    "df_pay.payment_value=df_pay.payment_value !=0\n"
   ]
  },
  {
   "cell_type": "code",
   "execution_count": null,
   "metadata": {
    "id": "2A-KiSu2ZtMw"
   },
   "outputs": [],
   "source": [
    "df_pay[\"payment_value\"] = df_pay[\"payment_value\"].astype(float)\n",
    "df_pay[\"payment_installments\"] = df_pay[\"payment_installments\"].astype(int)\n",
    "\n",
    "df_pay[\"avg_payment_value_per_installment\"] = df_pay[\"payment_value\"] / df_pay[\"payment_installments\"]\n",
    "df_pay[\"avg_payment_value_per_installment\"].fillna(0, inplace=True)"
   ]
  },
  {
   "cell_type": "code",
   "execution_count": null,
   "metadata": {
    "id": "d2DxiAtJZk-h"
   },
   "outputs": [],
   "source": [
    "df_pay.head(20)\n"
   ]
  },
  {
   "cell_type": "code",
   "execution_count": null,
   "metadata": {
    "id": "Zu6UKPETZQAX"
   },
   "outputs": [],
   "source": [
    "df_pay.info()\n"
   ]
  },
  {
   "cell_type": "code",
   "execution_count": null,
   "metadata": {
    "id": "jGoyRjNmZ9o5"
   },
   "outputs": [],
   "source": [
    "plt.figure(figsize=(8, 5))\n",
    "sns.countplot(data=df_pay, x=\"payment_installments\", palette=\"viridis\")\n",
    "plt.title(\"Distribution of Payment Installments\")\n",
    "plt.xlabel(\"Number of Installments\")\n",
    "plt.ylabel(\"Count\")\n",
    "plt.grid(axis='y')\n",
    "plt.show()"
   ]
  },
  {
   "cell_type": "code",
   "execution_count": null,
   "metadata": {
    "id": "cou16mWMZ9l1"
   },
   "outputs": [],
   "source": [
    "plt.figure(figsize=(8, 5))\n",
    "sns.countplot(data=df_pay, x=\"payment_type\", order=df_pay[\"payment_type\"].value_counts().index)\n",
    "plt.title(\"Count of Payment Methods\")\n",
    "plt.xlabel(\"Payment Type\")\n",
    "plt.ylabel(\"Count\")\n",
    "plt.xticks(rotation=45)\n",
    "plt.show()"
   ]
  },
  {
   "cell_type": "markdown",
   "metadata": {
    "id": "mM2ZAPi-astD"
   },
   "source": [
    "## Geolocation\n"
   ]
  },
  {
   "cell_type": "code",
   "execution_count": null,
   "metadata": {
    "colab": {
     "base_uri": "https://localhost:8080/",
     "height": 206
    },
    "executionInfo": {
     "elapsed": 81,
     "status": "ok",
     "timestamp": 1746783744624,
     "user": {
      "displayName": "Amira Kamel",
      "userId": "17694101562792701289"
     },
     "user_tz": -180
    },
    "id": "KRH_4TL-Z9iO",
    "outputId": "1f53abf1-55b1-4cd5-d511-10d7f5244399"
   },
   "outputs": [
    {
     "data": {
      "application/vnd.google.colaboratory.intrinsic+json": {
       "type": "dataframe",
       "variable_name": "df_geoloca"
      },
      "text/html": [
       "\n",
       "  <div id=\"df-6e981143-d545-418b-b179-fd73d07d0a69\" class=\"colab-df-container\">\n",
       "    <div>\n",
       "<style scoped>\n",
       "    .dataframe tbody tr th:only-of-type {\n",
       "        vertical-align: middle;\n",
       "    }\n",
       "\n",
       "    .dataframe tbody tr th {\n",
       "        vertical-align: top;\n",
       "    }\n",
       "\n",
       "    .dataframe thead th {\n",
       "        text-align: right;\n",
       "    }\n",
       "</style>\n",
       "<table border=\"1\" class=\"dataframe\">\n",
       "  <thead>\n",
       "    <tr style=\"text-align: right;\">\n",
       "      <th></th>\n",
       "      <th>geolocation_zip_code_prefix</th>\n",
       "      <th>geolocation_lat</th>\n",
       "      <th>geolocation_lng</th>\n",
       "      <th>geolocation_city</th>\n",
       "      <th>geolocation_state</th>\n",
       "    </tr>\n",
       "  </thead>\n",
       "  <tbody>\n",
       "    <tr>\n",
       "      <th>0</th>\n",
       "      <td>1037</td>\n",
       "      <td>-23.545621</td>\n",
       "      <td>-46.639292</td>\n",
       "      <td>sao paulo</td>\n",
       "      <td>SP</td>\n",
       "    </tr>\n",
       "    <tr>\n",
       "      <th>1</th>\n",
       "      <td>1046</td>\n",
       "      <td>-23.546081</td>\n",
       "      <td>-46.644820</td>\n",
       "      <td>sao paulo</td>\n",
       "      <td>SP</td>\n",
       "    </tr>\n",
       "    <tr>\n",
       "      <th>2</th>\n",
       "      <td>1046</td>\n",
       "      <td>-23.546129</td>\n",
       "      <td>-46.642951</td>\n",
       "      <td>sao paulo</td>\n",
       "      <td>SP</td>\n",
       "    </tr>\n",
       "    <tr>\n",
       "      <th>3</th>\n",
       "      <td>1041</td>\n",
       "      <td>-23.544392</td>\n",
       "      <td>-46.639499</td>\n",
       "      <td>sao paulo</td>\n",
       "      <td>SP</td>\n",
       "    </tr>\n",
       "    <tr>\n",
       "      <th>4</th>\n",
       "      <td>1035</td>\n",
       "      <td>-23.541578</td>\n",
       "      <td>-46.641607</td>\n",
       "      <td>sao paulo</td>\n",
       "      <td>SP</td>\n",
       "    </tr>\n",
       "  </tbody>\n",
       "</table>\n",
       "</div>\n",
       "    <div class=\"colab-df-buttons\">\n",
       "\n",
       "  <div class=\"colab-df-container\">\n",
       "    <button class=\"colab-df-convert\" onclick=\"convertToInteractive('df-6e981143-d545-418b-b179-fd73d07d0a69')\"\n",
       "            title=\"Convert this dataframe to an interactive table.\"\n",
       "            style=\"display:none;\">\n",
       "\n",
       "  <svg xmlns=\"http://www.w3.org/2000/svg\" height=\"24px\" viewBox=\"0 -960 960 960\">\n",
       "    <path d=\"M120-120v-720h720v720H120Zm60-500h600v-160H180v160Zm220 220h160v-160H400v160Zm0 220h160v-160H400v160ZM180-400h160v-160H180v160Zm440 0h160v-160H620v160ZM180-180h160v-160H180v160Zm440 0h160v-160H620v160Z\"/>\n",
       "  </svg>\n",
       "    </button>\n",
       "\n",
       "  <style>\n",
       "    .colab-df-container {\n",
       "      display:flex;\n",
       "      gap: 12px;\n",
       "    }\n",
       "\n",
       "    .colab-df-convert {\n",
       "      background-color: #E8F0FE;\n",
       "      border: none;\n",
       "      border-radius: 50%;\n",
       "      cursor: pointer;\n",
       "      display: none;\n",
       "      fill: #1967D2;\n",
       "      height: 32px;\n",
       "      padding: 0 0 0 0;\n",
       "      width: 32px;\n",
       "    }\n",
       "\n",
       "    .colab-df-convert:hover {\n",
       "      background-color: #E2EBFA;\n",
       "      box-shadow: 0px 1px 2px rgba(60, 64, 67, 0.3), 0px 1px 3px 1px rgba(60, 64, 67, 0.15);\n",
       "      fill: #174EA6;\n",
       "    }\n",
       "\n",
       "    .colab-df-buttons div {\n",
       "      margin-bottom: 4px;\n",
       "    }\n",
       "\n",
       "    [theme=dark] .colab-df-convert {\n",
       "      background-color: #3B4455;\n",
       "      fill: #D2E3FC;\n",
       "    }\n",
       "\n",
       "    [theme=dark] .colab-df-convert:hover {\n",
       "      background-color: #434B5C;\n",
       "      box-shadow: 0px 1px 3px 1px rgba(0, 0, 0, 0.15);\n",
       "      filter: drop-shadow(0px 1px 2px rgba(0, 0, 0, 0.3));\n",
       "      fill: #FFFFFF;\n",
       "    }\n",
       "  </style>\n",
       "\n",
       "    <script>\n",
       "      const buttonEl =\n",
       "        document.querySelector('#df-6e981143-d545-418b-b179-fd73d07d0a69 button.colab-df-convert');\n",
       "      buttonEl.style.display =\n",
       "        google.colab.kernel.accessAllowed ? 'block' : 'none';\n",
       "\n",
       "      async function convertToInteractive(key) {\n",
       "        const element = document.querySelector('#df-6e981143-d545-418b-b179-fd73d07d0a69');\n",
       "        const dataTable =\n",
       "          await google.colab.kernel.invokeFunction('convertToInteractive',\n",
       "                                                    [key], {});\n",
       "        if (!dataTable) return;\n",
       "\n",
       "        const docLinkHtml = 'Like what you see? Visit the ' +\n",
       "          '<a target=\"_blank\" href=https://colab.research.google.com/notebooks/data_table.ipynb>data table notebook</a>'\n",
       "          + ' to learn more about interactive tables.';\n",
       "        element.innerHTML = '';\n",
       "        dataTable['output_type'] = 'display_data';\n",
       "        await google.colab.output.renderOutput(dataTable, element);\n",
       "        const docLink = document.createElement('div');\n",
       "        docLink.innerHTML = docLinkHtml;\n",
       "        element.appendChild(docLink);\n",
       "      }\n",
       "    </script>\n",
       "  </div>\n",
       "\n",
       "\n",
       "    <div id=\"df-94245232-0113-43a7-8dbe-4a81d754c0e0\">\n",
       "      <button class=\"colab-df-quickchart\" onclick=\"quickchart('df-94245232-0113-43a7-8dbe-4a81d754c0e0')\"\n",
       "                title=\"Suggest charts\"\n",
       "                style=\"display:none;\">\n",
       "\n",
       "<svg xmlns=\"http://www.w3.org/2000/svg\" height=\"24px\"viewBox=\"0 0 24 24\"\n",
       "     width=\"24px\">\n",
       "    <g>\n",
       "        <path d=\"M19 3H5c-1.1 0-2 .9-2 2v14c0 1.1.9 2 2 2h14c1.1 0 2-.9 2-2V5c0-1.1-.9-2-2-2zM9 17H7v-7h2v7zm4 0h-2V7h2v10zm4 0h-2v-4h2v4z\"/>\n",
       "    </g>\n",
       "</svg>\n",
       "      </button>\n",
       "\n",
       "<style>\n",
       "  .colab-df-quickchart {\n",
       "      --bg-color: #E8F0FE;\n",
       "      --fill-color: #1967D2;\n",
       "      --hover-bg-color: #E2EBFA;\n",
       "      --hover-fill-color: #174EA6;\n",
       "      --disabled-fill-color: #AAA;\n",
       "      --disabled-bg-color: #DDD;\n",
       "  }\n",
       "\n",
       "  [theme=dark] .colab-df-quickchart {\n",
       "      --bg-color: #3B4455;\n",
       "      --fill-color: #D2E3FC;\n",
       "      --hover-bg-color: #434B5C;\n",
       "      --hover-fill-color: #FFFFFF;\n",
       "      --disabled-bg-color: #3B4455;\n",
       "      --disabled-fill-color: #666;\n",
       "  }\n",
       "\n",
       "  .colab-df-quickchart {\n",
       "    background-color: var(--bg-color);\n",
       "    border: none;\n",
       "    border-radius: 50%;\n",
       "    cursor: pointer;\n",
       "    display: none;\n",
       "    fill: var(--fill-color);\n",
       "    height: 32px;\n",
       "    padding: 0;\n",
       "    width: 32px;\n",
       "  }\n",
       "\n",
       "  .colab-df-quickchart:hover {\n",
       "    background-color: var(--hover-bg-color);\n",
       "    box-shadow: 0 1px 2px rgba(60, 64, 67, 0.3), 0 1px 3px 1px rgba(60, 64, 67, 0.15);\n",
       "    fill: var(--button-hover-fill-color);\n",
       "  }\n",
       "\n",
       "  .colab-df-quickchart-complete:disabled,\n",
       "  .colab-df-quickchart-complete:disabled:hover {\n",
       "    background-color: var(--disabled-bg-color);\n",
       "    fill: var(--disabled-fill-color);\n",
       "    box-shadow: none;\n",
       "  }\n",
       "\n",
       "  .colab-df-spinner {\n",
       "    border: 2px solid var(--fill-color);\n",
       "    border-color: transparent;\n",
       "    border-bottom-color: var(--fill-color);\n",
       "    animation:\n",
       "      spin 1s steps(1) infinite;\n",
       "  }\n",
       "\n",
       "  @keyframes spin {\n",
       "    0% {\n",
       "      border-color: transparent;\n",
       "      border-bottom-color: var(--fill-color);\n",
       "      border-left-color: var(--fill-color);\n",
       "    }\n",
       "    20% {\n",
       "      border-color: transparent;\n",
       "      border-left-color: var(--fill-color);\n",
       "      border-top-color: var(--fill-color);\n",
       "    }\n",
       "    30% {\n",
       "      border-color: transparent;\n",
       "      border-left-color: var(--fill-color);\n",
       "      border-top-color: var(--fill-color);\n",
       "      border-right-color: var(--fill-color);\n",
       "    }\n",
       "    40% {\n",
       "      border-color: transparent;\n",
       "      border-right-color: var(--fill-color);\n",
       "      border-top-color: var(--fill-color);\n",
       "    }\n",
       "    60% {\n",
       "      border-color: transparent;\n",
       "      border-right-color: var(--fill-color);\n",
       "    }\n",
       "    80% {\n",
       "      border-color: transparent;\n",
       "      border-right-color: var(--fill-color);\n",
       "      border-bottom-color: var(--fill-color);\n",
       "    }\n",
       "    90% {\n",
       "      border-color: transparent;\n",
       "      border-bottom-color: var(--fill-color);\n",
       "    }\n",
       "  }\n",
       "</style>\n",
       "\n",
       "      <script>\n",
       "        async function quickchart(key) {\n",
       "          const quickchartButtonEl =\n",
       "            document.querySelector('#' + key + ' button');\n",
       "          quickchartButtonEl.disabled = true;  // To prevent multiple clicks.\n",
       "          quickchartButtonEl.classList.add('colab-df-spinner');\n",
       "          try {\n",
       "            const charts = await google.colab.kernel.invokeFunction(\n",
       "                'suggestCharts', [key], {});\n",
       "          } catch (error) {\n",
       "            console.error('Error during call to suggestCharts:', error);\n",
       "          }\n",
       "          quickchartButtonEl.classList.remove('colab-df-spinner');\n",
       "          quickchartButtonEl.classList.add('colab-df-quickchart-complete');\n",
       "        }\n",
       "        (() => {\n",
       "          let quickchartButtonEl =\n",
       "            document.querySelector('#df-94245232-0113-43a7-8dbe-4a81d754c0e0 button');\n",
       "          quickchartButtonEl.style.display =\n",
       "            google.colab.kernel.accessAllowed ? 'block' : 'none';\n",
       "        })();\n",
       "      </script>\n",
       "    </div>\n",
       "\n",
       "    </div>\n",
       "  </div>\n"
      ],
      "text/plain": [
       "   geolocation_zip_code_prefix  geolocation_lat  geolocation_lng  \\\n",
       "0                         1037       -23.545621       -46.639292   \n",
       "1                         1046       -23.546081       -46.644820   \n",
       "2                         1046       -23.546129       -46.642951   \n",
       "3                         1041       -23.544392       -46.639499   \n",
       "4                         1035       -23.541578       -46.641607   \n",
       "\n",
       "  geolocation_city geolocation_state  \n",
       "0        sao paulo                SP  \n",
       "1        sao paulo                SP  \n",
       "2        sao paulo                SP  \n",
       "3        sao paulo                SP  \n",
       "4        sao paulo                SP  "
      ]
     },
     "execution_count": 9,
     "metadata": {},
     "output_type": "execute_result"
    }
   ],
   "source": [
    "df_geoloca.head()"
   ]
  },
  {
   "cell_type": "code",
   "execution_count": null,
   "metadata": {
    "id": "vljJlcJxZ9dv"
   },
   "outputs": [],
   "source": [
    "df_geoloca.shape\n"
   ]
  },
  {
   "cell_type": "code",
   "execution_count": null,
   "metadata": {
    "id": "R9C2jT0LZ9a3"
   },
   "outputs": [],
   "source": [
    "df_geoloca.info()\n"
   ]
  },
  {
   "cell_type": "code",
   "execution_count": null,
   "metadata": {
    "id": "dF9YjbXMZ9XN"
   },
   "outputs": [],
   "source": [
    "df_geoloca.describe()\n"
   ]
  },
  {
   "cell_type": "code",
   "execution_count": null,
   "metadata": {
    "id": "-jH55pGYZ9VC"
   },
   "outputs": [],
   "source": [
    "df_geoloca.isnull().sum()\n"
   ]
  },
  {
   "cell_type": "code",
   "execution_count": null,
   "metadata": {
    "id": "4ZlTNzY8Z9Sv"
   },
   "outputs": [],
   "source": [
    "df_geoloca['geolocation_state'].duplicated().sum()\n"
   ]
  },
  {
   "cell_type": "code",
   "execution_count": null,
   "metadata": {
    "id": "fp2ARUK8Z9No"
   },
   "outputs": [],
   "source": [
    "print(df_geoloca['geolocation_state'].unique())\n",
    "print(\"number of uniqeue values in column geolocatoin state\",len(df_geoloca['geolocation_state'].unique()))"
   ]
  },
  {
   "cell_type": "code",
   "execution_count": null,
   "metadata": {
    "id": "JEjOQ19jZ9JN"
   },
   "outputs": [],
   "source": [
    "df_geoloca['geolocation_state'].value_counts()\n"
   ]
  },
  {
   "cell_type": "code",
   "execution_count": null,
   "metadata": {
    "id": "yyqlbTasZ9GX"
   },
   "outputs": [],
   "source": [
    "print(df_geoloca['geolocation_city'].value_counts().head(20))\n",
    "print(\"number of uniqeue values in column geolocatoin city\",len(df_geoloca['geolocation_city'].unique()))"
   ]
  },
  {
   "cell_type": "code",
   "execution_count": null,
   "metadata": {
    "id": "9gD3dOkRZ9B2"
   },
   "outputs": [],
   "source": [
    "# Remove duplicates\n",
    "df_geoloca.drop_duplicates(inplace=True)\n"
   ]
  },
  {
   "cell_type": "code",
   "execution_count": null,
   "metadata": {
    "id": "o619oDQDbckX"
   },
   "outputs": [],
   "source": [
    "# Standardize city names (convert to lowercase and remove special characters)\n",
    "df_geoloca['geolocation_city'] = df_geoloca['geolocation_city'].str.lower().str.normalize('NFKD').str.encode('ascii', errors='ignore').str.decode('utf-8').str.strip()"
   ]
  },
  {
   "cell_type": "code",
   "execution_count": null,
   "metadata": {
    "id": "k8S4hlUDbciF"
   },
   "outputs": [],
   "source": [
    "#put the right daya type for numeric columns\n",
    "df_geoloca['geolocation_lat'] = df_geoloca['geolocation_lat'].astype(float)\n",
    "df_geoloca['geolocation_lng'] = df_geoloca['geolocation_lng'].astype(float)"
   ]
  },
  {
   "cell_type": "code",
   "execution_count": null,
   "metadata": {
    "id": "VCi_8FTcbcfF"
   },
   "outputs": [],
   "source": [
    "df_geoloca.head(5)\n",
    "df_geoloca.tail(5)"
   ]
  },
  {
   "cell_type": "code",
   "execution_count": null,
   "metadata": {
    "id": "DmM54jVdbcc0"
   },
   "outputs": [],
   "source": [
    "df_geoloca.info()\n"
   ]
  },
  {
   "cell_type": "code",
   "execution_count": null,
   "metadata": {
    "id": "F-MZrpJkbcZW"
   },
   "outputs": [],
   "source": [
    "plt.figure(figsize=(8, 5))\n",
    "df_geoloca[\"geolocation_state\"].value_counts().plot(kind=\"bar\")\n",
    "plt.title(\"Distribution of Orders by State\")\n",
    "plt.xlabel(\"State\")\n",
    "plt.ylabel(\"Count\")\n",
    "plt.xticks(rotation=45)\n",
    "plt.show()"
   ]
  },
  {
   "cell_type": "code",
   "execution_count": null,
   "metadata": {
    "id": "5d1scaCIbcXM"
   },
   "outputs": [],
   "source": [
    "plt.figure(figsize=(10, 6))\n",
    "most_common_cities = df_geoloca[\"geolocation_city\"].value_counts().head(20)\n",
    "most_common_cities.plot(kind=\"bar\", color='teal')\n",
    "plt.title(\"Top 20 Most Common Cities\")\n",
    "plt.xlabel(\"City\")\n",
    "plt.ylabel(\"Count\")\n",
    "plt.xticks(rotation=90)\n",
    "plt.show()\n"
   ]
  },
  {
   "cell_type": "code",
   "execution_count": null,
   "metadata": {
    "id": "aprAY1N3bv6t"
   },
   "outputs": [],
   "source": [
    "plt.figure(figsize=(10, 6))\n",
    "sns.scatterplot(data=df_geoloca, x=\"geolocation_lng\", y=\"geolocation_lat\", alpha=0.5)\n",
    "plt.title(\"Geolocation of Orders\")\n",
    "plt.xlabel(\"Longitude\")\n",
    "plt.ylabel(\"Latitude\")\n",
    "plt.show()\n"
   ]
  },
  {
   "cell_type": "markdown",
   "metadata": {
    "id": "h11zBQowoFCb"
   },
   "source": [
    "## Customer"
   ]
  },
  {
   "cell_type": "code",
   "execution_count": null,
   "metadata": {
    "id": "EyZXKnUUbv4X"
   },
   "outputs": [],
   "source": [
    "df_customer.head(5)\n"
   ]
  },
  {
   "cell_type": "code",
   "execution_count": null,
   "metadata": {
    "id": "yi-JC7gpbv0_"
   },
   "outputs": [],
   "source": [
    "df_customer.drop('customer_city',axis=1,inplace=True)\n"
   ]
  },
  {
   "cell_type": "code",
   "execution_count": null,
   "metadata": {
    "id": "81rMMkH9bvy7"
   },
   "outputs": [],
   "source": [
    "df_customer.drop('customer_state',axis=1,inplace=True)\n"
   ]
  },
  {
   "cell_type": "code",
   "execution_count": null,
   "metadata": {
    "id": "s9cE3-_ubvvr"
   },
   "outputs": [],
   "source": [
    "df_customer.drop('customer_zip_code_prdf_customerefix',axis=1,inplace=True)\n"
   ]
  },
  {
   "cell_type": "code",
   "execution_count": null,
   "metadata": {
    "id": "-rvDHoKrbvtg"
   },
   "outputs": [],
   "source": [
    "df_customer.info()\n"
   ]
  },
  {
   "cell_type": "code",
   "execution_count": null,
   "metadata": {
    "id": "nPziKuw8Z8-4"
   },
   "outputs": [],
   "source": [
    "df_customer.describe()\n"
   ]
  },
  {
   "cell_type": "code",
   "execution_count": null,
   "metadata": {
    "id": "-JDCX4z8oQt3"
   },
   "outputs": [],
   "source": [
    "df_customer.isnull().sum()\n"
   ]
  },
  {
   "cell_type": "code",
   "execution_count": null,
   "metadata": {
    "id": "h1jVnSsWoQqB"
   },
   "outputs": [],
   "source": [
    "df_customer['customer_unique_id'].value_counts()\n"
   ]
  },
  {
   "cell_type": "code",
   "execution_count": null,
   "metadata": {
    "id": "jbVjkcivoQma"
   },
   "outputs": [],
   "source": [
    "# to see the num of the unique values\n",
    "df_customer['customer_unique_id'].nunique()"
   ]
  },
  {
   "cell_type": "code",
   "execution_count": null,
   "metadata": {
    "id": "RB4MzxXWoQi6"
   },
   "outputs": [],
   "source": [
    "# to see  the unique values\n",
    "df_customer['customer_unique_id'].unique()"
   ]
  },
  {
   "cell_type": "code",
   "execution_count": null,
   "metadata": {
    "id": "CG1QTQJ9oQfS"
   },
   "outputs": [],
   "source": [
    "df_customer.duplicated().sum()\n"
   ]
  },
  {
   "cell_type": "code",
   "execution_count": null,
   "metadata": {
    "id": "gL-YmiRRoQbx"
   },
   "outputs": [],
   "source": [
    "# check for duplicates\n",
    "print(df_customer.duplicated().sum())# for rows\n",
    "print(df_customer.duplicated(subset='customer_unique_id').sum()) # for columns\n"
   ]
  },
  {
   "cell_type": "code",
   "execution_count": null,
   "metadata": {
    "colab": {
     "base_uri": "https://localhost:8080/",
     "height": 507
    },
    "executionInfo": {
     "elapsed": 1205,
     "status": "ok",
     "timestamp": 1746787443883,
     "user": {
      "displayName": "Amira Kamel",
      "userId": "17694101562792701289"
     },
     "user_tz": -180
    },
    "id": "qSxVyqUOoiD8",
    "outputId": "f34fa5e6-119e-4c6f-bb8f-fa388ff95f27"
   },
   "outputs": [
    {
     "data": {
      "image/png": "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",
      "text/plain": [
       "<Figure size 1000x500 with 1 Axes>"
      ]
     },
     "metadata": {},
     "output_type": "display_data"
    }
   ],
   "source": [
    "customer_order_counts = df_customer.groupby('customer_unique_id')['customer_id'].count()\n",
    "top_customers = customer_order_counts.sort_values(ascending=False).head(10)\n",
    "\n",
    "# Bar plot\n",
    "plt.figure(figsize=(10, 5))\n",
    "top_customers.plot(kind='bar', color='skyblue')\n",
    "plt.title('Top 10 Customers by Number of Orders')\n",
    "plt.xlabel('Customer Unique ID')\n",
    "plt.ylabel('Number of Orders')\n",
    "plt.xticks(rotation=45)\n",
    "plt.tight_layout()\n",
    "plt.show()\n"
   ]
  },
  {
   "cell_type": "markdown",
   "metadata": {
    "id": "kJnr2k75rZl7"
   },
   "source": [
    "## Reviews\n"
   ]
  },
  {
   "cell_type": "code",
   "execution_count": 5,
   "metadata": {
    "colab": {
     "base_uri": "https://localhost:8080/",
     "height": 261
    },
    "executionInfo": {
     "elapsed": 2353,
     "status": "ok",
     "timestamp": 1746804831577,
     "user": {
      "displayName": "Amira Kamel",
      "userId": "17694101562792701289"
     },
     "user_tz": -180
    },
    "id": "CG4IVfjJrjtn",
    "outputId": "b2eb1594-5527-4b0e-9d62-4f7effddb4a2"
   },
   "outputs": [
    {
     "data": {
      "application/vnd.google.colaboratory.intrinsic+json": {
       "summary": "{\n  \"name\": \"reviews_df\",\n  \"rows\": 99224,\n  \"fields\": [\n    {\n      \"column\": \"review_id\",\n      \"properties\": {\n        \"dtype\": \"string\",\n        \"num_unique_values\": 98410,\n        \"samples\": [\n          \"ce4db7bc68bf7fa8d618d214203b15a3\",\n          \"7c93bc469d3617c77df6aed62ee09477\",\n          \"f39646c4059692442fe5734784cd9d50\"\n        ],\n        \"semantic_type\": \"\",\n        \"description\": \"\"\n      }\n    },\n    {\n      \"column\": \"order_id\",\n      \"properties\": {\n        \"dtype\": \"string\",\n        \"num_unique_values\": 98673,\n        \"samples\": [\n          \"bbfb6afc6b09bb994e0093a008ec7675\",\n          \"182e6edb8cb190cada2690d7c7d78e76\",\n          \"99a3c8e51539b3ccb221a27cc29367f2\"\n        ],\n        \"semantic_type\": \"\",\n        \"description\": \"\"\n      }\n    },\n    {\n      \"column\": \"review_score\",\n      \"properties\": {\n        \"dtype\": \"number\",\n        \"std\": 1,\n        \"min\": 1,\n        \"max\": 5,\n        \"num_unique_values\": 5,\n        \"samples\": [\n          5,\n          2,\n          1\n        ],\n        \"semantic_type\": \"\",\n        \"description\": \"\"\n      }\n    },\n    {\n      \"column\": \"review_comment_title\",\n      \"properties\": {\n        \"dtype\": \"category\",\n        \"num_unique_values\": 4527,\n        \"samples\": [\n          \"O PRODUTO N\\u00c3O CHEGOU .\",\n          \"N\\u00e3o recebi retorno\",\n          \"Pedido com 10 toalhas \"\n        ],\n        \"semantic_type\": \"\",\n        \"description\": \"\"\n      }\n    },\n    {\n      \"column\": \"review_comment_message\",\n      \"properties\": {\n        \"dtype\": \"category\",\n        \"num_unique_values\": 36159,\n        \"samples\": [\n          \"Paguei dois produtos com 60 e s\\u00f3 veio um na nota fiscal consta duas unidades por\\u00e9m quando eu abri a caixa s\\u00f3 tinha uma unidade desde j\\u00e1 pe\\u00e7o v\\u00eania \",\n          \"Foi ate entregue antes do prazo... Parab\\u00e9ns.\",\n          \"prateleira de tamanho ideal ao que eu esperava,\"\n        ],\n        \"semantic_type\": \"\",\n        \"description\": \"\"\n      }\n    },\n    {\n      \"column\": \"review_creation_date\",\n      \"properties\": {\n        \"dtype\": \"object\",\n        \"num_unique_values\": 636,\n        \"samples\": [\n          \"2017-05-03 00:00:00\",\n          \"2017-03-13 00:00:00\",\n          \"2017-08-03 00:00:00\"\n        ],\n        \"semantic_type\": \"\",\n        \"description\": \"\"\n      }\n    },\n    {\n      \"column\": \"review_answer_timestamp\",\n      \"properties\": {\n        \"dtype\": \"object\",\n        \"num_unique_values\": 98248,\n        \"samples\": [\n          \"2018-08-23 13:09:13\",\n          \"2017-11-01 21:19:58\",\n          \"2017-07-20 11:07:29\"\n        ],\n        \"semantic_type\": \"\",\n        \"description\": \"\"\n      }\n    }\n  ]\n}",
       "type": "dataframe",
       "variable_name": "reviews_df"
      },
      "text/html": [
       "\n",
       "  <div id=\"df-21d3c042-0a12-4fa7-9eb6-d74ead10f98c\" class=\"colab-df-container\">\n",
       "    <div>\n",
       "<style scoped>\n",
       "    .dataframe tbody tr th:only-of-type {\n",
       "        vertical-align: middle;\n",
       "    }\n",
       "\n",
       "    .dataframe tbody tr th {\n",
       "        vertical-align: top;\n",
       "    }\n",
       "\n",
       "    .dataframe thead th {\n",
       "        text-align: right;\n",
       "    }\n",
       "</style>\n",
       "<table border=\"1\" class=\"dataframe\">\n",
       "  <thead>\n",
       "    <tr style=\"text-align: right;\">\n",
       "      <th></th>\n",
       "      <th>review_id</th>\n",
       "      <th>order_id</th>\n",
       "      <th>review_score</th>\n",
       "      <th>review_comment_title</th>\n",
       "      <th>review_comment_message</th>\n",
       "      <th>review_creation_date</th>\n",
       "      <th>review_answer_timestamp</th>\n",
       "    </tr>\n",
       "  </thead>\n",
       "  <tbody>\n",
       "    <tr>\n",
       "      <th>0</th>\n",
       "      <td>7bc2406110b926393aa56f80a40eba40</td>\n",
       "      <td>73fc7af87114b39712e6da79b0a377eb</td>\n",
       "      <td>4</td>\n",
       "      <td>NaN</td>\n",
       "      <td>NaN</td>\n",
       "      <td>2018-01-18 00:00:00</td>\n",
       "      <td>2018-01-18 21:46:59</td>\n",
       "    </tr>\n",
       "    <tr>\n",
       "      <th>1</th>\n",
       "      <td>80e641a11e56f04c1ad469d5645fdfde</td>\n",
       "      <td>a548910a1c6147796b98fdf73dbeba33</td>\n",
       "      <td>5</td>\n",
       "      <td>NaN</td>\n",
       "      <td>NaN</td>\n",
       "      <td>2018-03-10 00:00:00</td>\n",
       "      <td>2018-03-11 03:05:13</td>\n",
       "    </tr>\n",
       "    <tr>\n",
       "      <th>2</th>\n",
       "      <td>228ce5500dc1d8e020d8d1322874b6f0</td>\n",
       "      <td>f9e4b658b201a9f2ecdecbb34bed034b</td>\n",
       "      <td>5</td>\n",
       "      <td>NaN</td>\n",
       "      <td>NaN</td>\n",
       "      <td>2018-02-17 00:00:00</td>\n",
       "      <td>2018-02-18 14:36:24</td>\n",
       "    </tr>\n",
       "    <tr>\n",
       "      <th>3</th>\n",
       "      <td>e64fb393e7b32834bb789ff8bb30750e</td>\n",
       "      <td>658677c97b385a9be170737859d3511b</td>\n",
       "      <td>5</td>\n",
       "      <td>NaN</td>\n",
       "      <td>Recebi bem antes do prazo estipulado.</td>\n",
       "      <td>2017-04-21 00:00:00</td>\n",
       "      <td>2017-04-21 22:02:06</td>\n",
       "    </tr>\n",
       "    <tr>\n",
       "      <th>4</th>\n",
       "      <td>f7c4243c7fe1938f181bec41a392bdeb</td>\n",
       "      <td>8e6bfb81e283fa7e4f11123a3fb894f1</td>\n",
       "      <td>5</td>\n",
       "      <td>NaN</td>\n",
       "      <td>Parabéns lojas lannister adorei comprar pela I...</td>\n",
       "      <td>2018-03-01 00:00:00</td>\n",
       "      <td>2018-03-02 10:26:53</td>\n",
       "    </tr>\n",
       "  </tbody>\n",
       "</table>\n",
       "</div>\n",
       "    <div class=\"colab-df-buttons\">\n",
       "\n",
       "  <div class=\"colab-df-container\">\n",
       "    <button class=\"colab-df-convert\" onclick=\"convertToInteractive('df-21d3c042-0a12-4fa7-9eb6-d74ead10f98c')\"\n",
       "            title=\"Convert this dataframe to an interactive table.\"\n",
       "            style=\"display:none;\">\n",
       "\n",
       "  <svg xmlns=\"http://www.w3.org/2000/svg\" height=\"24px\" viewBox=\"0 -960 960 960\">\n",
       "    <path d=\"M120-120v-720h720v720H120Zm60-500h600v-160H180v160Zm220 220h160v-160H400v160Zm0 220h160v-160H400v160ZM180-400h160v-160H180v160Zm440 0h160v-160H620v160ZM180-180h160v-160H180v160Zm440 0h160v-160H620v160Z\"/>\n",
       "  </svg>\n",
       "    </button>\n",
       "\n",
       "  <style>\n",
       "    .colab-df-container {\n",
       "      display:flex;\n",
       "      gap: 12px;\n",
       "    }\n",
       "\n",
       "    .colab-df-convert {\n",
       "      background-color: #E8F0FE;\n",
       "      border: none;\n",
       "      border-radius: 50%;\n",
       "      cursor: pointer;\n",
       "      display: none;\n",
       "      fill: #1967D2;\n",
       "      height: 32px;\n",
       "      padding: 0 0 0 0;\n",
       "      width: 32px;\n",
       "    }\n",
       "\n",
       "    .colab-df-convert:hover {\n",
       "      background-color: #E2EBFA;\n",
       "      box-shadow: 0px 1px 2px rgba(60, 64, 67, 0.3), 0px 1px 3px 1px rgba(60, 64, 67, 0.15);\n",
       "      fill: #174EA6;\n",
       "    }\n",
       "\n",
       "    .colab-df-buttons div {\n",
       "      margin-bottom: 4px;\n",
       "    }\n",
       "\n",
       "    [theme=dark] .colab-df-convert {\n",
       "      background-color: #3B4455;\n",
       "      fill: #D2E3FC;\n",
       "    }\n",
       "\n",
       "    [theme=dark] .colab-df-convert:hover {\n",
       "      background-color: #434B5C;\n",
       "      box-shadow: 0px 1px 3px 1px rgba(0, 0, 0, 0.15);\n",
       "      filter: drop-shadow(0px 1px 2px rgba(0, 0, 0, 0.3));\n",
       "      fill: #FFFFFF;\n",
       "    }\n",
       "  </style>\n",
       "\n",
       "    <script>\n",
       "      const buttonEl =\n",
       "        document.querySelector('#df-21d3c042-0a12-4fa7-9eb6-d74ead10f98c button.colab-df-convert');\n",
       "      buttonEl.style.display =\n",
       "        google.colab.kernel.accessAllowed ? 'block' : 'none';\n",
       "\n",
       "      async function convertToInteractive(key) {\n",
       "        const element = document.querySelector('#df-21d3c042-0a12-4fa7-9eb6-d74ead10f98c');\n",
       "        const dataTable =\n",
       "          await google.colab.kernel.invokeFunction('convertToInteractive',\n",
       "                                                    [key], {});\n",
       "        if (!dataTable) return;\n",
       "\n",
       "        const docLinkHtml = 'Like what you see? Visit the ' +\n",
       "          '<a target=\"_blank\" href=https://colab.research.google.com/notebooks/data_table.ipynb>data table notebook</a>'\n",
       "          + ' to learn more about interactive tables.';\n",
       "        element.innerHTML = '';\n",
       "        dataTable['output_type'] = 'display_data';\n",
       "        await google.colab.output.renderOutput(dataTable, element);\n",
       "        const docLink = document.createElement('div');\n",
       "        docLink.innerHTML = docLinkHtml;\n",
       "        element.appendChild(docLink);\n",
       "      }\n",
       "    </script>\n",
       "  </div>\n",
       "\n",
       "\n",
       "    <div id=\"df-8a484f82-d477-41eb-8f5d-7b4d6af1fe64\">\n",
       "      <button class=\"colab-df-quickchart\" onclick=\"quickchart('df-8a484f82-d477-41eb-8f5d-7b4d6af1fe64')\"\n",
       "                title=\"Suggest charts\"\n",
       "                style=\"display:none;\">\n",
       "\n",
       "<svg xmlns=\"http://www.w3.org/2000/svg\" height=\"24px\"viewBox=\"0 0 24 24\"\n",
       "     width=\"24px\">\n",
       "    <g>\n",
       "        <path d=\"M19 3H5c-1.1 0-2 .9-2 2v14c0 1.1.9 2 2 2h14c1.1 0 2-.9 2-2V5c0-1.1-.9-2-2-2zM9 17H7v-7h2v7zm4 0h-2V7h2v10zm4 0h-2v-4h2v4z\"/>\n",
       "    </g>\n",
       "</svg>\n",
       "      </button>\n",
       "\n",
       "<style>\n",
       "  .colab-df-quickchart {\n",
       "      --bg-color: #E8F0FE;\n",
       "      --fill-color: #1967D2;\n",
       "      --hover-bg-color: #E2EBFA;\n",
       "      --hover-fill-color: #174EA6;\n",
       "      --disabled-fill-color: #AAA;\n",
       "      --disabled-bg-color: #DDD;\n",
       "  }\n",
       "\n",
       "  [theme=dark] .colab-df-quickchart {\n",
       "      --bg-color: #3B4455;\n",
       "      --fill-color: #D2E3FC;\n",
       "      --hover-bg-color: #434B5C;\n",
       "      --hover-fill-color: #FFFFFF;\n",
       "      --disabled-bg-color: #3B4455;\n",
       "      --disabled-fill-color: #666;\n",
       "  }\n",
       "\n",
       "  .colab-df-quickchart {\n",
       "    background-color: var(--bg-color);\n",
       "    border: none;\n",
       "    border-radius: 50%;\n",
       "    cursor: pointer;\n",
       "    display: none;\n",
       "    fill: var(--fill-color);\n",
       "    height: 32px;\n",
       "    padding: 0;\n",
       "    width: 32px;\n",
       "  }\n",
       "\n",
       "  .colab-df-quickchart:hover {\n",
       "    background-color: var(--hover-bg-color);\n",
       "    box-shadow: 0 1px 2px rgba(60, 64, 67, 0.3), 0 1px 3px 1px rgba(60, 64, 67, 0.15);\n",
       "    fill: var(--button-hover-fill-color);\n",
       "  }\n",
       "\n",
       "  .colab-df-quickchart-complete:disabled,\n",
       "  .colab-df-quickchart-complete:disabled:hover {\n",
       "    background-color: var(--disabled-bg-color);\n",
       "    fill: var(--disabled-fill-color);\n",
       "    box-shadow: none;\n",
       "  }\n",
       "\n",
       "  .colab-df-spinner {\n",
       "    border: 2px solid var(--fill-color);\n",
       "    border-color: transparent;\n",
       "    border-bottom-color: var(--fill-color);\n",
       "    animation:\n",
       "      spin 1s steps(1) infinite;\n",
       "  }\n",
       "\n",
       "  @keyframes spin {\n",
       "    0% {\n",
       "      border-color: transparent;\n",
       "      border-bottom-color: var(--fill-color);\n",
       "      border-left-color: var(--fill-color);\n",
       "    }\n",
       "    20% {\n",
       "      border-color: transparent;\n",
       "      border-left-color: var(--fill-color);\n",
       "      border-top-color: var(--fill-color);\n",
       "    }\n",
       "    30% {\n",
       "      border-color: transparent;\n",
       "      border-left-color: var(--fill-color);\n",
       "      border-top-color: var(--fill-color);\n",
       "      border-right-color: var(--fill-color);\n",
       "    }\n",
       "    40% {\n",
       "      border-color: transparent;\n",
       "      border-right-color: var(--fill-color);\n",
       "      border-top-color: var(--fill-color);\n",
       "    }\n",
       "    60% {\n",
       "      border-color: transparent;\n",
       "      border-right-color: var(--fill-color);\n",
       "    }\n",
       "    80% {\n",
       "      border-color: transparent;\n",
       "      border-right-color: var(--fill-color);\n",
       "      border-bottom-color: var(--fill-color);\n",
       "    }\n",
       "    90% {\n",
       "      border-color: transparent;\n",
       "      border-bottom-color: var(--fill-color);\n",
       "    }\n",
       "  }\n",
       "</style>\n",
       "\n",
       "      <script>\n",
       "        async function quickchart(key) {\n",
       "          const quickchartButtonEl =\n",
       "            document.querySelector('#' + key + ' button');\n",
       "          quickchartButtonEl.disabled = true;  // To prevent multiple clicks.\n",
       "          quickchartButtonEl.classList.add('colab-df-spinner');\n",
       "          try {\n",
       "            const charts = await google.colab.kernel.invokeFunction(\n",
       "                'suggestCharts', [key], {});\n",
       "          } catch (error) {\n",
       "            console.error('Error during call to suggestCharts:', error);\n",
       "          }\n",
       "          quickchartButtonEl.classList.remove('colab-df-spinner');\n",
       "          quickchartButtonEl.classList.add('colab-df-quickchart-complete');\n",
       "        }\n",
       "        (() => {\n",
       "          let quickchartButtonEl =\n",
       "            document.querySelector('#df-8a484f82-d477-41eb-8f5d-7b4d6af1fe64 button');\n",
       "          quickchartButtonEl.style.display =\n",
       "            google.colab.kernel.accessAllowed ? 'block' : 'none';\n",
       "        })();\n",
       "      </script>\n",
       "    </div>\n",
       "\n",
       "    </div>\n",
       "  </div>\n"
      ],
      "text/plain": [
       "                          review_id                          order_id  \\\n",
       "0  7bc2406110b926393aa56f80a40eba40  73fc7af87114b39712e6da79b0a377eb   \n",
       "1  80e641a11e56f04c1ad469d5645fdfde  a548910a1c6147796b98fdf73dbeba33   \n",
       "2  228ce5500dc1d8e020d8d1322874b6f0  f9e4b658b201a9f2ecdecbb34bed034b   \n",
       "3  e64fb393e7b32834bb789ff8bb30750e  658677c97b385a9be170737859d3511b   \n",
       "4  f7c4243c7fe1938f181bec41a392bdeb  8e6bfb81e283fa7e4f11123a3fb894f1   \n",
       "\n",
       "   review_score review_comment_title  \\\n",
       "0             4                  NaN   \n",
       "1             5                  NaN   \n",
       "2             5                  NaN   \n",
       "3             5                  NaN   \n",
       "4             5                  NaN   \n",
       "\n",
       "                              review_comment_message review_creation_date  \\\n",
       "0                                                NaN  2018-01-18 00:00:00   \n",
       "1                                                NaN  2018-03-10 00:00:00   \n",
       "2                                                NaN  2018-02-17 00:00:00   \n",
       "3              Recebi bem antes do prazo estipulado.  2017-04-21 00:00:00   \n",
       "4  Parabéns lojas lannister adorei comprar pela I...  2018-03-01 00:00:00   \n",
       "\n",
       "  review_answer_timestamp  \n",
       "0     2018-01-18 21:46:59  \n",
       "1     2018-03-11 03:05:13  \n",
       "2     2018-02-18 14:36:24  \n",
       "3     2017-04-21 22:02:06  \n",
       "4     2018-03-02 10:26:53  "
      ]
     },
     "execution_count": 5,
     "metadata": {},
     "output_type": "execute_result"
    }
   ],
   "source": [
    "reviews_df.head()"
   ]
  },
  {
   "cell_type": "code",
   "execution_count": 6,
   "metadata": {
    "colab": {
     "base_uri": "https://localhost:8080/"
    },
    "executionInfo": {
     "elapsed": 89,
     "status": "ok",
     "timestamp": 1746804841682,
     "user": {
      "displayName": "Amira Kamel",
      "userId": "17694101562792701289"
     },
     "user_tz": -180
    },
    "id": "f-zB0xDmroN6",
    "outputId": "e67cb512-8e12-4722-eca6-ec3f8dd72644"
   },
   "outputs": [
    {
     "name": "stdout",
     "output_type": "stream",
     "text": [
      "<class 'pandas.core.frame.DataFrame'>\n",
      "RangeIndex: 99224 entries, 0 to 99223\n",
      "Data columns (total 7 columns):\n",
      " #   Column                   Non-Null Count  Dtype \n",
      "---  ------                   --------------  ----- \n",
      " 0   review_id                99224 non-null  object\n",
      " 1   order_id                 99224 non-null  object\n",
      " 2   review_score             99224 non-null  int64 \n",
      " 3   review_comment_title     11568 non-null  object\n",
      " 4   review_comment_message   40977 non-null  object\n",
      " 5   review_creation_date     99224 non-null  object\n",
      " 6   review_answer_timestamp  99224 non-null  object\n",
      "dtypes: int64(1), object(6)\n",
      "memory usage: 5.3+ MB\n"
     ]
    }
   ],
   "source": [
    "reviews_df.info()"
   ]
  },
  {
   "cell_type": "code",
   "execution_count": 7,
   "metadata": {
    "colab": {
     "base_uri": "https://localhost:8080/",
     "height": 300
    },
    "executionInfo": {
     "elapsed": 125,
     "status": "ok",
     "timestamp": 1746804844798,
     "user": {
      "displayName": "Amira Kamel",
      "userId": "17694101562792701289"
     },
     "user_tz": -180
    },
    "id": "YkuB3uucrZTF",
    "outputId": "05bb3c8b-b727-4e9a-f939-6d448cf0f08d"
   },
   "outputs": [
    {
     "data": {
      "application/vnd.google.colaboratory.intrinsic+json": {
       "summary": "{\n  \"name\": \"reviews_df\",\n  \"rows\": 8,\n  \"fields\": [\n    {\n      \"column\": \"review_score\",\n      \"properties\": {\n        \"dtype\": \"number\",\n        \"std\": 35079.69705410775,\n        \"min\": 1.0,\n        \"max\": 99224.0,\n        \"num_unique_values\": 6,\n        \"samples\": [\n          99224.0,\n          4.08642062404257,\n          5.0\n        ],\n        \"semantic_type\": \"\",\n        \"description\": \"\"\n      }\n    }\n  ]\n}",
       "type": "dataframe"
      },
      "text/html": [
       "\n",
       "  <div id=\"df-dba7012c-1a03-46ca-8334-17aba0ca3237\" class=\"colab-df-container\">\n",
       "    <div>\n",
       "<style scoped>\n",
       "    .dataframe tbody tr th:only-of-type {\n",
       "        vertical-align: middle;\n",
       "    }\n",
       "\n",
       "    .dataframe tbody tr th {\n",
       "        vertical-align: top;\n",
       "    }\n",
       "\n",
       "    .dataframe thead th {\n",
       "        text-align: right;\n",
       "    }\n",
       "</style>\n",
       "<table border=\"1\" class=\"dataframe\">\n",
       "  <thead>\n",
       "    <tr style=\"text-align: right;\">\n",
       "      <th></th>\n",
       "      <th>review_score</th>\n",
       "    </tr>\n",
       "  </thead>\n",
       "  <tbody>\n",
       "    <tr>\n",
       "      <th>count</th>\n",
       "      <td>99224.000000</td>\n",
       "    </tr>\n",
       "    <tr>\n",
       "      <th>mean</th>\n",
       "      <td>4.086421</td>\n",
       "    </tr>\n",
       "    <tr>\n",
       "      <th>std</th>\n",
       "      <td>1.347579</td>\n",
       "    </tr>\n",
       "    <tr>\n",
       "      <th>min</th>\n",
       "      <td>1.000000</td>\n",
       "    </tr>\n",
       "    <tr>\n",
       "      <th>25%</th>\n",
       "      <td>4.000000</td>\n",
       "    </tr>\n",
       "    <tr>\n",
       "      <th>50%</th>\n",
       "      <td>5.000000</td>\n",
       "    </tr>\n",
       "    <tr>\n",
       "      <th>75%</th>\n",
       "      <td>5.000000</td>\n",
       "    </tr>\n",
       "    <tr>\n",
       "      <th>max</th>\n",
       "      <td>5.000000</td>\n",
       "    </tr>\n",
       "  </tbody>\n",
       "</table>\n",
       "</div>\n",
       "    <div class=\"colab-df-buttons\">\n",
       "\n",
       "  <div class=\"colab-df-container\">\n",
       "    <button class=\"colab-df-convert\" onclick=\"convertToInteractive('df-dba7012c-1a03-46ca-8334-17aba0ca3237')\"\n",
       "            title=\"Convert this dataframe to an interactive table.\"\n",
       "            style=\"display:none;\">\n",
       "\n",
       "  <svg xmlns=\"http://www.w3.org/2000/svg\" height=\"24px\" viewBox=\"0 -960 960 960\">\n",
       "    <path d=\"M120-120v-720h720v720H120Zm60-500h600v-160H180v160Zm220 220h160v-160H400v160Zm0 220h160v-160H400v160ZM180-400h160v-160H180v160Zm440 0h160v-160H620v160ZM180-180h160v-160H180v160Zm440 0h160v-160H620v160Z\"/>\n",
       "  </svg>\n",
       "    </button>\n",
       "\n",
       "  <style>\n",
       "    .colab-df-container {\n",
       "      display:flex;\n",
       "      gap: 12px;\n",
       "    }\n",
       "\n",
       "    .colab-df-convert {\n",
       "      background-color: #E8F0FE;\n",
       "      border: none;\n",
       "      border-radius: 50%;\n",
       "      cursor: pointer;\n",
       "      display: none;\n",
       "      fill: #1967D2;\n",
       "      height: 32px;\n",
       "      padding: 0 0 0 0;\n",
       "      width: 32px;\n",
       "    }\n",
       "\n",
       "    .colab-df-convert:hover {\n",
       "      background-color: #E2EBFA;\n",
       "      box-shadow: 0px 1px 2px rgba(60, 64, 67, 0.3), 0px 1px 3px 1px rgba(60, 64, 67, 0.15);\n",
       "      fill: #174EA6;\n",
       "    }\n",
       "\n",
       "    .colab-df-buttons div {\n",
       "      margin-bottom: 4px;\n",
       "    }\n",
       "\n",
       "    [theme=dark] .colab-df-convert {\n",
       "      background-color: #3B4455;\n",
       "      fill: #D2E3FC;\n",
       "    }\n",
       "\n",
       "    [theme=dark] .colab-df-convert:hover {\n",
       "      background-color: #434B5C;\n",
       "      box-shadow: 0px 1px 3px 1px rgba(0, 0, 0, 0.15);\n",
       "      filter: drop-shadow(0px 1px 2px rgba(0, 0, 0, 0.3));\n",
       "      fill: #FFFFFF;\n",
       "    }\n",
       "  </style>\n",
       "\n",
       "    <script>\n",
       "      const buttonEl =\n",
       "        document.querySelector('#df-dba7012c-1a03-46ca-8334-17aba0ca3237 button.colab-df-convert');\n",
       "      buttonEl.style.display =\n",
       "        google.colab.kernel.accessAllowed ? 'block' : 'none';\n",
       "\n",
       "      async function convertToInteractive(key) {\n",
       "        const element = document.querySelector('#df-dba7012c-1a03-46ca-8334-17aba0ca3237');\n",
       "        const dataTable =\n",
       "          await google.colab.kernel.invokeFunction('convertToInteractive',\n",
       "                                                    [key], {});\n",
       "        if (!dataTable) return;\n",
       "\n",
       "        const docLinkHtml = 'Like what you see? Visit the ' +\n",
       "          '<a target=\"_blank\" href=https://colab.research.google.com/notebooks/data_table.ipynb>data table notebook</a>'\n",
       "          + ' to learn more about interactive tables.';\n",
       "        element.innerHTML = '';\n",
       "        dataTable['output_type'] = 'display_data';\n",
       "        await google.colab.output.renderOutput(dataTable, element);\n",
       "        const docLink = document.createElement('div');\n",
       "        docLink.innerHTML = docLinkHtml;\n",
       "        element.appendChild(docLink);\n",
       "      }\n",
       "    </script>\n",
       "  </div>\n",
       "\n",
       "\n",
       "    <div id=\"df-050c6fef-77c0-4206-8559-bf3dc5dd3b62\">\n",
       "      <button class=\"colab-df-quickchart\" onclick=\"quickchart('df-050c6fef-77c0-4206-8559-bf3dc5dd3b62')\"\n",
       "                title=\"Suggest charts\"\n",
       "                style=\"display:none;\">\n",
       "\n",
       "<svg xmlns=\"http://www.w3.org/2000/svg\" height=\"24px\"viewBox=\"0 0 24 24\"\n",
       "     width=\"24px\">\n",
       "    <g>\n",
       "        <path d=\"M19 3H5c-1.1 0-2 .9-2 2v14c0 1.1.9 2 2 2h14c1.1 0 2-.9 2-2V5c0-1.1-.9-2-2-2zM9 17H7v-7h2v7zm4 0h-2V7h2v10zm4 0h-2v-4h2v4z\"/>\n",
       "    </g>\n",
       "</svg>\n",
       "      </button>\n",
       "\n",
       "<style>\n",
       "  .colab-df-quickchart {\n",
       "      --bg-color: #E8F0FE;\n",
       "      --fill-color: #1967D2;\n",
       "      --hover-bg-color: #E2EBFA;\n",
       "      --hover-fill-color: #174EA6;\n",
       "      --disabled-fill-color: #AAA;\n",
       "      --disabled-bg-color: #DDD;\n",
       "  }\n",
       "\n",
       "  [theme=dark] .colab-df-quickchart {\n",
       "      --bg-color: #3B4455;\n",
       "      --fill-color: #D2E3FC;\n",
       "      --hover-bg-color: #434B5C;\n",
       "      --hover-fill-color: #FFFFFF;\n",
       "      --disabled-bg-color: #3B4455;\n",
       "      --disabled-fill-color: #666;\n",
       "  }\n",
       "\n",
       "  .colab-df-quickchart {\n",
       "    background-color: var(--bg-color);\n",
       "    border: none;\n",
       "    border-radius: 50%;\n",
       "    cursor: pointer;\n",
       "    display: none;\n",
       "    fill: var(--fill-color);\n",
       "    height: 32px;\n",
       "    padding: 0;\n",
       "    width: 32px;\n",
       "  }\n",
       "\n",
       "  .colab-df-quickchart:hover {\n",
       "    background-color: var(--hover-bg-color);\n",
       "    box-shadow: 0 1px 2px rgba(60, 64, 67, 0.3), 0 1px 3px 1px rgba(60, 64, 67, 0.15);\n",
       "    fill: var(--button-hover-fill-color);\n",
       "  }\n",
       "\n",
       "  .colab-df-quickchart-complete:disabled,\n",
       "  .colab-df-quickchart-complete:disabled:hover {\n",
       "    background-color: var(--disabled-bg-color);\n",
       "    fill: var(--disabled-fill-color);\n",
       "    box-shadow: none;\n",
       "  }\n",
       "\n",
       "  .colab-df-spinner {\n",
       "    border: 2px solid var(--fill-color);\n",
       "    border-color: transparent;\n",
       "    border-bottom-color: var(--fill-color);\n",
       "    animation:\n",
       "      spin 1s steps(1) infinite;\n",
       "  }\n",
       "\n",
       "  @keyframes spin {\n",
       "    0% {\n",
       "      border-color: transparent;\n",
       "      border-bottom-color: var(--fill-color);\n",
       "      border-left-color: var(--fill-color);\n",
       "    }\n",
       "    20% {\n",
       "      border-color: transparent;\n",
       "      border-left-color: var(--fill-color);\n",
       "      border-top-color: var(--fill-color);\n",
       "    }\n",
       "    30% {\n",
       "      border-color: transparent;\n",
       "      border-left-color: var(--fill-color);\n",
       "      border-top-color: var(--fill-color);\n",
       "      border-right-color: var(--fill-color);\n",
       "    }\n",
       "    40% {\n",
       "      border-color: transparent;\n",
       "      border-right-color: var(--fill-color);\n",
       "      border-top-color: var(--fill-color);\n",
       "    }\n",
       "    60% {\n",
       "      border-color: transparent;\n",
       "      border-right-color: var(--fill-color);\n",
       "    }\n",
       "    80% {\n",
       "      border-color: transparent;\n",
       "      border-right-color: var(--fill-color);\n",
       "      border-bottom-color: var(--fill-color);\n",
       "    }\n",
       "    90% {\n",
       "      border-color: transparent;\n",
       "      border-bottom-color: var(--fill-color);\n",
       "    }\n",
       "  }\n",
       "</style>\n",
       "\n",
       "      <script>\n",
       "        async function quickchart(key) {\n",
       "          const quickchartButtonEl =\n",
       "            document.querySelector('#' + key + ' button');\n",
       "          quickchartButtonEl.disabled = true;  // To prevent multiple clicks.\n",
       "          quickchartButtonEl.classList.add('colab-df-spinner');\n",
       "          try {\n",
       "            const charts = await google.colab.kernel.invokeFunction(\n",
       "                'suggestCharts', [key], {});\n",
       "          } catch (error) {\n",
       "            console.error('Error during call to suggestCharts:', error);\n",
       "          }\n",
       "          quickchartButtonEl.classList.remove('colab-df-spinner');\n",
       "          quickchartButtonEl.classList.add('colab-df-quickchart-complete');\n",
       "        }\n",
       "        (() => {\n",
       "          let quickchartButtonEl =\n",
       "            document.querySelector('#df-050c6fef-77c0-4206-8559-bf3dc5dd3b62 button');\n",
       "          quickchartButtonEl.style.display =\n",
       "            google.colab.kernel.accessAllowed ? 'block' : 'none';\n",
       "        })();\n",
       "      </script>\n",
       "    </div>\n",
       "\n",
       "    </div>\n",
       "  </div>\n"
      ],
      "text/plain": [
       "       review_score\n",
       "count  99224.000000\n",
       "mean       4.086421\n",
       "std        1.347579\n",
       "min        1.000000\n",
       "25%        4.000000\n",
       "50%        5.000000\n",
       "75%        5.000000\n",
       "max        5.000000"
      ]
     },
     "execution_count": 7,
     "metadata": {},
     "output_type": "execute_result"
    }
   ],
   "source": [
    "reviews_df.describe()\n"
   ]
  },
  {
   "cell_type": "code",
   "execution_count": 8,
   "metadata": {
    "colab": {
     "base_uri": "https://localhost:8080/",
     "height": 303
    },
    "executionInfo": {
     "elapsed": 74,
     "status": "ok",
     "timestamp": 1746804856347,
     "user": {
      "displayName": "Amira Kamel",
      "userId": "17694101562792701289"
     },
     "user_tz": -180
    },
    "id": "govOT0SJrZOg",
    "outputId": "cc726ba9-b54a-4db2-b687-22d0725acd82"
   },
   "outputs": [
    {
     "data": {
      "text/html": [
       "<div>\n",
       "<style scoped>\n",
       "    .dataframe tbody tr th:only-of-type {\n",
       "        vertical-align: middle;\n",
       "    }\n",
       "\n",
       "    .dataframe tbody tr th {\n",
       "        vertical-align: top;\n",
       "    }\n",
       "\n",
       "    .dataframe thead th {\n",
       "        text-align: right;\n",
       "    }\n",
       "</style>\n",
       "<table border=\"1\" class=\"dataframe\">\n",
       "  <thead>\n",
       "    <tr style=\"text-align: right;\">\n",
       "      <th></th>\n",
       "      <th>0</th>\n",
       "    </tr>\n",
       "  </thead>\n",
       "  <tbody>\n",
       "    <tr>\n",
       "      <th>review_id</th>\n",
       "      <td>0</td>\n",
       "    </tr>\n",
       "    <tr>\n",
       "      <th>order_id</th>\n",
       "      <td>0</td>\n",
       "    </tr>\n",
       "    <tr>\n",
       "      <th>review_score</th>\n",
       "      <td>0</td>\n",
       "    </tr>\n",
       "    <tr>\n",
       "      <th>review_comment_title</th>\n",
       "      <td>87656</td>\n",
       "    </tr>\n",
       "    <tr>\n",
       "      <th>review_comment_message</th>\n",
       "      <td>58247</td>\n",
       "    </tr>\n",
       "    <tr>\n",
       "      <th>review_creation_date</th>\n",
       "      <td>0</td>\n",
       "    </tr>\n",
       "    <tr>\n",
       "      <th>review_answer_timestamp</th>\n",
       "      <td>0</td>\n",
       "    </tr>\n",
       "  </tbody>\n",
       "</table>\n",
       "</div><br><label><b>dtype:</b> int64</label>"
      ],
      "text/plain": [
       "review_id                      0\n",
       "order_id                       0\n",
       "review_score                   0\n",
       "review_comment_title       87656\n",
       "review_comment_message     58247\n",
       "review_creation_date           0\n",
       "review_answer_timestamp        0\n",
       "dtype: int64"
      ]
     },
     "execution_count": 8,
     "metadata": {},
     "output_type": "execute_result"
    }
   ],
   "source": [
    "reviews_df.isnull().sum()\n"
   ]
  },
  {
   "cell_type": "code",
   "execution_count": 9,
   "metadata": {
    "colab": {
     "base_uri": "https://localhost:8080/"
    },
    "executionInfo": {
     "elapsed": 106,
     "status": "ok",
     "timestamp": 1746804872199,
     "user": {
      "displayName": "Amira Kamel",
      "userId": "17694101562792701289"
     },
     "user_tz": -180
    },
    "id": "MNzbWGH9rZLJ",
    "outputId": "d78fbccc-8ac4-47d1-d4c0-1661357a85aa"
   },
   "outputs": [
    {
     "name": "stderr",
     "output_type": "stream",
     "text": [
      "<ipython-input-9-fb696b6c526f>:1: FutureWarning: A value is trying to be set on a copy of a DataFrame or Series through chained assignment using an inplace method.\n",
      "The behavior will change in pandas 3.0. This inplace method will never work because the intermediate object on which we are setting values always behaves as a copy.\n",
      "\n",
      "For example, when doing 'df[col].method(value, inplace=True)', try using 'df.method({col: value}, inplace=True)' or df[col] = df[col].method(value) instead, to perform the operation inplace on the original object.\n",
      "\n",
      "\n",
      "  reviews['review_comment_message'].fillna(\"No Comment\", inplace=True)\n",
      "<ipython-input-9-fb696b6c526f>:2: FutureWarning: A value is trying to be set on a copy of a DataFrame or Series through chained assignment using an inplace method.\n",
      "The behavior will change in pandas 3.0. This inplace method will never work because the intermediate object on which we are setting values always behaves as a copy.\n",
      "\n",
      "For example, when doing 'df[col].method(value, inplace=True)', try using 'df.method({col: value}, inplace=True)' or df[col] = df[col].method(value) instead, to perform the operation inplace on the original object.\n",
      "\n",
      "\n",
      "  reviews['review_comment_title'].fillna(\"No Title\", inplace=True)\n"
     ]
    }
   ],
   "source": [
    "reviews['review_comment_message'].fillna(\"No Comment\", inplace=True)\n",
    "reviews['review_comment_title'].fillna(\"No Title\", inplace=True)"
   ]
  },
  {
   "cell_type": "code",
   "execution_count": 10,
   "metadata": {
    "colab": {
     "base_uri": "https://localhost:8080/"
    },
    "executionInfo": {
     "elapsed": 61,
     "status": "ok",
     "timestamp": 1746804884826,
     "user": {
      "displayName": "Amira Kamel",
      "userId": "17694101562792701289"
     },
     "user_tz": -180
    },
    "id": "qBIXNi62ryST",
    "outputId": "c7a8f998-7412-4f6a-ada2-fb5da4c23c00"
   },
   "outputs": [
    {
     "data": {
      "text/plain": [
       "np.int64(94696)"
      ]
     },
     "execution_count": 10,
     "metadata": {},
     "output_type": "execute_result"
    }
   ],
   "source": [
    "reviews['review_comment_title'].duplicated().sum()"
   ]
  },
  {
   "cell_type": "code",
   "execution_count": 11,
   "metadata": {
    "colab": {
     "base_uri": "https://localhost:8080/"
    },
    "executionInfo": {
     "elapsed": 37,
     "status": "ok",
     "timestamp": 1746804891110,
     "user": {
      "displayName": "Amira Kamel",
      "userId": "17694101562792701289"
     },
     "user_tz": -180
    },
    "id": "L3hfEkI9ryO2",
    "outputId": "65f4d111-2446-4051-c155-79fc02d55d2b"
   },
   "outputs": [
    {
     "data": {
      "text/plain": [
       "(99224, 7)"
      ]
     },
     "execution_count": 11,
     "metadata": {},
     "output_type": "execute_result"
    }
   ],
   "source": [
    "reviews.shape"
   ]
  },
  {
   "cell_type": "code",
   "execution_count": 12,
   "metadata": {
    "colab": {
     "base_uri": "https://localhost:8080/",
     "height": 680
    },
    "executionInfo": {
     "elapsed": 892,
     "status": "ok",
     "timestamp": 1746804902436,
     "user": {
      "displayName": "Amira Kamel",
      "userId": "17694101562792701289"
     },
     "user_tz": -180
    },
    "id": "0amwJ-aRryLy",
    "outputId": "5bb67491-a634-46ca-f9c2-7cd52337fd6c"
   },
   "outputs": [
    {
     "data": {
      "text/plain": [
       "Text(0, 0.5, 'No. of Reviews')"
      ]
     },
     "execution_count": 12,
     "metadata": {},
     "output_type": "execute_result"
    },
    {
     "data": {
      "image/png": "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",
      "text/plain": [
       "<Figure size 1500x800 with 1 Axes>"
      ]
     },
     "metadata": {},
     "output_type": "display_data"
    }
   ],
   "source": [
    "plt.figure(figsize=(15,8))\n",
    "sns.countplot(x='review_score', data=reviews)\n",
    "plt.title('Analyzing Review Score')\n",
    "plt.xlabel('Score')\n",
    "plt.ylabel('No. of Reviews')"
   ]
  },
  {
   "cell_type": "code",
   "execution_count": 13,
   "metadata": {
    "colab": {
     "base_uri": "https://localhost:8080/",
     "height": 517
    },
    "executionInfo": {
     "elapsed": 809,
     "status": "ok",
     "timestamp": 1746804911413,
     "user": {
      "displayName": "Amira Kamel",
      "userId": "17694101562792701289"
     },
     "user_tz": -180
    },
    "id": "uc098agVryIY",
    "outputId": "0799a972-ade0-4ab7-eb2a-e3dc6eb3898e"
   },
   "outputs": [
    {
     "name": "stderr",
     "output_type": "stream",
     "text": [
      "<ipython-input-13-9deec2888e16>:5: FutureWarning: \n",
      "\n",
      "Passing `palette` without assigning `hue` is deprecated and will be removed in v0.14.0. Assign the `x` variable to `hue` and set `legend=False` for the same effect.\n",
      "\n",
      "  sns.barplot(x=comment_counts.index, y=comment_counts.values, palette=\"coolwarm\")\n"
     ]
    },
    {
     "data": {
      "image/png": "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",
      "text/plain": [
       "<Figure size 600x400 with 1 Axes>"
      ]
     },
     "metadata": {},
     "output_type": "display_data"
    }
   ],
   "source": [
    "reviews[\"has_comment\"] = reviews[\"review_comment_message\"].notnull()\n",
    "comment_counts = reviews[\"has_comment\"].value_counts()\n",
    "\n",
    "plt.figure(figsize=(6, 4))\n",
    "sns.barplot(x=comment_counts.index, y=comment_counts.values, palette=\"coolwarm\")\n",
    "plt.xticks([0, 1], [\"No Comment\", \"Has Comment\"])\n",
    "plt.title(\"Presence of Review Comments\")\n",
    "plt.ylabel(\"Number of Reviews\")\n",
    "plt.show()\n"
   ]
  },
  {
   "cell_type": "code",
   "execution_count": 14,
   "metadata": {
    "colab": {
     "base_uri": "https://localhost:8080/"
    },
    "executionInfo": {
     "elapsed": 108,
     "status": "ok",
     "timestamp": 1746804919285,
     "user": {
      "displayName": "Amira Kamel",
      "userId": "17694101562792701289"
     },
     "user_tz": -180
    },
    "id": "FLeEJ7YgryEr",
    "outputId": "ea1ac49d-c6db-47dd-b1e5-436a52db237d"
   },
   "outputs": [
    {
     "name": "stdout",
     "output_type": "stream",
     "text": [
      "98410\n",
      "98673\n"
     ]
    }
   ],
   "source": [
    "print(reviews['review_id'].nunique())\n",
    "print(reviews['order_id'].nunique())"
   ]
  },
  {
   "cell_type": "code",
   "execution_count": 15,
   "metadata": {
    "colab": {
     "base_uri": "https://localhost:8080/"
    },
    "executionInfo": {
     "elapsed": 60,
     "status": "ok",
     "timestamp": 1746804929193,
     "user": {
      "displayName": "Amira Kamel",
      "userId": "17694101562792701289"
     },
     "user_tz": -180
    },
    "id": "B93F30gCoh-O",
    "outputId": "d4709289-c864-4611-a300-30ee4766be7d"
   },
   "outputs": [
    {
     "name": "stdout",
     "output_type": "stream",
     "text": [
      "(99224, 8)\n"
     ]
    }
   ],
   "source": [
    "reviews_cleaned = reviews.drop_duplicates(subset=['review_id', 'order_id'], keep='first')\n",
    "\n",
    "print(reviews_cleaned.shape)\n"
   ]
  },
  {
   "cell_type": "code",
   "execution_count": 16,
   "metadata": {
    "colab": {
     "base_uri": "https://localhost:8080/",
     "height": 295
    },
    "executionInfo": {
     "elapsed": 116,
     "status": "ok",
     "timestamp": 1746804939790,
     "user": {
      "displayName": "Amira Kamel",
      "userId": "17694101562792701289"
     },
     "user_tz": -180
    },
    "id": "7xgjjmBEr_73",
    "outputId": "1187eb60-5fdd-4137-f399-5fce4f822624"
   },
   "outputs": [
    {
     "name": "stdout",
     "output_type": "stream",
     "text": [
      "(814, 8)\n"
     ]
    },
    {
     "data": {
      "application/vnd.google.colaboratory.intrinsic+json": {
       "repr_error": "0",
       "type": "dataframe",
       "variable_name": "tmp"
      },
      "text/html": [
       "\n",
       "  <div id=\"df-93766314-b6d0-4982-92c5-499d93cb26c8\" class=\"colab-df-container\">\n",
       "    <div>\n",
       "<style scoped>\n",
       "    .dataframe tbody tr th:only-of-type {\n",
       "        vertical-align: middle;\n",
       "    }\n",
       "\n",
       "    .dataframe tbody tr th {\n",
       "        vertical-align: top;\n",
       "    }\n",
       "\n",
       "    .dataframe thead th {\n",
       "        text-align: right;\n",
       "    }\n",
       "</style>\n",
       "<table border=\"1\" class=\"dataframe\">\n",
       "  <thead>\n",
       "    <tr style=\"text-align: right;\">\n",
       "      <th></th>\n",
       "      <th>review_id</th>\n",
       "      <th>order_id</th>\n",
       "      <th>review_score</th>\n",
       "      <th>review_comment_title</th>\n",
       "      <th>review_comment_message</th>\n",
       "      <th>review_creation_date</th>\n",
       "      <th>review_answer_timestamp</th>\n",
       "      <th>has_comment</th>\n",
       "    </tr>\n",
       "  </thead>\n",
       "  <tbody>\n",
       "    <tr>\n",
       "      <th>3317</th>\n",
       "      <td>3242cc306a9218d0377831e175d62fbf</td>\n",
       "      <td>9c5bfba7de6a4abbb6ba0baab78d1622</td>\n",
       "      <td>5</td>\n",
       "      <td>No Title</td>\n",
       "      <td>Ótimo</td>\n",
       "      <td>2017-07-21 00:00:00</td>\n",
       "      <td>2017-07-22 01:06:37</td>\n",
       "      <td>True</td>\n",
       "    </tr>\n",
       "    <tr>\n",
       "      <th>5719</th>\n",
       "      <td>308316408775d1600dad81bd3184556d</td>\n",
       "      <td>3fe4dbcdb046a475dbf25463c1ca78bd</td>\n",
       "      <td>5</td>\n",
       "      <td>No Title</td>\n",
       "      <td>Ajudem a rastrear uma das 3 prateleiras que fa...</td>\n",
       "      <td>2017-09-07 00:00:00</td>\n",
       "      <td>2017-09-11 09:58:09</td>\n",
       "      <td>True</td>\n",
       "    </tr>\n",
       "    <tr>\n",
       "      <th>7213</th>\n",
       "      <td>8ee90ac383cf825bb7f4756130d4e74a</td>\n",
       "      <td>75d5d3d16567a27eefc5752aeb063072</td>\n",
       "      <td>5</td>\n",
       "      <td>No Title</td>\n",
       "      <td>recomendo</td>\n",
       "      <td>2017-05-30 00:00:00</td>\n",
       "      <td>2017-06-02 18:16:17</td>\n",
       "      <td>True</td>\n",
       "    </tr>\n",
       "    <tr>\n",
       "      <th>7805</th>\n",
       "      <td>d433c252647c51309432ca0b763f969b</td>\n",
       "      <td>191abde9c3bf77d1ce67d100d8db6d15</td>\n",
       "      <td>1</td>\n",
       "      <td>No Title</td>\n",
       "      <td>No Comment</td>\n",
       "      <td>2017-09-03 00:00:00</td>\n",
       "      <td>2017-09-06 16:11:00</td>\n",
       "      <td>True</td>\n",
       "    </tr>\n",
       "    <tr>\n",
       "      <th>9013</th>\n",
       "      <td>03a6a25db577d0689440933055111897</td>\n",
       "      <td>3fde8b7313af6b37b84b5c7594d7add0</td>\n",
       "      <td>5</td>\n",
       "      <td>No Title</td>\n",
       "      <td>Muito Bom! Gostei Bastante! Tecido Ótimo! Aten...</td>\n",
       "      <td>2017-12-15 00:00:00</td>\n",
       "      <td>2017-12-16 01:32:18</td>\n",
       "      <td>True</td>\n",
       "    </tr>\n",
       "  </tbody>\n",
       "</table>\n",
       "</div>\n",
       "    <div class=\"colab-df-buttons\">\n",
       "\n",
       "  <div class=\"colab-df-container\">\n",
       "    <button class=\"colab-df-convert\" onclick=\"convertToInteractive('df-93766314-b6d0-4982-92c5-499d93cb26c8')\"\n",
       "            title=\"Convert this dataframe to an interactive table.\"\n",
       "            style=\"display:none;\">\n",
       "\n",
       "  <svg xmlns=\"http://www.w3.org/2000/svg\" height=\"24px\" viewBox=\"0 -960 960 960\">\n",
       "    <path d=\"M120-120v-720h720v720H120Zm60-500h600v-160H180v160Zm220 220h160v-160H400v160Zm0 220h160v-160H400v160ZM180-400h160v-160H180v160Zm440 0h160v-160H620v160ZM180-180h160v-160H180v160Zm440 0h160v-160H620v160Z\"/>\n",
       "  </svg>\n",
       "    </button>\n",
       "\n",
       "  <style>\n",
       "    .colab-df-container {\n",
       "      display:flex;\n",
       "      gap: 12px;\n",
       "    }\n",
       "\n",
       "    .colab-df-convert {\n",
       "      background-color: #E8F0FE;\n",
       "      border: none;\n",
       "      border-radius: 50%;\n",
       "      cursor: pointer;\n",
       "      display: none;\n",
       "      fill: #1967D2;\n",
       "      height: 32px;\n",
       "      padding: 0 0 0 0;\n",
       "      width: 32px;\n",
       "    }\n",
       "\n",
       "    .colab-df-convert:hover {\n",
       "      background-color: #E2EBFA;\n",
       "      box-shadow: 0px 1px 2px rgba(60, 64, 67, 0.3), 0px 1px 3px 1px rgba(60, 64, 67, 0.15);\n",
       "      fill: #174EA6;\n",
       "    }\n",
       "\n",
       "    .colab-df-buttons div {\n",
       "      margin-bottom: 4px;\n",
       "    }\n",
       "\n",
       "    [theme=dark] .colab-df-convert {\n",
       "      background-color: #3B4455;\n",
       "      fill: #D2E3FC;\n",
       "    }\n",
       "\n",
       "    [theme=dark] .colab-df-convert:hover {\n",
       "      background-color: #434B5C;\n",
       "      box-shadow: 0px 1px 3px 1px rgba(0, 0, 0, 0.15);\n",
       "      filter: drop-shadow(0px 1px 2px rgba(0, 0, 0, 0.3));\n",
       "      fill: #FFFFFF;\n",
       "    }\n",
       "  </style>\n",
       "\n",
       "    <script>\n",
       "      const buttonEl =\n",
       "        document.querySelector('#df-93766314-b6d0-4982-92c5-499d93cb26c8 button.colab-df-convert');\n",
       "      buttonEl.style.display =\n",
       "        google.colab.kernel.accessAllowed ? 'block' : 'none';\n",
       "\n",
       "      async function convertToInteractive(key) {\n",
       "        const element = document.querySelector('#df-93766314-b6d0-4982-92c5-499d93cb26c8');\n",
       "        const dataTable =\n",
       "          await google.colab.kernel.invokeFunction('convertToInteractive',\n",
       "                                                    [key], {});\n",
       "        if (!dataTable) return;\n",
       "\n",
       "        const docLinkHtml = 'Like what you see? Visit the ' +\n",
       "          '<a target=\"_blank\" href=https://colab.research.google.com/notebooks/data_table.ipynb>data table notebook</a>'\n",
       "          + ' to learn more about interactive tables.';\n",
       "        element.innerHTML = '';\n",
       "        dataTable['output_type'] = 'display_data';\n",
       "        await google.colab.output.renderOutput(dataTable, element);\n",
       "        const docLink = document.createElement('div');\n",
       "        docLink.innerHTML = docLinkHtml;\n",
       "        element.appendChild(docLink);\n",
       "      }\n",
       "    </script>\n",
       "  </div>\n",
       "\n",
       "\n",
       "    <div id=\"df-53f82974-1b6f-48ab-afaa-33519a583dcd\">\n",
       "      <button class=\"colab-df-quickchart\" onclick=\"quickchart('df-53f82974-1b6f-48ab-afaa-33519a583dcd')\"\n",
       "                title=\"Suggest charts\"\n",
       "                style=\"display:none;\">\n",
       "\n",
       "<svg xmlns=\"http://www.w3.org/2000/svg\" height=\"24px\"viewBox=\"0 0 24 24\"\n",
       "     width=\"24px\">\n",
       "    <g>\n",
       "        <path d=\"M19 3H5c-1.1 0-2 .9-2 2v14c0 1.1.9 2 2 2h14c1.1 0 2-.9 2-2V5c0-1.1-.9-2-2-2zM9 17H7v-7h2v7zm4 0h-2V7h2v10zm4 0h-2v-4h2v4z\"/>\n",
       "    </g>\n",
       "</svg>\n",
       "      </button>\n",
       "\n",
       "<style>\n",
       "  .colab-df-quickchart {\n",
       "      --bg-color: #E8F0FE;\n",
       "      --fill-color: #1967D2;\n",
       "      --hover-bg-color: #E2EBFA;\n",
       "      --hover-fill-color: #174EA6;\n",
       "      --disabled-fill-color: #AAA;\n",
       "      --disabled-bg-color: #DDD;\n",
       "  }\n",
       "\n",
       "  [theme=dark] .colab-df-quickchart {\n",
       "      --bg-color: #3B4455;\n",
       "      --fill-color: #D2E3FC;\n",
       "      --hover-bg-color: #434B5C;\n",
       "      --hover-fill-color: #FFFFFF;\n",
       "      --disabled-bg-color: #3B4455;\n",
       "      --disabled-fill-color: #666;\n",
       "  }\n",
       "\n",
       "  .colab-df-quickchart {\n",
       "    background-color: var(--bg-color);\n",
       "    border: none;\n",
       "    border-radius: 50%;\n",
       "    cursor: pointer;\n",
       "    display: none;\n",
       "    fill: var(--fill-color);\n",
       "    height: 32px;\n",
       "    padding: 0;\n",
       "    width: 32px;\n",
       "  }\n",
       "\n",
       "  .colab-df-quickchart:hover {\n",
       "    background-color: var(--hover-bg-color);\n",
       "    box-shadow: 0 1px 2px rgba(60, 64, 67, 0.3), 0 1px 3px 1px rgba(60, 64, 67, 0.15);\n",
       "    fill: var(--button-hover-fill-color);\n",
       "  }\n",
       "\n",
       "  .colab-df-quickchart-complete:disabled,\n",
       "  .colab-df-quickchart-complete:disabled:hover {\n",
       "    background-color: var(--disabled-bg-color);\n",
       "    fill: var(--disabled-fill-color);\n",
       "    box-shadow: none;\n",
       "  }\n",
       "\n",
       "  .colab-df-spinner {\n",
       "    border: 2px solid var(--fill-color);\n",
       "    border-color: transparent;\n",
       "    border-bottom-color: var(--fill-color);\n",
       "    animation:\n",
       "      spin 1s steps(1) infinite;\n",
       "  }\n",
       "\n",
       "  @keyframes spin {\n",
       "    0% {\n",
       "      border-color: transparent;\n",
       "      border-bottom-color: var(--fill-color);\n",
       "      border-left-color: var(--fill-color);\n",
       "    }\n",
       "    20% {\n",
       "      border-color: transparent;\n",
       "      border-left-color: var(--fill-color);\n",
       "      border-top-color: var(--fill-color);\n",
       "    }\n",
       "    30% {\n",
       "      border-color: transparent;\n",
       "      border-left-color: var(--fill-color);\n",
       "      border-top-color: var(--fill-color);\n",
       "      border-right-color: var(--fill-color);\n",
       "    }\n",
       "    40% {\n",
       "      border-color: transparent;\n",
       "      border-right-color: var(--fill-color);\n",
       "      border-top-color: var(--fill-color);\n",
       "    }\n",
       "    60% {\n",
       "      border-color: transparent;\n",
       "      border-right-color: var(--fill-color);\n",
       "    }\n",
       "    80% {\n",
       "      border-color: transparent;\n",
       "      border-right-color: var(--fill-color);\n",
       "      border-bottom-color: var(--fill-color);\n",
       "    }\n",
       "    90% {\n",
       "      border-color: transparent;\n",
       "      border-bottom-color: var(--fill-color);\n",
       "    }\n",
       "  }\n",
       "</style>\n",
       "\n",
       "      <script>\n",
       "        async function quickchart(key) {\n",
       "          const quickchartButtonEl =\n",
       "            document.querySelector('#' + key + ' button');\n",
       "          quickchartButtonEl.disabled = true;  // To prevent multiple clicks.\n",
       "          quickchartButtonEl.classList.add('colab-df-spinner');\n",
       "          try {\n",
       "            const charts = await google.colab.kernel.invokeFunction(\n",
       "                'suggestCharts', [key], {});\n",
       "          } catch (error) {\n",
       "            console.error('Error during call to suggestCharts:', error);\n",
       "          }\n",
       "          quickchartButtonEl.classList.remove('colab-df-spinner');\n",
       "          quickchartButtonEl.classList.add('colab-df-quickchart-complete');\n",
       "        }\n",
       "        (() => {\n",
       "          let quickchartButtonEl =\n",
       "            document.querySelector('#df-53f82974-1b6f-48ab-afaa-33519a583dcd button');\n",
       "          quickchartButtonEl.style.display =\n",
       "            google.colab.kernel.accessAllowed ? 'block' : 'none';\n",
       "        })();\n",
       "      </script>\n",
       "    </div>\n",
       "\n",
       "    </div>\n",
       "  </div>\n"
      ],
      "text/plain": [
       "                             review_id                          order_id  \\\n",
       "3317  3242cc306a9218d0377831e175d62fbf  9c5bfba7de6a4abbb6ba0baab78d1622   \n",
       "5719  308316408775d1600dad81bd3184556d  3fe4dbcdb046a475dbf25463c1ca78bd   \n",
       "7213  8ee90ac383cf825bb7f4756130d4e74a  75d5d3d16567a27eefc5752aeb063072   \n",
       "7805  d433c252647c51309432ca0b763f969b  191abde9c3bf77d1ce67d100d8db6d15   \n",
       "9013  03a6a25db577d0689440933055111897  3fde8b7313af6b37b84b5c7594d7add0   \n",
       "\n",
       "      review_score review_comment_title  \\\n",
       "3317             5             No Title   \n",
       "5719             5             No Title   \n",
       "7213             5             No Title   \n",
       "7805             1             No Title   \n",
       "9013             5             No Title   \n",
       "\n",
       "                                 review_comment_message review_creation_date  \\\n",
       "3317                                             Ótimo   2017-07-21 00:00:00   \n",
       "5719  Ajudem a rastrear uma das 3 prateleiras que fa...  2017-09-07 00:00:00   \n",
       "7213                                          recomendo  2017-05-30 00:00:00   \n",
       "7805                                         No Comment  2017-09-03 00:00:00   \n",
       "9013  Muito Bom! Gostei Bastante! Tecido Ótimo! Aten...  2017-12-15 00:00:00   \n",
       "\n",
       "     review_answer_timestamp  has_comment  \n",
       "3317     2017-07-22 01:06:37         True  \n",
       "5719     2017-09-11 09:58:09         True  \n",
       "7213     2017-06-02 18:16:17         True  \n",
       "7805     2017-09-06 16:11:00         True  \n",
       "9013     2017-12-16 01:32:18         True  "
      ]
     },
     "execution_count": 16,
     "metadata": {},
     "output_type": "execute_result"
    }
   ],
   "source": [
    "tmp = reviews[reviews['review_id'].duplicated()]\n",
    "print(tmp.shape)\n",
    "tmp.head()"
   ]
  },
  {
   "cell_type": "code",
   "execution_count": 17,
   "metadata": {
    "colab": {
     "base_uri": "https://localhost:8080/"
    },
    "executionInfo": {
     "elapsed": 208,
     "status": "ok",
     "timestamp": 1746804951271,
     "user": {
      "displayName": "Amira Kamel",
      "userId": "17694101562792701289"
     },
     "user_tz": -180
    },
    "id": "GrFkCNjzr_42",
    "outputId": "755b4c00-c05f-414e-cedb-4c1a636ad5e7"
   },
   "outputs": [
    {
     "name": "stdout",
     "output_type": "stream",
     "text": [
      "(98410, 8)\n"
     ]
    }
   ],
   "source": [
    "reviews_cleaned = reviews.drop_duplicates(subset='order_id', keep='first')\n",
    "reviews_cleaned = reviews.drop_duplicates(subset='review_id', keep='first')\n",
    "\n",
    "print(reviews_cleaned.shape)\n"
   ]
  },
  {
   "cell_type": "code",
   "execution_count": 18,
   "metadata": {
    "colab": {
     "base_uri": "https://localhost:8080/",
     "height": 261
    },
    "executionInfo": {
     "elapsed": 155,
     "status": "ok",
     "timestamp": 1746804958504,
     "user": {
      "displayName": "Amira Kamel",
      "userId": "17694101562792701289"
     },
     "user_tz": -180
    },
    "id": "BmkCIlUAr_1T",
    "outputId": "e7b5d05f-8940-44aa-a4ff-da4bab84f9dd"
   },
   "outputs": [
    {
     "name": "stdout",
     "output_type": "stream",
     "text": [
      "(814, 8)\n"
     ]
    },
    {
     "data": {
      "application/vnd.google.colaboratory.intrinsic+json": {
       "repr_error": "0",
       "type": "dataframe",
       "variable_name": "rord"
      },
      "text/html": [
       "\n",
       "  <div id=\"df-c9d35937-8163-4331-b2a2-79a39e97895c\" class=\"colab-df-container\">\n",
       "    <div>\n",
       "<style scoped>\n",
       "    .dataframe tbody tr th:only-of-type {\n",
       "        vertical-align: middle;\n",
       "    }\n",
       "\n",
       "    .dataframe tbody tr th {\n",
       "        vertical-align: top;\n",
       "    }\n",
       "\n",
       "    .dataframe thead th {\n",
       "        text-align: right;\n",
       "    }\n",
       "</style>\n",
       "<table border=\"1\" class=\"dataframe\">\n",
       "  <thead>\n",
       "    <tr style=\"text-align: right;\">\n",
       "      <th></th>\n",
       "      <th>review_id</th>\n",
       "      <th>order_id</th>\n",
       "      <th>review_score</th>\n",
       "      <th>review_comment_title</th>\n",
       "      <th>review_comment_message</th>\n",
       "      <th>review_creation_date</th>\n",
       "      <th>review_answer_timestamp</th>\n",
       "      <th>has_comment</th>\n",
       "    </tr>\n",
       "  </thead>\n",
       "  <tbody>\n",
       "    <tr>\n",
       "      <th>1119</th>\n",
       "      <td>46abf3ea0b2710ad41390fdb79c32d84</td>\n",
       "      <td>5040757d4e06a4be96d3827b860b4e7c</td>\n",
       "      <td>5</td>\n",
       "      <td>No Title</td>\n",
       "      <td>No Comment</td>\n",
       "      <td>2017-11-07 00:00:00</td>\n",
       "      <td>2017-11-10 20:07:48</td>\n",
       "      <td>True</td>\n",
       "    </tr>\n",
       "    <tr>\n",
       "      <th>3109</th>\n",
       "      <td>aa193e76d35950c4ae988237bb36ed2b</td>\n",
       "      <td>cf73e2cb1f4a9480ed70c154da3d954a</td>\n",
       "      <td>5</td>\n",
       "      <td>No Title</td>\n",
       "      <td>No Comment</td>\n",
       "      <td>2018-01-18 00:00:00</td>\n",
       "      <td>2018-01-18 17:36:45</td>\n",
       "      <td>True</td>\n",
       "    </tr>\n",
       "    <tr>\n",
       "      <th>8108</th>\n",
       "      <td>40294ea5a778dc62080d6b3f55d361ce</td>\n",
       "      <td>e1bc1083cd7acd30d0576335373b907d</td>\n",
       "      <td>5</td>\n",
       "      <td>No Title</td>\n",
       "      <td>No Comment</td>\n",
       "      <td>2018-03-23 00:00:00</td>\n",
       "      <td>2018-03-24 00:23:06</td>\n",
       "      <td>True</td>\n",
       "    </tr>\n",
       "    <tr>\n",
       "      <th>9064</th>\n",
       "      <td>32e2c7e889f7a185d462265398ee3631</td>\n",
       "      <td>c7cfea0c153e6382e32e84c2a9dd7d2e</td>\n",
       "      <td>5</td>\n",
       "      <td>No Title</td>\n",
       "      <td>No Comment</td>\n",
       "      <td>2017-10-21 00:00:00</td>\n",
       "      <td>2017-10-22 00:47:25</td>\n",
       "      <td>True</td>\n",
       "    </tr>\n",
       "    <tr>\n",
       "      <th>9795</th>\n",
       "      <td>95a3135743556b117d888cc8c6e12e11</td>\n",
       "      <td>f9c78e6e58306dc81efbbada1ac11f24</td>\n",
       "      <td>3</td>\n",
       "      <td>No Title</td>\n",
       "      <td>O produto chegou antes do prazo mas recebi um ...</td>\n",
       "      <td>2017-09-14 00:00:00</td>\n",
       "      <td>2017-09-17 11:14:08</td>\n",
       "      <td>True</td>\n",
       "    </tr>\n",
       "  </tbody>\n",
       "</table>\n",
       "</div>\n",
       "    <div class=\"colab-df-buttons\">\n",
       "\n",
       "  <div class=\"colab-df-container\">\n",
       "    <button class=\"colab-df-convert\" onclick=\"convertToInteractive('df-c9d35937-8163-4331-b2a2-79a39e97895c')\"\n",
       "            title=\"Convert this dataframe to an interactive table.\"\n",
       "            style=\"display:none;\">\n",
       "\n",
       "  <svg xmlns=\"http://www.w3.org/2000/svg\" height=\"24px\" viewBox=\"0 -960 960 960\">\n",
       "    <path d=\"M120-120v-720h720v720H120Zm60-500h600v-160H180v160Zm220 220h160v-160H400v160Zm0 220h160v-160H400v160ZM180-400h160v-160H180v160Zm440 0h160v-160H620v160ZM180-180h160v-160H180v160Zm440 0h160v-160H620v160Z\"/>\n",
       "  </svg>\n",
       "    </button>\n",
       "\n",
       "  <style>\n",
       "    .colab-df-container {\n",
       "      display:flex;\n",
       "      gap: 12px;\n",
       "    }\n",
       "\n",
       "    .colab-df-convert {\n",
       "      background-color: #E8F0FE;\n",
       "      border: none;\n",
       "      border-radius: 50%;\n",
       "      cursor: pointer;\n",
       "      display: none;\n",
       "      fill: #1967D2;\n",
       "      height: 32px;\n",
       "      padding: 0 0 0 0;\n",
       "      width: 32px;\n",
       "    }\n",
       "\n",
       "    .colab-df-convert:hover {\n",
       "      background-color: #E2EBFA;\n",
       "      box-shadow: 0px 1px 2px rgba(60, 64, 67, 0.3), 0px 1px 3px 1px rgba(60, 64, 67, 0.15);\n",
       "      fill: #174EA6;\n",
       "    }\n",
       "\n",
       "    .colab-df-buttons div {\n",
       "      margin-bottom: 4px;\n",
       "    }\n",
       "\n",
       "    [theme=dark] .colab-df-convert {\n",
       "      background-color: #3B4455;\n",
       "      fill: #D2E3FC;\n",
       "    }\n",
       "\n",
       "    [theme=dark] .colab-df-convert:hover {\n",
       "      background-color: #434B5C;\n",
       "      box-shadow: 0px 1px 3px 1px rgba(0, 0, 0, 0.15);\n",
       "      filter: drop-shadow(0px 1px 2px rgba(0, 0, 0, 0.3));\n",
       "      fill: #FFFFFF;\n",
       "    }\n",
       "  </style>\n",
       "\n",
       "    <script>\n",
       "      const buttonEl =\n",
       "        document.querySelector('#df-c9d35937-8163-4331-b2a2-79a39e97895c button.colab-df-convert');\n",
       "      buttonEl.style.display =\n",
       "        google.colab.kernel.accessAllowed ? 'block' : 'none';\n",
       "\n",
       "      async function convertToInteractive(key) {\n",
       "        const element = document.querySelector('#df-c9d35937-8163-4331-b2a2-79a39e97895c');\n",
       "        const dataTable =\n",
       "          await google.colab.kernel.invokeFunction('convertToInteractive',\n",
       "                                                    [key], {});\n",
       "        if (!dataTable) return;\n",
       "\n",
       "        const docLinkHtml = 'Like what you see? Visit the ' +\n",
       "          '<a target=\"_blank\" href=https://colab.research.google.com/notebooks/data_table.ipynb>data table notebook</a>'\n",
       "          + ' to learn more about interactive tables.';\n",
       "        element.innerHTML = '';\n",
       "        dataTable['output_type'] = 'display_data';\n",
       "        await google.colab.output.renderOutput(dataTable, element);\n",
       "        const docLink = document.createElement('div');\n",
       "        docLink.innerHTML = docLinkHtml;\n",
       "        element.appendChild(docLink);\n",
       "      }\n",
       "    </script>\n",
       "  </div>\n",
       "\n",
       "\n",
       "    <div id=\"df-030bb37a-bee7-4794-b4a6-c146f7a50826\">\n",
       "      <button class=\"colab-df-quickchart\" onclick=\"quickchart('df-030bb37a-bee7-4794-b4a6-c146f7a50826')\"\n",
       "                title=\"Suggest charts\"\n",
       "                style=\"display:none;\">\n",
       "\n",
       "<svg xmlns=\"http://www.w3.org/2000/svg\" height=\"24px\"viewBox=\"0 0 24 24\"\n",
       "     width=\"24px\">\n",
       "    <g>\n",
       "        <path d=\"M19 3H5c-1.1 0-2 .9-2 2v14c0 1.1.9 2 2 2h14c1.1 0 2-.9 2-2V5c0-1.1-.9-2-2-2zM9 17H7v-7h2v7zm4 0h-2V7h2v10zm4 0h-2v-4h2v4z\"/>\n",
       "    </g>\n",
       "</svg>\n",
       "      </button>\n",
       "\n",
       "<style>\n",
       "  .colab-df-quickchart {\n",
       "      --bg-color: #E8F0FE;\n",
       "      --fill-color: #1967D2;\n",
       "      --hover-bg-color: #E2EBFA;\n",
       "      --hover-fill-color: #174EA6;\n",
       "      --disabled-fill-color: #AAA;\n",
       "      --disabled-bg-color: #DDD;\n",
       "  }\n",
       "\n",
       "  [theme=dark] .colab-df-quickchart {\n",
       "      --bg-color: #3B4455;\n",
       "      --fill-color: #D2E3FC;\n",
       "      --hover-bg-color: #434B5C;\n",
       "      --hover-fill-color: #FFFFFF;\n",
       "      --disabled-bg-color: #3B4455;\n",
       "      --disabled-fill-color: #666;\n",
       "  }\n",
       "\n",
       "  .colab-df-quickchart {\n",
       "    background-color: var(--bg-color);\n",
       "    border: none;\n",
       "    border-radius: 50%;\n",
       "    cursor: pointer;\n",
       "    display: none;\n",
       "    fill: var(--fill-color);\n",
       "    height: 32px;\n",
       "    padding: 0;\n",
       "    width: 32px;\n",
       "  }\n",
       "\n",
       "  .colab-df-quickchart:hover {\n",
       "    background-color: var(--hover-bg-color);\n",
       "    box-shadow: 0 1px 2px rgba(60, 64, 67, 0.3), 0 1px 3px 1px rgba(60, 64, 67, 0.15);\n",
       "    fill: var(--button-hover-fill-color);\n",
       "  }\n",
       "\n",
       "  .colab-df-quickchart-complete:disabled,\n",
       "  .colab-df-quickchart-complete:disabled:hover {\n",
       "    background-color: var(--disabled-bg-color);\n",
       "    fill: var(--disabled-fill-color);\n",
       "    box-shadow: none;\n",
       "  }\n",
       "\n",
       "  .colab-df-spinner {\n",
       "    border: 2px solid var(--fill-color);\n",
       "    border-color: transparent;\n",
       "    border-bottom-color: var(--fill-color);\n",
       "    animation:\n",
       "      spin 1s steps(1) infinite;\n",
       "  }\n",
       "\n",
       "  @keyframes spin {\n",
       "    0% {\n",
       "      border-color: transparent;\n",
       "      border-bottom-color: var(--fill-color);\n",
       "      border-left-color: var(--fill-color);\n",
       "    }\n",
       "    20% {\n",
       "      border-color: transparent;\n",
       "      border-left-color: var(--fill-color);\n",
       "      border-top-color: var(--fill-color);\n",
       "    }\n",
       "    30% {\n",
       "      border-color: transparent;\n",
       "      border-left-color: var(--fill-color);\n",
       "      border-top-color: var(--fill-color);\n",
       "      border-right-color: var(--fill-color);\n",
       "    }\n",
       "    40% {\n",
       "      border-color: transparent;\n",
       "      border-right-color: var(--fill-color);\n",
       "      border-top-color: var(--fill-color);\n",
       "    }\n",
       "    60% {\n",
       "      border-color: transparent;\n",
       "      border-right-color: var(--fill-color);\n",
       "    }\n",
       "    80% {\n",
       "      border-color: transparent;\n",
       "      border-right-color: var(--fill-color);\n",
       "      border-bottom-color: var(--fill-color);\n",
       "    }\n",
       "    90% {\n",
       "      border-color: transparent;\n",
       "      border-bottom-color: var(--fill-color);\n",
       "    }\n",
       "  }\n",
       "</style>\n",
       "\n",
       "      <script>\n",
       "        async function quickchart(key) {\n",
       "          const quickchartButtonEl =\n",
       "            document.querySelector('#' + key + ' button');\n",
       "          quickchartButtonEl.disabled = true;  // To prevent multiple clicks.\n",
       "          quickchartButtonEl.classList.add('colab-df-spinner');\n",
       "          try {\n",
       "            const charts = await google.colab.kernel.invokeFunction(\n",
       "                'suggestCharts', [key], {});\n",
       "          } catch (error) {\n",
       "            console.error('Error during call to suggestCharts:', error);\n",
       "          }\n",
       "          quickchartButtonEl.classList.remove('colab-df-spinner');\n",
       "          quickchartButtonEl.classList.add('colab-df-quickchart-complete');\n",
       "        }\n",
       "        (() => {\n",
       "          let quickchartButtonEl =\n",
       "            document.querySelector('#df-030bb37a-bee7-4794-b4a6-c146f7a50826 button');\n",
       "          quickchartButtonEl.style.display =\n",
       "            google.colab.kernel.accessAllowed ? 'block' : 'none';\n",
       "        })();\n",
       "      </script>\n",
       "    </div>\n",
       "\n",
       "    </div>\n",
       "  </div>\n"
      ],
      "text/plain": [
       "                             review_id                          order_id  \\\n",
       "1119  46abf3ea0b2710ad41390fdb79c32d84  5040757d4e06a4be96d3827b860b4e7c   \n",
       "3109  aa193e76d35950c4ae988237bb36ed2b  cf73e2cb1f4a9480ed70c154da3d954a   \n",
       "8108  40294ea5a778dc62080d6b3f55d361ce  e1bc1083cd7acd30d0576335373b907d   \n",
       "9064  32e2c7e889f7a185d462265398ee3631  c7cfea0c153e6382e32e84c2a9dd7d2e   \n",
       "9795  95a3135743556b117d888cc8c6e12e11  f9c78e6e58306dc81efbbada1ac11f24   \n",
       "\n",
       "      review_score review_comment_title  \\\n",
       "1119             5             No Title   \n",
       "3109             5             No Title   \n",
       "8108             5             No Title   \n",
       "9064             5             No Title   \n",
       "9795             3             No Title   \n",
       "\n",
       "                                 review_comment_message review_creation_date  \\\n",
       "1119                                         No Comment  2017-11-07 00:00:00   \n",
       "3109                                         No Comment  2018-01-18 00:00:00   \n",
       "8108                                         No Comment  2018-03-23 00:00:00   \n",
       "9064                                         No Comment  2017-10-21 00:00:00   \n",
       "9795  O produto chegou antes do prazo mas recebi um ...  2017-09-14 00:00:00   \n",
       "\n",
       "     review_answer_timestamp  has_comment  \n",
       "1119     2017-11-10 20:07:48         True  \n",
       "3109     2018-01-18 17:36:45         True  \n",
       "8108     2018-03-24 00:23:06         True  \n",
       "9064     2017-10-22 00:47:25         True  \n",
       "9795     2017-09-17 11:14:08         True  "
      ]
     },
     "execution_count": 18,
     "metadata": {},
     "output_type": "execute_result"
    }
   ],
   "source": [
    "rord = reviews[reviews['order_id'].duplicated()]\n",
    "print(tmp.shape)\n",
    "rord.head()"
   ]
  },
  {
   "cell_type": "code",
   "execution_count": 19,
   "metadata": {
    "colab": {
     "base_uri": "https://localhost:8080/",
     "height": 132
    },
    "executionInfo": {
     "elapsed": 134,
     "status": "ok",
     "timestamp": 1746804969548,
     "user": {
      "displayName": "Amira Kamel",
      "userId": "17694101562792701289"
     },
     "user_tz": -180
    },
    "id": "fYaY_7v_r_xu",
    "outputId": "5867c29b-1671-4583-b3f5-14921bc5b7b1"
   },
   "outputs": [
    {
     "data": {
      "application/vnd.google.colaboratory.intrinsic+json": {
       "repr_error": "0",
       "type": "dataframe"
      },
      "text/html": [
       "\n",
       "  <div id=\"df-2cbcb54c-62c9-4bb5-b78b-10be47826734\" class=\"colab-df-container\">\n",
       "    <div>\n",
       "<style scoped>\n",
       "    .dataframe tbody tr th:only-of-type {\n",
       "        vertical-align: middle;\n",
       "    }\n",
       "\n",
       "    .dataframe tbody tr th {\n",
       "        vertical-align: top;\n",
       "    }\n",
       "\n",
       "    .dataframe thead th {\n",
       "        text-align: right;\n",
       "    }\n",
       "</style>\n",
       "<table border=\"1\" class=\"dataframe\">\n",
       "  <thead>\n",
       "    <tr style=\"text-align: right;\">\n",
       "      <th></th>\n",
       "      <th>review_id</th>\n",
       "      <th>order_id</th>\n",
       "      <th>review_score</th>\n",
       "      <th>review_comment_title</th>\n",
       "      <th>review_comment_message</th>\n",
       "      <th>review_creation_date</th>\n",
       "      <th>review_answer_timestamp</th>\n",
       "      <th>has_comment</th>\n",
       "    </tr>\n",
       "  </thead>\n",
       "  <tbody>\n",
       "    <tr>\n",
       "      <th>1028</th>\n",
       "      <td>afd9b3d196f0acd81d79d8ccd79c2430</td>\n",
       "      <td>5040757d4e06a4be96d3827b860b4e7c</td>\n",
       "      <td>5</td>\n",
       "      <td>No Title</td>\n",
       "      <td>No Comment</td>\n",
       "      <td>2017-10-31 00:00:00</td>\n",
       "      <td>2017-11-04 21:12:29</td>\n",
       "      <td>True</td>\n",
       "    </tr>\n",
       "    <tr>\n",
       "      <th>1119</th>\n",
       "      <td>46abf3ea0b2710ad41390fdb79c32d84</td>\n",
       "      <td>5040757d4e06a4be96d3827b860b4e7c</td>\n",
       "      <td>5</td>\n",
       "      <td>No Title</td>\n",
       "      <td>No Comment</td>\n",
       "      <td>2017-11-07 00:00:00</td>\n",
       "      <td>2017-11-10 20:07:48</td>\n",
       "      <td>True</td>\n",
       "    </tr>\n",
       "  </tbody>\n",
       "</table>\n",
       "</div>\n",
       "    <div class=\"colab-df-buttons\">\n",
       "\n",
       "  <div class=\"colab-df-container\">\n",
       "    <button class=\"colab-df-convert\" onclick=\"convertToInteractive('df-2cbcb54c-62c9-4bb5-b78b-10be47826734')\"\n",
       "            title=\"Convert this dataframe to an interactive table.\"\n",
       "            style=\"display:none;\">\n",
       "\n",
       "  <svg xmlns=\"http://www.w3.org/2000/svg\" height=\"24px\" viewBox=\"0 -960 960 960\">\n",
       "    <path d=\"M120-120v-720h720v720H120Zm60-500h600v-160H180v160Zm220 220h160v-160H400v160Zm0 220h160v-160H400v160ZM180-400h160v-160H180v160Zm440 0h160v-160H620v160ZM180-180h160v-160H180v160Zm440 0h160v-160H620v160Z\"/>\n",
       "  </svg>\n",
       "    </button>\n",
       "\n",
       "  <style>\n",
       "    .colab-df-container {\n",
       "      display:flex;\n",
       "      gap: 12px;\n",
       "    }\n",
       "\n",
       "    .colab-df-convert {\n",
       "      background-color: #E8F0FE;\n",
       "      border: none;\n",
       "      border-radius: 50%;\n",
       "      cursor: pointer;\n",
       "      display: none;\n",
       "      fill: #1967D2;\n",
       "      height: 32px;\n",
       "      padding: 0 0 0 0;\n",
       "      width: 32px;\n",
       "    }\n",
       "\n",
       "    .colab-df-convert:hover {\n",
       "      background-color: #E2EBFA;\n",
       "      box-shadow: 0px 1px 2px rgba(60, 64, 67, 0.3), 0px 1px 3px 1px rgba(60, 64, 67, 0.15);\n",
       "      fill: #174EA6;\n",
       "    }\n",
       "\n",
       "    .colab-df-buttons div {\n",
       "      margin-bottom: 4px;\n",
       "    }\n",
       "\n",
       "    [theme=dark] .colab-df-convert {\n",
       "      background-color: #3B4455;\n",
       "      fill: #D2E3FC;\n",
       "    }\n",
       "\n",
       "    [theme=dark] .colab-df-convert:hover {\n",
       "      background-color: #434B5C;\n",
       "      box-shadow: 0px 1px 3px 1px rgba(0, 0, 0, 0.15);\n",
       "      filter: drop-shadow(0px 1px 2px rgba(0, 0, 0, 0.3));\n",
       "      fill: #FFFFFF;\n",
       "    }\n",
       "  </style>\n",
       "\n",
       "    <script>\n",
       "      const buttonEl =\n",
       "        document.querySelector('#df-2cbcb54c-62c9-4bb5-b78b-10be47826734 button.colab-df-convert');\n",
       "      buttonEl.style.display =\n",
       "        google.colab.kernel.accessAllowed ? 'block' : 'none';\n",
       "\n",
       "      async function convertToInteractive(key) {\n",
       "        const element = document.querySelector('#df-2cbcb54c-62c9-4bb5-b78b-10be47826734');\n",
       "        const dataTable =\n",
       "          await google.colab.kernel.invokeFunction('convertToInteractive',\n",
       "                                                    [key], {});\n",
       "        if (!dataTable) return;\n",
       "\n",
       "        const docLinkHtml = 'Like what you see? Visit the ' +\n",
       "          '<a target=\"_blank\" href=https://colab.research.google.com/notebooks/data_table.ipynb>data table notebook</a>'\n",
       "          + ' to learn more about interactive tables.';\n",
       "        element.innerHTML = '';\n",
       "        dataTable['output_type'] = 'display_data';\n",
       "        await google.colab.output.renderOutput(dataTable, element);\n",
       "        const docLink = document.createElement('div');\n",
       "        docLink.innerHTML = docLinkHtml;\n",
       "        element.appendChild(docLink);\n",
       "      }\n",
       "    </script>\n",
       "  </div>\n",
       "\n",
       "\n",
       "    <div id=\"df-10ed0160-fcf6-42cf-b3ed-d7b058f3ea84\">\n",
       "      <button class=\"colab-df-quickchart\" onclick=\"quickchart('df-10ed0160-fcf6-42cf-b3ed-d7b058f3ea84')\"\n",
       "                title=\"Suggest charts\"\n",
       "                style=\"display:none;\">\n",
       "\n",
       "<svg xmlns=\"http://www.w3.org/2000/svg\" height=\"24px\"viewBox=\"0 0 24 24\"\n",
       "     width=\"24px\">\n",
       "    <g>\n",
       "        <path d=\"M19 3H5c-1.1 0-2 .9-2 2v14c0 1.1.9 2 2 2h14c1.1 0 2-.9 2-2V5c0-1.1-.9-2-2-2zM9 17H7v-7h2v7zm4 0h-2V7h2v10zm4 0h-2v-4h2v4z\"/>\n",
       "    </g>\n",
       "</svg>\n",
       "      </button>\n",
       "\n",
       "<style>\n",
       "  .colab-df-quickchart {\n",
       "      --bg-color: #E8F0FE;\n",
       "      --fill-color: #1967D2;\n",
       "      --hover-bg-color: #E2EBFA;\n",
       "      --hover-fill-color: #174EA6;\n",
       "      --disabled-fill-color: #AAA;\n",
       "      --disabled-bg-color: #DDD;\n",
       "  }\n",
       "\n",
       "  [theme=dark] .colab-df-quickchart {\n",
       "      --bg-color: #3B4455;\n",
       "      --fill-color: #D2E3FC;\n",
       "      --hover-bg-color: #434B5C;\n",
       "      --hover-fill-color: #FFFFFF;\n",
       "      --disabled-bg-color: #3B4455;\n",
       "      --disabled-fill-color: #666;\n",
       "  }\n",
       "\n",
       "  .colab-df-quickchart {\n",
       "    background-color: var(--bg-color);\n",
       "    border: none;\n",
       "    border-radius: 50%;\n",
       "    cursor: pointer;\n",
       "    display: none;\n",
       "    fill: var(--fill-color);\n",
       "    height: 32px;\n",
       "    padding: 0;\n",
       "    width: 32px;\n",
       "  }\n",
       "\n",
       "  .colab-df-quickchart:hover {\n",
       "    background-color: var(--hover-bg-color);\n",
       "    box-shadow: 0 1px 2px rgba(60, 64, 67, 0.3), 0 1px 3px 1px rgba(60, 64, 67, 0.15);\n",
       "    fill: var(--button-hover-fill-color);\n",
       "  }\n",
       "\n",
       "  .colab-df-quickchart-complete:disabled,\n",
       "  .colab-df-quickchart-complete:disabled:hover {\n",
       "    background-color: var(--disabled-bg-color);\n",
       "    fill: var(--disabled-fill-color);\n",
       "    box-shadow: none;\n",
       "  }\n",
       "\n",
       "  .colab-df-spinner {\n",
       "    border: 2px solid var(--fill-color);\n",
       "    border-color: transparent;\n",
       "    border-bottom-color: var(--fill-color);\n",
       "    animation:\n",
       "      spin 1s steps(1) infinite;\n",
       "  }\n",
       "\n",
       "  @keyframes spin {\n",
       "    0% {\n",
       "      border-color: transparent;\n",
       "      border-bottom-color: var(--fill-color);\n",
       "      border-left-color: var(--fill-color);\n",
       "    }\n",
       "    20% {\n",
       "      border-color: transparent;\n",
       "      border-left-color: var(--fill-color);\n",
       "      border-top-color: var(--fill-color);\n",
       "    }\n",
       "    30% {\n",
       "      border-color: transparent;\n",
       "      border-left-color: var(--fill-color);\n",
       "      border-top-color: var(--fill-color);\n",
       "      border-right-color: var(--fill-color);\n",
       "    }\n",
       "    40% {\n",
       "      border-color: transparent;\n",
       "      border-right-color: var(--fill-color);\n",
       "      border-top-color: var(--fill-color);\n",
       "    }\n",
       "    60% {\n",
       "      border-color: transparent;\n",
       "      border-right-color: var(--fill-color);\n",
       "    }\n",
       "    80% {\n",
       "      border-color: transparent;\n",
       "      border-right-color: var(--fill-color);\n",
       "      border-bottom-color: var(--fill-color);\n",
       "    }\n",
       "    90% {\n",
       "      border-color: transparent;\n",
       "      border-bottom-color: var(--fill-color);\n",
       "    }\n",
       "  }\n",
       "</style>\n",
       "\n",
       "      <script>\n",
       "        async function quickchart(key) {\n",
       "          const quickchartButtonEl =\n",
       "            document.querySelector('#' + key + ' button');\n",
       "          quickchartButtonEl.disabled = true;  // To prevent multiple clicks.\n",
       "          quickchartButtonEl.classList.add('colab-df-spinner');\n",
       "          try {\n",
       "            const charts = await google.colab.kernel.invokeFunction(\n",
       "                'suggestCharts', [key], {});\n",
       "          } catch (error) {\n",
       "            console.error('Error during call to suggestCharts:', error);\n",
       "          }\n",
       "          quickchartButtonEl.classList.remove('colab-df-spinner');\n",
       "          quickchartButtonEl.classList.add('colab-df-quickchart-complete');\n",
       "        }\n",
       "        (() => {\n",
       "          let quickchartButtonEl =\n",
       "            document.querySelector('#df-10ed0160-fcf6-42cf-b3ed-d7b058f3ea84 button');\n",
       "          quickchartButtonEl.style.display =\n",
       "            google.colab.kernel.accessAllowed ? 'block' : 'none';\n",
       "        })();\n",
       "      </script>\n",
       "    </div>\n",
       "\n",
       "    </div>\n",
       "  </div>\n"
      ],
      "text/plain": [
       "                             review_id                          order_id  \\\n",
       "1028  afd9b3d196f0acd81d79d8ccd79c2430  5040757d4e06a4be96d3827b860b4e7c   \n",
       "1119  46abf3ea0b2710ad41390fdb79c32d84  5040757d4e06a4be96d3827b860b4e7c   \n",
       "\n",
       "      review_score review_comment_title review_comment_message  \\\n",
       "1028             5             No Title             No Comment   \n",
       "1119             5             No Title             No Comment   \n",
       "\n",
       "     review_creation_date review_answer_timestamp  has_comment  \n",
       "1028  2017-10-31 00:00:00     2017-11-04 21:12:29         True  \n",
       "1119  2017-11-07 00:00:00     2017-11-10 20:07:48         True  "
      ]
     },
     "execution_count": 19,
     "metadata": {},
     "output_type": "execute_result"
    }
   ],
   "source": [
    "reviews_cleaned[reviews_cleaned['order_id'] == '5040757d4e06a4be96d3827b860b4e7c']\n"
   ]
  },
  {
   "cell_type": "code",
   "execution_count": 20,
   "metadata": {
    "colab": {
     "base_uri": "https://localhost:8080/",
     "height": 118
    },
    "executionInfo": {
     "elapsed": 91,
     "status": "ok",
     "timestamp": 1746804994446,
     "user": {
      "displayName": "Amira Kamel",
      "userId": "17694101562792701289"
     },
     "user_tz": -180
    },
    "id": "KcxCSP4_r_t8",
    "outputId": "00e7f003-b9e5-4b31-e747-82ed239ff220"
   },
   "outputs": [
    {
     "data": {
      "application/vnd.google.colaboratory.intrinsic+json": {
       "repr_error": "0",
       "type": "dataframe"
      },
      "text/html": [
       "\n",
       "  <div id=\"df-89864524-522b-4297-858a-9c31a2690231\" class=\"colab-df-container\">\n",
       "    <div>\n",
       "<style scoped>\n",
       "    .dataframe tbody tr th:only-of-type {\n",
       "        vertical-align: middle;\n",
       "    }\n",
       "\n",
       "    .dataframe tbody tr th {\n",
       "        vertical-align: top;\n",
       "    }\n",
       "\n",
       "    .dataframe thead th {\n",
       "        text-align: right;\n",
       "    }\n",
       "</style>\n",
       "<table border=\"1\" class=\"dataframe\">\n",
       "  <thead>\n",
       "    <tr style=\"text-align: right;\">\n",
       "      <th></th>\n",
       "      <th>review_id</th>\n",
       "      <th>order_id</th>\n",
       "      <th>review_score</th>\n",
       "      <th>review_comment_title</th>\n",
       "      <th>review_comment_message</th>\n",
       "      <th>review_creation_date</th>\n",
       "      <th>review_answer_timestamp</th>\n",
       "      <th>has_comment</th>\n",
       "    </tr>\n",
       "  </thead>\n",
       "  <tbody>\n",
       "    <tr>\n",
       "      <th>4545</th>\n",
       "      <td>308316408775d1600dad81bd3184556d</td>\n",
       "      <td>27e5ed2ecefbe0bcc9ae0c9b26b763c3</td>\n",
       "      <td>5</td>\n",
       "      <td>No Title</td>\n",
       "      <td>Ajudem a rastrear uma das 3 prateleiras que fa...</td>\n",
       "      <td>2017-09-07 00:00:00</td>\n",
       "      <td>2017-09-11 09:58:09</td>\n",
       "      <td>True</td>\n",
       "    </tr>\n",
       "  </tbody>\n",
       "</table>\n",
       "</div>\n",
       "    <div class=\"colab-df-buttons\">\n",
       "\n",
       "  <div class=\"colab-df-container\">\n",
       "    <button class=\"colab-df-convert\" onclick=\"convertToInteractive('df-89864524-522b-4297-858a-9c31a2690231')\"\n",
       "            title=\"Convert this dataframe to an interactive table.\"\n",
       "            style=\"display:none;\">\n",
       "\n",
       "  <svg xmlns=\"http://www.w3.org/2000/svg\" height=\"24px\" viewBox=\"0 -960 960 960\">\n",
       "    <path d=\"M120-120v-720h720v720H120Zm60-500h600v-160H180v160Zm220 220h160v-160H400v160Zm0 220h160v-160H400v160ZM180-400h160v-160H180v160Zm440 0h160v-160H620v160ZM180-180h160v-160H180v160Zm440 0h160v-160H620v160Z\"/>\n",
       "  </svg>\n",
       "    </button>\n",
       "\n",
       "  <style>\n",
       "    .colab-df-container {\n",
       "      display:flex;\n",
       "      gap: 12px;\n",
       "    }\n",
       "\n",
       "    .colab-df-convert {\n",
       "      background-color: #E8F0FE;\n",
       "      border: none;\n",
       "      border-radius: 50%;\n",
       "      cursor: pointer;\n",
       "      display: none;\n",
       "      fill: #1967D2;\n",
       "      height: 32px;\n",
       "      padding: 0 0 0 0;\n",
       "      width: 32px;\n",
       "    }\n",
       "\n",
       "    .colab-df-convert:hover {\n",
       "      background-color: #E2EBFA;\n",
       "      box-shadow: 0px 1px 2px rgba(60, 64, 67, 0.3), 0px 1px 3px 1px rgba(60, 64, 67, 0.15);\n",
       "      fill: #174EA6;\n",
       "    }\n",
       "\n",
       "    .colab-df-buttons div {\n",
       "      margin-bottom: 4px;\n",
       "    }\n",
       "\n",
       "    [theme=dark] .colab-df-convert {\n",
       "      background-color: #3B4455;\n",
       "      fill: #D2E3FC;\n",
       "    }\n",
       "\n",
       "    [theme=dark] .colab-df-convert:hover {\n",
       "      background-color: #434B5C;\n",
       "      box-shadow: 0px 1px 3px 1px rgba(0, 0, 0, 0.15);\n",
       "      filter: drop-shadow(0px 1px 2px rgba(0, 0, 0, 0.3));\n",
       "      fill: #FFFFFF;\n",
       "    }\n",
       "  </style>\n",
       "\n",
       "    <script>\n",
       "      const buttonEl =\n",
       "        document.querySelector('#df-89864524-522b-4297-858a-9c31a2690231 button.colab-df-convert');\n",
       "      buttonEl.style.display =\n",
       "        google.colab.kernel.accessAllowed ? 'block' : 'none';\n",
       "\n",
       "      async function convertToInteractive(key) {\n",
       "        const element = document.querySelector('#df-89864524-522b-4297-858a-9c31a2690231');\n",
       "        const dataTable =\n",
       "          await google.colab.kernel.invokeFunction('convertToInteractive',\n",
       "                                                    [key], {});\n",
       "        if (!dataTable) return;\n",
       "\n",
       "        const docLinkHtml = 'Like what you see? Visit the ' +\n",
       "          '<a target=\"_blank\" href=https://colab.research.google.com/notebooks/data_table.ipynb>data table notebook</a>'\n",
       "          + ' to learn more about interactive tables.';\n",
       "        element.innerHTML = '';\n",
       "        dataTable['output_type'] = 'display_data';\n",
       "        await google.colab.output.renderOutput(dataTable, element);\n",
       "        const docLink = document.createElement('div');\n",
       "        docLink.innerHTML = docLinkHtml;\n",
       "        element.appendChild(docLink);\n",
       "      }\n",
       "    </script>\n",
       "  </div>\n",
       "\n",
       "\n",
       "    </div>\n",
       "  </div>\n"
      ],
      "text/plain": [
       "                             review_id                          order_id  \\\n",
       "4545  308316408775d1600dad81bd3184556d  27e5ed2ecefbe0bcc9ae0c9b26b763c3   \n",
       "\n",
       "      review_score review_comment_title  \\\n",
       "4545             5             No Title   \n",
       "\n",
       "                                 review_comment_message review_creation_date  \\\n",
       "4545  Ajudem a rastrear uma das 3 prateleiras que fa...  2017-09-07 00:00:00   \n",
       "\n",
       "     review_answer_timestamp  has_comment  \n",
       "4545     2017-09-11 09:58:09         True  "
      ]
     },
     "execution_count": 20,
     "metadata": {},
     "output_type": "execute_result"
    }
   ],
   "source": [
    "reviews_cleaned[reviews_cleaned['review_id'] == '308316408775d1600dad81bd3184556d']\n"
   ]
  },
  {
   "cell_type": "code",
   "execution_count": 21,
   "metadata": {
    "colab": {
     "base_uri": "https://localhost:8080/",
     "height": 132
    },
    "executionInfo": {
     "elapsed": 102,
     "status": "ok",
     "timestamp": 1746805006236,
     "user": {
      "displayName": "Amira Kamel",
      "userId": "17694101562792701289"
     },
     "user_tz": -180
    },
    "id": "EJRMQi8FsQFu",
    "outputId": "a87901d2-4284-48d6-bb4b-f2c39502d7f9"
   },
   "outputs": [
    {
     "data": {
      "application/vnd.google.colaboratory.intrinsic+json": {
       "repr_error": "0",
       "type": "dataframe"
      },
      "text/html": [
       "\n",
       "  <div id=\"df-e86bbc5d-194a-40c7-bbc6-4d7556573a89\" class=\"colab-df-container\">\n",
       "    <div>\n",
       "<style scoped>\n",
       "    .dataframe tbody tr th:only-of-type {\n",
       "        vertical-align: middle;\n",
       "    }\n",
       "\n",
       "    .dataframe tbody tr th {\n",
       "        vertical-align: top;\n",
       "    }\n",
       "\n",
       "    .dataframe thead th {\n",
       "        text-align: right;\n",
       "    }\n",
       "</style>\n",
       "<table border=\"1\" class=\"dataframe\">\n",
       "  <thead>\n",
       "    <tr style=\"text-align: right;\">\n",
       "      <th></th>\n",
       "      <th>review_id</th>\n",
       "      <th>order_id</th>\n",
       "      <th>review_score</th>\n",
       "      <th>review_comment_title</th>\n",
       "      <th>review_comment_message</th>\n",
       "      <th>review_creation_date</th>\n",
       "      <th>review_answer_timestamp</th>\n",
       "      <th>has_comment</th>\n",
       "    </tr>\n",
       "  </thead>\n",
       "  <tbody>\n",
       "    <tr>\n",
       "      <th>1028</th>\n",
       "      <td>afd9b3d196f0acd81d79d8ccd79c2430</td>\n",
       "      <td>5040757d4e06a4be96d3827b860b4e7c</td>\n",
       "      <td>5</td>\n",
       "      <td>No Title</td>\n",
       "      <td>No Comment</td>\n",
       "      <td>2017-10-31 00:00:00</td>\n",
       "      <td>2017-11-04 21:12:29</td>\n",
       "      <td>True</td>\n",
       "    </tr>\n",
       "    <tr>\n",
       "      <th>1119</th>\n",
       "      <td>46abf3ea0b2710ad41390fdb79c32d84</td>\n",
       "      <td>5040757d4e06a4be96d3827b860b4e7c</td>\n",
       "      <td>5</td>\n",
       "      <td>No Title</td>\n",
       "      <td>No Comment</td>\n",
       "      <td>2017-11-07 00:00:00</td>\n",
       "      <td>2017-11-10 20:07:48</td>\n",
       "      <td>True</td>\n",
       "    </tr>\n",
       "  </tbody>\n",
       "</table>\n",
       "</div>\n",
       "    <div class=\"colab-df-buttons\">\n",
       "\n",
       "  <div class=\"colab-df-container\">\n",
       "    <button class=\"colab-df-convert\" onclick=\"convertToInteractive('df-e86bbc5d-194a-40c7-bbc6-4d7556573a89')\"\n",
       "            title=\"Convert this dataframe to an interactive table.\"\n",
       "            style=\"display:none;\">\n",
       "\n",
       "  <svg xmlns=\"http://www.w3.org/2000/svg\" height=\"24px\" viewBox=\"0 -960 960 960\">\n",
       "    <path d=\"M120-120v-720h720v720H120Zm60-500h600v-160H180v160Zm220 220h160v-160H400v160Zm0 220h160v-160H400v160ZM180-400h160v-160H180v160Zm440 0h160v-160H620v160ZM180-180h160v-160H180v160Zm440 0h160v-160H620v160Z\"/>\n",
       "  </svg>\n",
       "    </button>\n",
       "\n",
       "  <style>\n",
       "    .colab-df-container {\n",
       "      display:flex;\n",
       "      gap: 12px;\n",
       "    }\n",
       "\n",
       "    .colab-df-convert {\n",
       "      background-color: #E8F0FE;\n",
       "      border: none;\n",
       "      border-radius: 50%;\n",
       "      cursor: pointer;\n",
       "      display: none;\n",
       "      fill: #1967D2;\n",
       "      height: 32px;\n",
       "      padding: 0 0 0 0;\n",
       "      width: 32px;\n",
       "    }\n",
       "\n",
       "    .colab-df-convert:hover {\n",
       "      background-color: #E2EBFA;\n",
       "      box-shadow: 0px 1px 2px rgba(60, 64, 67, 0.3), 0px 1px 3px 1px rgba(60, 64, 67, 0.15);\n",
       "      fill: #174EA6;\n",
       "    }\n",
       "\n",
       "    .colab-df-buttons div {\n",
       "      margin-bottom: 4px;\n",
       "    }\n",
       "\n",
       "    [theme=dark] .colab-df-convert {\n",
       "      background-color: #3B4455;\n",
       "      fill: #D2E3FC;\n",
       "    }\n",
       "\n",
       "    [theme=dark] .colab-df-convert:hover {\n",
       "      background-color: #434B5C;\n",
       "      box-shadow: 0px 1px 3px 1px rgba(0, 0, 0, 0.15);\n",
       "      filter: drop-shadow(0px 1px 2px rgba(0, 0, 0, 0.3));\n",
       "      fill: #FFFFFF;\n",
       "    }\n",
       "  </style>\n",
       "\n",
       "    <script>\n",
       "      const buttonEl =\n",
       "        document.querySelector('#df-e86bbc5d-194a-40c7-bbc6-4d7556573a89 button.colab-df-convert');\n",
       "      buttonEl.style.display =\n",
       "        google.colab.kernel.accessAllowed ? 'block' : 'none';\n",
       "\n",
       "      async function convertToInteractive(key) {\n",
       "        const element = document.querySelector('#df-e86bbc5d-194a-40c7-bbc6-4d7556573a89');\n",
       "        const dataTable =\n",
       "          await google.colab.kernel.invokeFunction('convertToInteractive',\n",
       "                                                    [key], {});\n",
       "        if (!dataTable) return;\n",
       "\n",
       "        const docLinkHtml = 'Like what you see? Visit the ' +\n",
       "          '<a target=\"_blank\" href=https://colab.research.google.com/notebooks/data_table.ipynb>data table notebook</a>'\n",
       "          + ' to learn more about interactive tables.';\n",
       "        element.innerHTML = '';\n",
       "        dataTable['output_type'] = 'display_data';\n",
       "        await google.colab.output.renderOutput(dataTable, element);\n",
       "        const docLink = document.createElement('div');\n",
       "        docLink.innerHTML = docLinkHtml;\n",
       "        element.appendChild(docLink);\n",
       "      }\n",
       "    </script>\n",
       "  </div>\n",
       "\n",
       "\n",
       "    <div id=\"df-84e5f37c-79a8-4d77-9261-25d6b653cf2a\">\n",
       "      <button class=\"colab-df-quickchart\" onclick=\"quickchart('df-84e5f37c-79a8-4d77-9261-25d6b653cf2a')\"\n",
       "                title=\"Suggest charts\"\n",
       "                style=\"display:none;\">\n",
       "\n",
       "<svg xmlns=\"http://www.w3.org/2000/svg\" height=\"24px\"viewBox=\"0 0 24 24\"\n",
       "     width=\"24px\">\n",
       "    <g>\n",
       "        <path d=\"M19 3H5c-1.1 0-2 .9-2 2v14c0 1.1.9 2 2 2h14c1.1 0 2-.9 2-2V5c0-1.1-.9-2-2-2zM9 17H7v-7h2v7zm4 0h-2V7h2v10zm4 0h-2v-4h2v4z\"/>\n",
       "    </g>\n",
       "</svg>\n",
       "      </button>\n",
       "\n",
       "<style>\n",
       "  .colab-df-quickchart {\n",
       "      --bg-color: #E8F0FE;\n",
       "      --fill-color: #1967D2;\n",
       "      --hover-bg-color: #E2EBFA;\n",
       "      --hover-fill-color: #174EA6;\n",
       "      --disabled-fill-color: #AAA;\n",
       "      --disabled-bg-color: #DDD;\n",
       "  }\n",
       "\n",
       "  [theme=dark] .colab-df-quickchart {\n",
       "      --bg-color: #3B4455;\n",
       "      --fill-color: #D2E3FC;\n",
       "      --hover-bg-color: #434B5C;\n",
       "      --hover-fill-color: #FFFFFF;\n",
       "      --disabled-bg-color: #3B4455;\n",
       "      --disabled-fill-color: #666;\n",
       "  }\n",
       "\n",
       "  .colab-df-quickchart {\n",
       "    background-color: var(--bg-color);\n",
       "    border: none;\n",
       "    border-radius: 50%;\n",
       "    cursor: pointer;\n",
       "    display: none;\n",
       "    fill: var(--fill-color);\n",
       "    height: 32px;\n",
       "    padding: 0;\n",
       "    width: 32px;\n",
       "  }\n",
       "\n",
       "  .colab-df-quickchart:hover {\n",
       "    background-color: var(--hover-bg-color);\n",
       "    box-shadow: 0 1px 2px rgba(60, 64, 67, 0.3), 0 1px 3px 1px rgba(60, 64, 67, 0.15);\n",
       "    fill: var(--button-hover-fill-color);\n",
       "  }\n",
       "\n",
       "  .colab-df-quickchart-complete:disabled,\n",
       "  .colab-df-quickchart-complete:disabled:hover {\n",
       "    background-color: var(--disabled-bg-color);\n",
       "    fill: var(--disabled-fill-color);\n",
       "    box-shadow: none;\n",
       "  }\n",
       "\n",
       "  .colab-df-spinner {\n",
       "    border: 2px solid var(--fill-color);\n",
       "    border-color: transparent;\n",
       "    border-bottom-color: var(--fill-color);\n",
       "    animation:\n",
       "      spin 1s steps(1) infinite;\n",
       "  }\n",
       "\n",
       "  @keyframes spin {\n",
       "    0% {\n",
       "      border-color: transparent;\n",
       "      border-bottom-color: var(--fill-color);\n",
       "      border-left-color: var(--fill-color);\n",
       "    }\n",
       "    20% {\n",
       "      border-color: transparent;\n",
       "      border-left-color: var(--fill-color);\n",
       "      border-top-color: var(--fill-color);\n",
       "    }\n",
       "    30% {\n",
       "      border-color: transparent;\n",
       "      border-left-color: var(--fill-color);\n",
       "      border-top-color: var(--fill-color);\n",
       "      border-right-color: var(--fill-color);\n",
       "    }\n",
       "    40% {\n",
       "      border-color: transparent;\n",
       "      border-right-color: var(--fill-color);\n",
       "      border-top-color: var(--fill-color);\n",
       "    }\n",
       "    60% {\n",
       "      border-color: transparent;\n",
       "      border-right-color: var(--fill-color);\n",
       "    }\n",
       "    80% {\n",
       "      border-color: transparent;\n",
       "      border-right-color: var(--fill-color);\n",
       "      border-bottom-color: var(--fill-color);\n",
       "    }\n",
       "    90% {\n",
       "      border-color: transparent;\n",
       "      border-bottom-color: var(--fill-color);\n",
       "    }\n",
       "  }\n",
       "</style>\n",
       "\n",
       "      <script>\n",
       "        async function quickchart(key) {\n",
       "          const quickchartButtonEl =\n",
       "            document.querySelector('#' + key + ' button');\n",
       "          quickchartButtonEl.disabled = true;  // To prevent multiple clicks.\n",
       "          quickchartButtonEl.classList.add('colab-df-spinner');\n",
       "          try {\n",
       "            const charts = await google.colab.kernel.invokeFunction(\n",
       "                'suggestCharts', [key], {});\n",
       "          } catch (error) {\n",
       "            console.error('Error during call to suggestCharts:', error);\n",
       "          }\n",
       "          quickchartButtonEl.classList.remove('colab-df-spinner');\n",
       "          quickchartButtonEl.classList.add('colab-df-quickchart-complete');\n",
       "        }\n",
       "        (() => {\n",
       "          let quickchartButtonEl =\n",
       "            document.querySelector('#df-84e5f37c-79a8-4d77-9261-25d6b653cf2a button');\n",
       "          quickchartButtonEl.style.display =\n",
       "            google.colab.kernel.accessAllowed ? 'block' : 'none';\n",
       "        })();\n",
       "      </script>\n",
       "    </div>\n",
       "\n",
       "    </div>\n",
       "  </div>\n"
      ],
      "text/plain": [
       "                             review_id                          order_id  \\\n",
       "1028  afd9b3d196f0acd81d79d8ccd79c2430  5040757d4e06a4be96d3827b860b4e7c   \n",
       "1119  46abf3ea0b2710ad41390fdb79c32d84  5040757d4e06a4be96d3827b860b4e7c   \n",
       "\n",
       "      review_score review_comment_title review_comment_message  \\\n",
       "1028             5             No Title             No Comment   \n",
       "1119             5             No Title             No Comment   \n",
       "\n",
       "     review_creation_date review_answer_timestamp  has_comment  \n",
       "1028  2017-10-31 00:00:00     2017-11-04 21:12:29         True  \n",
       "1119  2017-11-07 00:00:00     2017-11-10 20:07:48         True  "
      ]
     },
     "execution_count": 21,
     "metadata": {},
     "output_type": "execute_result"
    }
   ],
   "source": [
    "reviews_cleaned[reviews_cleaned['order_id'] == '5040757d4e06a4be96d3827b860b4e7c']\n"
   ]
  },
  {
   "cell_type": "code",
   "execution_count": 22,
   "metadata": {
    "executionInfo": {
     "elapsed": 212,
     "status": "ok",
     "timestamp": 1746805014506,
     "user": {
      "displayName": "Amira Kamel",
      "userId": "17694101562792701289"
     },
     "user_tz": -180
    },
    "id": "7PYK3BFfsQCb"
   },
   "outputs": [],
   "source": [
    "reviews_cleaned = reviews.dropna()\n",
    "\n",
    "reviews_cleaned = reviews_cleaned.drop(columns=[\"review_comment_title\", \"review_comment_message\"])\n"
   ]
  },
  {
   "cell_type": "code",
   "execution_count": 23,
   "metadata": {
    "colab": {
     "base_uri": "https://localhost:8080/",
     "height": 408
    },
    "executionInfo": {
     "elapsed": 8987,
     "status": "error",
     "timestamp": 1746805037281,
     "user": {
      "displayName": "Amira Kamel",
      "userId": "17694101562792701289"
     },
     "user_tz": -180
    },
    "id": "l1LI5IOEsP-4",
    "outputId": "b7928fec-d789-447d-f4b1-b1e0d288d225"
   },
   "outputs": [
    {
     "ename": "TypeError",
     "evalue": "unsupported operand type(s) for -: 'str' and 'str'",
     "output_type": "error",
     "traceback": [
      "\u001b[0;31m---------------------------------------------------------------------------\u001b[0m",
      "\u001b[0;31mTypeError\u001b[0m                                 Traceback (most recent call last)",
      "\u001b[0;32m/usr/local/lib/python3.11/dist-packages/pandas/core/ops/array_ops.py\u001b[0m in \u001b[0;36m_na_arithmetic_op\u001b[0;34m(left, right, op, is_cmp)\u001b[0m\n\u001b[1;32m    217\u001b[0m     \u001b[0;32mtry\u001b[0m\u001b[0;34m:\u001b[0m\u001b[0;34m\u001b[0m\u001b[0;34m\u001b[0m\u001b[0m\n\u001b[0;32m--> 218\u001b[0;31m         \u001b[0mresult\u001b[0m \u001b[0;34m=\u001b[0m \u001b[0mfunc\u001b[0m\u001b[0;34m(\u001b[0m\u001b[0mleft\u001b[0m\u001b[0;34m,\u001b[0m \u001b[0mright\u001b[0m\u001b[0;34m)\u001b[0m\u001b[0;34m\u001b[0m\u001b[0;34m\u001b[0m\u001b[0m\n\u001b[0m\u001b[1;32m    219\u001b[0m     \u001b[0;32mexcept\u001b[0m \u001b[0mTypeError\u001b[0m\u001b[0;34m:\u001b[0m\u001b[0;34m\u001b[0m\u001b[0;34m\u001b[0m\u001b[0m\n",
      "\u001b[0;32m/usr/local/lib/python3.11/dist-packages/pandas/core/computation/expressions.py\u001b[0m in \u001b[0;36mevaluate\u001b[0;34m(op, a, b, use_numexpr)\u001b[0m\n\u001b[1;32m    241\u001b[0m             \u001b[0;31m# error: \"None\" not callable\u001b[0m\u001b[0;34m\u001b[0m\u001b[0;34m\u001b[0m\u001b[0m\n\u001b[0;32m--> 242\u001b[0;31m             \u001b[0;32mreturn\u001b[0m \u001b[0m_evaluate\u001b[0m\u001b[0;34m(\u001b[0m\u001b[0mop\u001b[0m\u001b[0;34m,\u001b[0m \u001b[0mop_str\u001b[0m\u001b[0;34m,\u001b[0m \u001b[0ma\u001b[0m\u001b[0;34m,\u001b[0m \u001b[0mb\u001b[0m\u001b[0;34m)\u001b[0m  \u001b[0;31m# type: ignore[misc]\u001b[0m\u001b[0;34m\u001b[0m\u001b[0;34m\u001b[0m\u001b[0m\n\u001b[0m\u001b[1;32m    243\u001b[0m     \u001b[0;32mreturn\u001b[0m \u001b[0m_evaluate_standard\u001b[0m\u001b[0;34m(\u001b[0m\u001b[0mop\u001b[0m\u001b[0;34m,\u001b[0m \u001b[0mop_str\u001b[0m\u001b[0;34m,\u001b[0m \u001b[0ma\u001b[0m\u001b[0;34m,\u001b[0m \u001b[0mb\u001b[0m\u001b[0;34m)\u001b[0m\u001b[0;34m\u001b[0m\u001b[0;34m\u001b[0m\u001b[0m\n",
      "\u001b[0;32m/usr/local/lib/python3.11/dist-packages/pandas/core/computation/expressions.py\u001b[0m in \u001b[0;36m_evaluate_numexpr\u001b[0;34m(op, op_str, a, b)\u001b[0m\n\u001b[1;32m    130\u001b[0m     \u001b[0;32mif\u001b[0m \u001b[0mresult\u001b[0m \u001b[0;32mis\u001b[0m \u001b[0;32mNone\u001b[0m\u001b[0;34m:\u001b[0m\u001b[0;34m\u001b[0m\u001b[0;34m\u001b[0m\u001b[0m\n\u001b[0;32m--> 131\u001b[0;31m         \u001b[0mresult\u001b[0m \u001b[0;34m=\u001b[0m \u001b[0m_evaluate_standard\u001b[0m\u001b[0;34m(\u001b[0m\u001b[0mop\u001b[0m\u001b[0;34m,\u001b[0m \u001b[0mop_str\u001b[0m\u001b[0;34m,\u001b[0m \u001b[0ma\u001b[0m\u001b[0;34m,\u001b[0m \u001b[0mb\u001b[0m\u001b[0;34m)\u001b[0m\u001b[0;34m\u001b[0m\u001b[0;34m\u001b[0m\u001b[0m\n\u001b[0m\u001b[1;32m    132\u001b[0m \u001b[0;34m\u001b[0m\u001b[0m\n",
      "\u001b[0;32m/usr/local/lib/python3.11/dist-packages/pandas/core/computation/expressions.py\u001b[0m in \u001b[0;36m_evaluate_standard\u001b[0;34m(op, op_str, a, b)\u001b[0m\n\u001b[1;32m     72\u001b[0m         \u001b[0m_store_test_result\u001b[0m\u001b[0;34m(\u001b[0m\u001b[0;32mFalse\u001b[0m\u001b[0;34m)\u001b[0m\u001b[0;34m\u001b[0m\u001b[0;34m\u001b[0m\u001b[0m\n\u001b[0;32m---> 73\u001b[0;31m     \u001b[0;32mreturn\u001b[0m \u001b[0mop\u001b[0m\u001b[0;34m(\u001b[0m\u001b[0ma\u001b[0m\u001b[0;34m,\u001b[0m \u001b[0mb\u001b[0m\u001b[0;34m)\u001b[0m\u001b[0;34m\u001b[0m\u001b[0;34m\u001b[0m\u001b[0m\n\u001b[0m\u001b[1;32m     74\u001b[0m \u001b[0;34m\u001b[0m\u001b[0m\n",
      "\u001b[0;31mTypeError\u001b[0m: unsupported operand type(s) for -: 'str' and 'str'",
      "\nDuring handling of the above exception, another exception occurred:\n",
      "\u001b[0;31mTypeError\u001b[0m                                 Traceback (most recent call last)",
      "\u001b[0;32m<ipython-input-23-f56a3d8e1c6a>\u001b[0m in \u001b[0;36m<cell line: 0>\u001b[0;34m()\u001b[0m\n\u001b[1;32m      1\u001b[0m reviews_cleaned['days_until_review'] = (\n\u001b[0;32m----> 2\u001b[0;31m     \u001b[0mreviews_cleaned\u001b[0m\u001b[0;34m[\u001b[0m\u001b[0;34m'review_creation_date'\u001b[0m\u001b[0;34m]\u001b[0m \u001b[0;34m-\u001b[0m \u001b[0mreviews_cleaned\u001b[0m\u001b[0;34m.\u001b[0m\u001b[0mgroupby\u001b[0m\u001b[0;34m(\u001b[0m\u001b[0;34m'order_id'\u001b[0m\u001b[0;34m)\u001b[0m\u001b[0;34m[\u001b[0m\u001b[0;34m'review_creation_date'\u001b[0m\u001b[0;34m]\u001b[0m\u001b[0;34m.\u001b[0m\u001b[0mtransform\u001b[0m\u001b[0;34m(\u001b[0m\u001b[0;34m'min'\u001b[0m\u001b[0;34m)\u001b[0m\u001b[0;34m\u001b[0m\u001b[0;34m\u001b[0m\u001b[0m\n\u001b[0m\u001b[1;32m      3\u001b[0m ).dt.days\n",
      "\u001b[0;32m/usr/local/lib/python3.11/dist-packages/pandas/core/ops/common.py\u001b[0m in \u001b[0;36mnew_method\u001b[0;34m(self, other)\u001b[0m\n\u001b[1;32m     74\u001b[0m         \u001b[0mother\u001b[0m \u001b[0;34m=\u001b[0m \u001b[0mitem_from_zerodim\u001b[0m\u001b[0;34m(\u001b[0m\u001b[0mother\u001b[0m\u001b[0;34m)\u001b[0m\u001b[0;34m\u001b[0m\u001b[0;34m\u001b[0m\u001b[0m\n\u001b[1;32m     75\u001b[0m \u001b[0;34m\u001b[0m\u001b[0m\n\u001b[0;32m---> 76\u001b[0;31m         \u001b[0;32mreturn\u001b[0m \u001b[0mmethod\u001b[0m\u001b[0;34m(\u001b[0m\u001b[0mself\u001b[0m\u001b[0;34m,\u001b[0m \u001b[0mother\u001b[0m\u001b[0;34m)\u001b[0m\u001b[0;34m\u001b[0m\u001b[0;34m\u001b[0m\u001b[0m\n\u001b[0m\u001b[1;32m     77\u001b[0m \u001b[0;34m\u001b[0m\u001b[0m\n\u001b[1;32m     78\u001b[0m     \u001b[0;32mreturn\u001b[0m \u001b[0mnew_method\u001b[0m\u001b[0;34m\u001b[0m\u001b[0;34m\u001b[0m\u001b[0m\n",
      "\u001b[0;32m/usr/local/lib/python3.11/dist-packages/pandas/core/arraylike.py\u001b[0m in \u001b[0;36m__sub__\u001b[0;34m(self, other)\u001b[0m\n\u001b[1;32m    192\u001b[0m     \u001b[0;34m@\u001b[0m\u001b[0munpack_zerodim_and_defer\u001b[0m\u001b[0;34m(\u001b[0m\u001b[0;34m\"__sub__\"\u001b[0m\u001b[0;34m)\u001b[0m\u001b[0;34m\u001b[0m\u001b[0;34m\u001b[0m\u001b[0m\n\u001b[1;32m    193\u001b[0m     \u001b[0;32mdef\u001b[0m \u001b[0m__sub__\u001b[0m\u001b[0;34m(\u001b[0m\u001b[0mself\u001b[0m\u001b[0;34m,\u001b[0m \u001b[0mother\u001b[0m\u001b[0;34m)\u001b[0m\u001b[0;34m:\u001b[0m\u001b[0;34m\u001b[0m\u001b[0;34m\u001b[0m\u001b[0m\n\u001b[0;32m--> 194\u001b[0;31m         \u001b[0;32mreturn\u001b[0m \u001b[0mself\u001b[0m\u001b[0;34m.\u001b[0m\u001b[0m_arith_method\u001b[0m\u001b[0;34m(\u001b[0m\u001b[0mother\u001b[0m\u001b[0;34m,\u001b[0m \u001b[0moperator\u001b[0m\u001b[0;34m.\u001b[0m\u001b[0msub\u001b[0m\u001b[0;34m)\u001b[0m\u001b[0;34m\u001b[0m\u001b[0;34m\u001b[0m\u001b[0m\n\u001b[0m\u001b[1;32m    195\u001b[0m \u001b[0;34m\u001b[0m\u001b[0m\n\u001b[1;32m    196\u001b[0m     \u001b[0;34m@\u001b[0m\u001b[0munpack_zerodim_and_defer\u001b[0m\u001b[0;34m(\u001b[0m\u001b[0;34m\"__rsub__\"\u001b[0m\u001b[0;34m)\u001b[0m\u001b[0;34m\u001b[0m\u001b[0;34m\u001b[0m\u001b[0m\n",
      "\u001b[0;32m/usr/local/lib/python3.11/dist-packages/pandas/core/series.py\u001b[0m in \u001b[0;36m_arith_method\u001b[0;34m(self, other, op)\u001b[0m\n\u001b[1;32m   6133\u001b[0m     \u001b[0;32mdef\u001b[0m \u001b[0m_arith_method\u001b[0m\u001b[0;34m(\u001b[0m\u001b[0mself\u001b[0m\u001b[0;34m,\u001b[0m \u001b[0mother\u001b[0m\u001b[0;34m,\u001b[0m \u001b[0mop\u001b[0m\u001b[0;34m)\u001b[0m\u001b[0;34m:\u001b[0m\u001b[0;34m\u001b[0m\u001b[0;34m\u001b[0m\u001b[0m\n\u001b[1;32m   6134\u001b[0m         \u001b[0mself\u001b[0m\u001b[0;34m,\u001b[0m \u001b[0mother\u001b[0m \u001b[0;34m=\u001b[0m \u001b[0mself\u001b[0m\u001b[0;34m.\u001b[0m\u001b[0m_align_for_op\u001b[0m\u001b[0;34m(\u001b[0m\u001b[0mother\u001b[0m\u001b[0;34m)\u001b[0m\u001b[0;34m\u001b[0m\u001b[0;34m\u001b[0m\u001b[0m\n\u001b[0;32m-> 6135\u001b[0;31m         \u001b[0;32mreturn\u001b[0m \u001b[0mbase\u001b[0m\u001b[0;34m.\u001b[0m\u001b[0mIndexOpsMixin\u001b[0m\u001b[0;34m.\u001b[0m\u001b[0m_arith_method\u001b[0m\u001b[0;34m(\u001b[0m\u001b[0mself\u001b[0m\u001b[0;34m,\u001b[0m \u001b[0mother\u001b[0m\u001b[0;34m,\u001b[0m \u001b[0mop\u001b[0m\u001b[0;34m)\u001b[0m\u001b[0;34m\u001b[0m\u001b[0;34m\u001b[0m\u001b[0m\n\u001b[0m\u001b[1;32m   6136\u001b[0m \u001b[0;34m\u001b[0m\u001b[0m\n\u001b[1;32m   6137\u001b[0m     \u001b[0;32mdef\u001b[0m \u001b[0m_align_for_op\u001b[0m\u001b[0;34m(\u001b[0m\u001b[0mself\u001b[0m\u001b[0;34m,\u001b[0m \u001b[0mright\u001b[0m\u001b[0;34m,\u001b[0m \u001b[0malign_asobject\u001b[0m\u001b[0;34m:\u001b[0m \u001b[0mbool\u001b[0m \u001b[0;34m=\u001b[0m \u001b[0;32mFalse\u001b[0m\u001b[0;34m)\u001b[0m\u001b[0;34m:\u001b[0m\u001b[0;34m\u001b[0m\u001b[0;34m\u001b[0m\u001b[0m\n",
      "\u001b[0;32m/usr/local/lib/python3.11/dist-packages/pandas/core/base.py\u001b[0m in \u001b[0;36m_arith_method\u001b[0;34m(self, other, op)\u001b[0m\n\u001b[1;32m   1380\u001b[0m \u001b[0;34m\u001b[0m\u001b[0m\n\u001b[1;32m   1381\u001b[0m         \u001b[0;32mwith\u001b[0m \u001b[0mnp\u001b[0m\u001b[0;34m.\u001b[0m\u001b[0merrstate\u001b[0m\u001b[0;34m(\u001b[0m\u001b[0mall\u001b[0m\u001b[0;34m=\u001b[0m\u001b[0;34m\"ignore\"\u001b[0m\u001b[0;34m)\u001b[0m\u001b[0;34m:\u001b[0m\u001b[0;34m\u001b[0m\u001b[0;34m\u001b[0m\u001b[0m\n\u001b[0;32m-> 1382\u001b[0;31m             \u001b[0mresult\u001b[0m \u001b[0;34m=\u001b[0m \u001b[0mops\u001b[0m\u001b[0;34m.\u001b[0m\u001b[0marithmetic_op\u001b[0m\u001b[0;34m(\u001b[0m\u001b[0mlvalues\u001b[0m\u001b[0;34m,\u001b[0m \u001b[0mrvalues\u001b[0m\u001b[0;34m,\u001b[0m \u001b[0mop\u001b[0m\u001b[0;34m)\u001b[0m\u001b[0;34m\u001b[0m\u001b[0;34m\u001b[0m\u001b[0m\n\u001b[0m\u001b[1;32m   1383\u001b[0m \u001b[0;34m\u001b[0m\u001b[0m\n\u001b[1;32m   1384\u001b[0m         \u001b[0;32mreturn\u001b[0m \u001b[0mself\u001b[0m\u001b[0;34m.\u001b[0m\u001b[0m_construct_result\u001b[0m\u001b[0;34m(\u001b[0m\u001b[0mresult\u001b[0m\u001b[0;34m,\u001b[0m \u001b[0mname\u001b[0m\u001b[0;34m=\u001b[0m\u001b[0mres_name\u001b[0m\u001b[0;34m)\u001b[0m\u001b[0;34m\u001b[0m\u001b[0;34m\u001b[0m\u001b[0m\n",
      "\u001b[0;32m/usr/local/lib/python3.11/dist-packages/pandas/core/ops/array_ops.py\u001b[0m in \u001b[0;36marithmetic_op\u001b[0;34m(left, right, op)\u001b[0m\n\u001b[1;32m    281\u001b[0m         \u001b[0;31m# error: Argument 1 to \"_na_arithmetic_op\" has incompatible type\u001b[0m\u001b[0;34m\u001b[0m\u001b[0;34m\u001b[0m\u001b[0m\n\u001b[1;32m    282\u001b[0m         \u001b[0;31m# \"Union[ExtensionArray, ndarray[Any, Any]]\"; expected \"ndarray[Any, Any]\"\u001b[0m\u001b[0;34m\u001b[0m\u001b[0;34m\u001b[0m\u001b[0m\n\u001b[0;32m--> 283\u001b[0;31m         \u001b[0mres_values\u001b[0m \u001b[0;34m=\u001b[0m \u001b[0m_na_arithmetic_op\u001b[0m\u001b[0;34m(\u001b[0m\u001b[0mleft\u001b[0m\u001b[0;34m,\u001b[0m \u001b[0mright\u001b[0m\u001b[0;34m,\u001b[0m \u001b[0mop\u001b[0m\u001b[0;34m)\u001b[0m  \u001b[0;31m# type: ignore[arg-type]\u001b[0m\u001b[0;34m\u001b[0m\u001b[0;34m\u001b[0m\u001b[0m\n\u001b[0m\u001b[1;32m    284\u001b[0m \u001b[0;34m\u001b[0m\u001b[0m\n\u001b[1;32m    285\u001b[0m     \u001b[0;32mreturn\u001b[0m \u001b[0mres_values\u001b[0m\u001b[0;34m\u001b[0m\u001b[0;34m\u001b[0m\u001b[0m\n",
      "\u001b[0;32m/usr/local/lib/python3.11/dist-packages/pandas/core/ops/array_ops.py\u001b[0m in \u001b[0;36m_na_arithmetic_op\u001b[0;34m(left, right, op, is_cmp)\u001b[0m\n\u001b[1;32m    225\u001b[0m             \u001b[0;31m# Don't do this for comparisons, as that will handle complex numbers\u001b[0m\u001b[0;34m\u001b[0m\u001b[0;34m\u001b[0m\u001b[0m\n\u001b[1;32m    226\u001b[0m             \u001b[0;31m#  incorrectly, see GH#32047\u001b[0m\u001b[0;34m\u001b[0m\u001b[0;34m\u001b[0m\u001b[0m\n\u001b[0;32m--> 227\u001b[0;31m             \u001b[0mresult\u001b[0m \u001b[0;34m=\u001b[0m \u001b[0m_masked_arith_op\u001b[0m\u001b[0;34m(\u001b[0m\u001b[0mleft\u001b[0m\u001b[0;34m,\u001b[0m \u001b[0mright\u001b[0m\u001b[0;34m,\u001b[0m \u001b[0mop\u001b[0m\u001b[0;34m)\u001b[0m\u001b[0;34m\u001b[0m\u001b[0;34m\u001b[0m\u001b[0m\n\u001b[0m\u001b[1;32m    228\u001b[0m         \u001b[0;32melse\u001b[0m\u001b[0;34m:\u001b[0m\u001b[0;34m\u001b[0m\u001b[0;34m\u001b[0m\u001b[0m\n\u001b[1;32m    229\u001b[0m             \u001b[0;32mraise\u001b[0m\u001b[0;34m\u001b[0m\u001b[0;34m\u001b[0m\u001b[0m\n",
      "\u001b[0;32m/usr/local/lib/python3.11/dist-packages/pandas/core/ops/array_ops.py\u001b[0m in \u001b[0;36m_masked_arith_op\u001b[0;34m(x, y, op)\u001b[0m\n\u001b[1;32m    161\u001b[0m         \u001b[0;31m# See GH#5284, GH#5035, GH#19448 for historical reference\u001b[0m\u001b[0;34m\u001b[0m\u001b[0;34m\u001b[0m\u001b[0m\n\u001b[1;32m    162\u001b[0m         \u001b[0;32mif\u001b[0m \u001b[0mmask\u001b[0m\u001b[0;34m.\u001b[0m\u001b[0many\u001b[0m\u001b[0;34m(\u001b[0m\u001b[0;34m)\u001b[0m\u001b[0;34m:\u001b[0m\u001b[0;34m\u001b[0m\u001b[0;34m\u001b[0m\u001b[0m\n\u001b[0;32m--> 163\u001b[0;31m             \u001b[0mresult\u001b[0m\u001b[0;34m[\u001b[0m\u001b[0mmask\u001b[0m\u001b[0;34m]\u001b[0m \u001b[0;34m=\u001b[0m \u001b[0mop\u001b[0m\u001b[0;34m(\u001b[0m\u001b[0mxrav\u001b[0m\u001b[0;34m[\u001b[0m\u001b[0mmask\u001b[0m\u001b[0;34m]\u001b[0m\u001b[0;34m,\u001b[0m \u001b[0myrav\u001b[0m\u001b[0;34m[\u001b[0m\u001b[0mmask\u001b[0m\u001b[0;34m]\u001b[0m\u001b[0;34m)\u001b[0m\u001b[0;34m\u001b[0m\u001b[0;34m\u001b[0m\u001b[0m\n\u001b[0m\u001b[1;32m    164\u001b[0m \u001b[0;34m\u001b[0m\u001b[0m\n\u001b[1;32m    165\u001b[0m     \u001b[0;32melse\u001b[0m\u001b[0;34m:\u001b[0m\u001b[0;34m\u001b[0m\u001b[0;34m\u001b[0m\u001b[0m\n",
      "\u001b[0;31mTypeError\u001b[0m: unsupported operand type(s) for -: 'str' and 'str'"
     ]
    }
   ],
   "source": [
    "reviews_cleaned['days_until_review'] = (\n",
    "    reviews_cleaned['review_creation_date'] - reviews_cleaned.groupby('order_id')['review_creation_date'].transform('min')\n",
    ").dt.days\n"
   ]
  },
  {
   "cell_type": "code",
   "execution_count": 24,
   "metadata": {
    "colab": {
     "base_uri": "https://localhost:8080/"
    },
    "executionInfo": {
     "elapsed": 32,
     "status": "ok",
     "timestamp": 1746805057257,
     "user": {
      "displayName": "Amira Kamel",
      "userId": "17694101562792701289"
     },
     "user_tz": -180
    },
    "id": "D1LrUxVur_qC",
    "outputId": "f4bbb011-770f-4caa-d80b-b85398a6498d"
   },
   "outputs": [
    {
     "name": "stdout",
     "output_type": "stream",
     "text": [
      "Index(['review_id', 'order_id', 'review_score', 'review_creation_date',\n",
      "       'review_answer_timestamp', 'has_comment'],\n",
      "      dtype='object')\n"
     ]
    }
   ],
   "source": [
    "print(reviews_cleaned.columns)\n"
   ]
  },
  {
   "cell_type": "code",
   "execution_count": 25,
   "metadata": {
    "colab": {
     "base_uri": "https://localhost:8080/",
     "height": 206
    },
    "executionInfo": {
     "elapsed": 920,
     "status": "ok",
     "timestamp": 1746805068119,
     "user": {
      "displayName": "Amira Kamel",
      "userId": "17694101562792701289"
     },
     "user_tz": -180
    },
    "id": "u8ZGm_CTsgUr",
    "outputId": "6966193c-3e3a-4a83-c85c-b876880c269d"
   },
   "outputs": [
    {
     "data": {
      "application/vnd.google.colaboratory.intrinsic+json": {
       "summary": "{\n  \"name\": \"reviews_cleaned\",\n  \"rows\": 99224,\n  \"fields\": [\n    {\n      \"column\": \"review_id\",\n      \"properties\": {\n        \"dtype\": \"string\",\n        \"num_unique_values\": 98410,\n        \"samples\": [\n          \"ce4db7bc68bf7fa8d618d214203b15a3\",\n          \"7c93bc469d3617c77df6aed62ee09477\",\n          \"f39646c4059692442fe5734784cd9d50\"\n        ],\n        \"semantic_type\": \"\",\n        \"description\": \"\"\n      }\n    },\n    {\n      \"column\": \"order_id\",\n      \"properties\": {\n        \"dtype\": \"string\",\n        \"num_unique_values\": 98673,\n        \"samples\": [\n          \"bbfb6afc6b09bb994e0093a008ec7675\",\n          \"182e6edb8cb190cada2690d7c7d78e76\",\n          \"99a3c8e51539b3ccb221a27cc29367f2\"\n        ],\n        \"semantic_type\": \"\",\n        \"description\": \"\"\n      }\n    },\n    {\n      \"column\": \"review_score\",\n      \"properties\": {\n        \"dtype\": \"number\",\n        \"std\": 1,\n        \"min\": 1,\n        \"max\": 5,\n        \"num_unique_values\": 5,\n        \"samples\": [\n          5,\n          2,\n          1\n        ],\n        \"semantic_type\": \"\",\n        \"description\": \"\"\n      }\n    },\n    {\n      \"column\": \"review_creation_date\",\n      \"properties\": {\n        \"dtype\": \"object\",\n        \"num_unique_values\": 636,\n        \"samples\": [\n          \"2017-05-03 00:00:00\",\n          \"2017-03-13 00:00:00\",\n          \"2017-08-03 00:00:00\"\n        ],\n        \"semantic_type\": \"\",\n        \"description\": \"\"\n      }\n    },\n    {\n      \"column\": \"review_answer_timestamp\",\n      \"properties\": {\n        \"dtype\": \"object\",\n        \"num_unique_values\": 98248,\n        \"samples\": [\n          \"2018-08-23 13:09:13\",\n          \"2017-11-01 21:19:58\",\n          \"2017-07-20 11:07:29\"\n        ],\n        \"semantic_type\": \"\",\n        \"description\": \"\"\n      }\n    },\n    {\n      \"column\": \"has_comment\",\n      \"properties\": {\n        \"dtype\": \"boolean\",\n        \"num_unique_values\": 1,\n        \"samples\": [\n          true\n        ],\n        \"semantic_type\": \"\",\n        \"description\": \"\"\n      }\n    }\n  ]\n}",
       "type": "dataframe",
       "variable_name": "reviews_cleaned"
      },
      "text/html": [
       "\n",
       "  <div id=\"df-77128af0-810d-4a21-b11d-dd23a42ef8d7\" class=\"colab-df-container\">\n",
       "    <div>\n",
       "<style scoped>\n",
       "    .dataframe tbody tr th:only-of-type {\n",
       "        vertical-align: middle;\n",
       "    }\n",
       "\n",
       "    .dataframe tbody tr th {\n",
       "        vertical-align: top;\n",
       "    }\n",
       "\n",
       "    .dataframe thead th {\n",
       "        text-align: right;\n",
       "    }\n",
       "</style>\n",
       "<table border=\"1\" class=\"dataframe\">\n",
       "  <thead>\n",
       "    <tr style=\"text-align: right;\">\n",
       "      <th></th>\n",
       "      <th>review_id</th>\n",
       "      <th>order_id</th>\n",
       "      <th>review_score</th>\n",
       "      <th>review_creation_date</th>\n",
       "      <th>review_answer_timestamp</th>\n",
       "      <th>has_comment</th>\n",
       "    </tr>\n",
       "  </thead>\n",
       "  <tbody>\n",
       "    <tr>\n",
       "      <th>0</th>\n",
       "      <td>7bc2406110b926393aa56f80a40eba40</td>\n",
       "      <td>73fc7af87114b39712e6da79b0a377eb</td>\n",
       "      <td>4</td>\n",
       "      <td>2018-01-18 00:00:00</td>\n",
       "      <td>2018-01-18 21:46:59</td>\n",
       "      <td>True</td>\n",
       "    </tr>\n",
       "    <tr>\n",
       "      <th>1</th>\n",
       "      <td>80e641a11e56f04c1ad469d5645fdfde</td>\n",
       "      <td>a548910a1c6147796b98fdf73dbeba33</td>\n",
       "      <td>5</td>\n",
       "      <td>2018-03-10 00:00:00</td>\n",
       "      <td>2018-03-11 03:05:13</td>\n",
       "      <td>True</td>\n",
       "    </tr>\n",
       "    <tr>\n",
       "      <th>2</th>\n",
       "      <td>228ce5500dc1d8e020d8d1322874b6f0</td>\n",
       "      <td>f9e4b658b201a9f2ecdecbb34bed034b</td>\n",
       "      <td>5</td>\n",
       "      <td>2018-02-17 00:00:00</td>\n",
       "      <td>2018-02-18 14:36:24</td>\n",
       "      <td>True</td>\n",
       "    </tr>\n",
       "    <tr>\n",
       "      <th>3</th>\n",
       "      <td>e64fb393e7b32834bb789ff8bb30750e</td>\n",
       "      <td>658677c97b385a9be170737859d3511b</td>\n",
       "      <td>5</td>\n",
       "      <td>2017-04-21 00:00:00</td>\n",
       "      <td>2017-04-21 22:02:06</td>\n",
       "      <td>True</td>\n",
       "    </tr>\n",
       "    <tr>\n",
       "      <th>4</th>\n",
       "      <td>f7c4243c7fe1938f181bec41a392bdeb</td>\n",
       "      <td>8e6bfb81e283fa7e4f11123a3fb894f1</td>\n",
       "      <td>5</td>\n",
       "      <td>2018-03-01 00:00:00</td>\n",
       "      <td>2018-03-02 10:26:53</td>\n",
       "      <td>True</td>\n",
       "    </tr>\n",
       "  </tbody>\n",
       "</table>\n",
       "</div>\n",
       "    <div class=\"colab-df-buttons\">\n",
       "\n",
       "  <div class=\"colab-df-container\">\n",
       "    <button class=\"colab-df-convert\" onclick=\"convertToInteractive('df-77128af0-810d-4a21-b11d-dd23a42ef8d7')\"\n",
       "            title=\"Convert this dataframe to an interactive table.\"\n",
       "            style=\"display:none;\">\n",
       "\n",
       "  <svg xmlns=\"http://www.w3.org/2000/svg\" height=\"24px\" viewBox=\"0 -960 960 960\">\n",
       "    <path d=\"M120-120v-720h720v720H120Zm60-500h600v-160H180v160Zm220 220h160v-160H400v160Zm0 220h160v-160H400v160ZM180-400h160v-160H180v160Zm440 0h160v-160H620v160ZM180-180h160v-160H180v160Zm440 0h160v-160H620v160Z\"/>\n",
       "  </svg>\n",
       "    </button>\n",
       "\n",
       "  <style>\n",
       "    .colab-df-container {\n",
       "      display:flex;\n",
       "      gap: 12px;\n",
       "    }\n",
       "\n",
       "    .colab-df-convert {\n",
       "      background-color: #E8F0FE;\n",
       "      border: none;\n",
       "      border-radius: 50%;\n",
       "      cursor: pointer;\n",
       "      display: none;\n",
       "      fill: #1967D2;\n",
       "      height: 32px;\n",
       "      padding: 0 0 0 0;\n",
       "      width: 32px;\n",
       "    }\n",
       "\n",
       "    .colab-df-convert:hover {\n",
       "      background-color: #E2EBFA;\n",
       "      box-shadow: 0px 1px 2px rgba(60, 64, 67, 0.3), 0px 1px 3px 1px rgba(60, 64, 67, 0.15);\n",
       "      fill: #174EA6;\n",
       "    }\n",
       "\n",
       "    .colab-df-buttons div {\n",
       "      margin-bottom: 4px;\n",
       "    }\n",
       "\n",
       "    [theme=dark] .colab-df-convert {\n",
       "      background-color: #3B4455;\n",
       "      fill: #D2E3FC;\n",
       "    }\n",
       "\n",
       "    [theme=dark] .colab-df-convert:hover {\n",
       "      background-color: #434B5C;\n",
       "      box-shadow: 0px 1px 3px 1px rgba(0, 0, 0, 0.15);\n",
       "      filter: drop-shadow(0px 1px 2px rgba(0, 0, 0, 0.3));\n",
       "      fill: #FFFFFF;\n",
       "    }\n",
       "  </style>\n",
       "\n",
       "    <script>\n",
       "      const buttonEl =\n",
       "        document.querySelector('#df-77128af0-810d-4a21-b11d-dd23a42ef8d7 button.colab-df-convert');\n",
       "      buttonEl.style.display =\n",
       "        google.colab.kernel.accessAllowed ? 'block' : 'none';\n",
       "\n",
       "      async function convertToInteractive(key) {\n",
       "        const element = document.querySelector('#df-77128af0-810d-4a21-b11d-dd23a42ef8d7');\n",
       "        const dataTable =\n",
       "          await google.colab.kernel.invokeFunction('convertToInteractive',\n",
       "                                                    [key], {});\n",
       "        if (!dataTable) return;\n",
       "\n",
       "        const docLinkHtml = 'Like what you see? Visit the ' +\n",
       "          '<a target=\"_blank\" href=https://colab.research.google.com/notebooks/data_table.ipynb>data table notebook</a>'\n",
       "          + ' to learn more about interactive tables.';\n",
       "        element.innerHTML = '';\n",
       "        dataTable['output_type'] = 'display_data';\n",
       "        await google.colab.output.renderOutput(dataTable, element);\n",
       "        const docLink = document.createElement('div');\n",
       "        docLink.innerHTML = docLinkHtml;\n",
       "        element.appendChild(docLink);\n",
       "      }\n",
       "    </script>\n",
       "  </div>\n",
       "\n",
       "\n",
       "    <div id=\"df-0202f22c-0290-495b-9bcb-60f85a7d73d0\">\n",
       "      <button class=\"colab-df-quickchart\" onclick=\"quickchart('df-0202f22c-0290-495b-9bcb-60f85a7d73d0')\"\n",
       "                title=\"Suggest charts\"\n",
       "                style=\"display:none;\">\n",
       "\n",
       "<svg xmlns=\"http://www.w3.org/2000/svg\" height=\"24px\"viewBox=\"0 0 24 24\"\n",
       "     width=\"24px\">\n",
       "    <g>\n",
       "        <path d=\"M19 3H5c-1.1 0-2 .9-2 2v14c0 1.1.9 2 2 2h14c1.1 0 2-.9 2-2V5c0-1.1-.9-2-2-2zM9 17H7v-7h2v7zm4 0h-2V7h2v10zm4 0h-2v-4h2v4z\"/>\n",
       "    </g>\n",
       "</svg>\n",
       "      </button>\n",
       "\n",
       "<style>\n",
       "  .colab-df-quickchart {\n",
       "      --bg-color: #E8F0FE;\n",
       "      --fill-color: #1967D2;\n",
       "      --hover-bg-color: #E2EBFA;\n",
       "      --hover-fill-color: #174EA6;\n",
       "      --disabled-fill-color: #AAA;\n",
       "      --disabled-bg-color: #DDD;\n",
       "  }\n",
       "\n",
       "  [theme=dark] .colab-df-quickchart {\n",
       "      --bg-color: #3B4455;\n",
       "      --fill-color: #D2E3FC;\n",
       "      --hover-bg-color: #434B5C;\n",
       "      --hover-fill-color: #FFFFFF;\n",
       "      --disabled-bg-color: #3B4455;\n",
       "      --disabled-fill-color: #666;\n",
       "  }\n",
       "\n",
       "  .colab-df-quickchart {\n",
       "    background-color: var(--bg-color);\n",
       "    border: none;\n",
       "    border-radius: 50%;\n",
       "    cursor: pointer;\n",
       "    display: none;\n",
       "    fill: var(--fill-color);\n",
       "    height: 32px;\n",
       "    padding: 0;\n",
       "    width: 32px;\n",
       "  }\n",
       "\n",
       "  .colab-df-quickchart:hover {\n",
       "    background-color: var(--hover-bg-color);\n",
       "    box-shadow: 0 1px 2px rgba(60, 64, 67, 0.3), 0 1px 3px 1px rgba(60, 64, 67, 0.15);\n",
       "    fill: var(--button-hover-fill-color);\n",
       "  }\n",
       "\n",
       "  .colab-df-quickchart-complete:disabled,\n",
       "  .colab-df-quickchart-complete:disabled:hover {\n",
       "    background-color: var(--disabled-bg-color);\n",
       "    fill: var(--disabled-fill-color);\n",
       "    box-shadow: none;\n",
       "  }\n",
       "\n",
       "  .colab-df-spinner {\n",
       "    border: 2px solid var(--fill-color);\n",
       "    border-color: transparent;\n",
       "    border-bottom-color: var(--fill-color);\n",
       "    animation:\n",
       "      spin 1s steps(1) infinite;\n",
       "  }\n",
       "\n",
       "  @keyframes spin {\n",
       "    0% {\n",
       "      border-color: transparent;\n",
       "      border-bottom-color: var(--fill-color);\n",
       "      border-left-color: var(--fill-color);\n",
       "    }\n",
       "    20% {\n",
       "      border-color: transparent;\n",
       "      border-left-color: var(--fill-color);\n",
       "      border-top-color: var(--fill-color);\n",
       "    }\n",
       "    30% {\n",
       "      border-color: transparent;\n",
       "      border-left-color: var(--fill-color);\n",
       "      border-top-color: var(--fill-color);\n",
       "      border-right-color: var(--fill-color);\n",
       "    }\n",
       "    40% {\n",
       "      border-color: transparent;\n",
       "      border-right-color: var(--fill-color);\n",
       "      border-top-color: var(--fill-color);\n",
       "    }\n",
       "    60% {\n",
       "      border-color: transparent;\n",
       "      border-right-color: var(--fill-color);\n",
       "    }\n",
       "    80% {\n",
       "      border-color: transparent;\n",
       "      border-right-color: var(--fill-color);\n",
       "      border-bottom-color: var(--fill-color);\n",
       "    }\n",
       "    90% {\n",
       "      border-color: transparent;\n",
       "      border-bottom-color: var(--fill-color);\n",
       "    }\n",
       "  }\n",
       "</style>\n",
       "\n",
       "      <script>\n",
       "        async function quickchart(key) {\n",
       "          const quickchartButtonEl =\n",
       "            document.querySelector('#' + key + ' button');\n",
       "          quickchartButtonEl.disabled = true;  // To prevent multiple clicks.\n",
       "          quickchartButtonEl.classList.add('colab-df-spinner');\n",
       "          try {\n",
       "            const charts = await google.colab.kernel.invokeFunction(\n",
       "                'suggestCharts', [key], {});\n",
       "          } catch (error) {\n",
       "            console.error('Error during call to suggestCharts:', error);\n",
       "          }\n",
       "          quickchartButtonEl.classList.remove('colab-df-spinner');\n",
       "          quickchartButtonEl.classList.add('colab-df-quickchart-complete');\n",
       "        }\n",
       "        (() => {\n",
       "          let quickchartButtonEl =\n",
       "            document.querySelector('#df-0202f22c-0290-495b-9bcb-60f85a7d73d0 button');\n",
       "          quickchartButtonEl.style.display =\n",
       "            google.colab.kernel.accessAllowed ? 'block' : 'none';\n",
       "        })();\n",
       "      </script>\n",
       "    </div>\n",
       "\n",
       "    </div>\n",
       "  </div>\n"
      ],
      "text/plain": [
       "                          review_id                          order_id  \\\n",
       "0  7bc2406110b926393aa56f80a40eba40  73fc7af87114b39712e6da79b0a377eb   \n",
       "1  80e641a11e56f04c1ad469d5645fdfde  a548910a1c6147796b98fdf73dbeba33   \n",
       "2  228ce5500dc1d8e020d8d1322874b6f0  f9e4b658b201a9f2ecdecbb34bed034b   \n",
       "3  e64fb393e7b32834bb789ff8bb30750e  658677c97b385a9be170737859d3511b   \n",
       "4  f7c4243c7fe1938f181bec41a392bdeb  8e6bfb81e283fa7e4f11123a3fb894f1   \n",
       "\n",
       "   review_score review_creation_date review_answer_timestamp  has_comment  \n",
       "0             4  2018-01-18 00:00:00     2018-01-18 21:46:59         True  \n",
       "1             5  2018-03-10 00:00:00     2018-03-11 03:05:13         True  \n",
       "2             5  2018-02-17 00:00:00     2018-02-18 14:36:24         True  \n",
       "3             5  2017-04-21 00:00:00     2017-04-21 22:02:06         True  \n",
       "4             5  2018-03-01 00:00:00     2018-03-02 10:26:53         True  "
      ]
     },
     "execution_count": 25,
     "metadata": {},
     "output_type": "execute_result"
    }
   ],
   "source": [
    "reviews_cleaned.head()\n"
   ]
  },
  {
   "cell_type": "code",
   "execution_count": 26,
   "metadata": {
    "colab": {
     "base_uri": "https://localhost:8080/",
     "height": 272
    },
    "executionInfo": {
     "elapsed": 78,
     "status": "ok",
     "timestamp": 1746805074952,
     "user": {
      "displayName": "Amira Kamel",
      "userId": "17694101562792701289"
     },
     "user_tz": -180
    },
    "id": "0YjR921dsgQ_",
    "outputId": "2aa7dc07-cfc1-4f91-b75a-9f146de38a8e"
   },
   "outputs": [
    {
     "data": {
      "text/html": [
       "<div>\n",
       "<style scoped>\n",
       "    .dataframe tbody tr th:only-of-type {\n",
       "        vertical-align: middle;\n",
       "    }\n",
       "\n",
       "    .dataframe tbody tr th {\n",
       "        vertical-align: top;\n",
       "    }\n",
       "\n",
       "    .dataframe thead th {\n",
       "        text-align: right;\n",
       "    }\n",
       "</style>\n",
       "<table border=\"1\" class=\"dataframe\">\n",
       "  <thead>\n",
       "    <tr style=\"text-align: right;\">\n",
       "      <th></th>\n",
       "      <th>0</th>\n",
       "    </tr>\n",
       "  </thead>\n",
       "  <tbody>\n",
       "    <tr>\n",
       "      <th>review_id</th>\n",
       "      <td>0</td>\n",
       "    </tr>\n",
       "    <tr>\n",
       "      <th>order_id</th>\n",
       "      <td>0</td>\n",
       "    </tr>\n",
       "    <tr>\n",
       "      <th>review_score</th>\n",
       "      <td>0</td>\n",
       "    </tr>\n",
       "    <tr>\n",
       "      <th>review_creation_date</th>\n",
       "      <td>0</td>\n",
       "    </tr>\n",
       "    <tr>\n",
       "      <th>review_answer_timestamp</th>\n",
       "      <td>0</td>\n",
       "    </tr>\n",
       "    <tr>\n",
       "      <th>has_comment</th>\n",
       "      <td>0</td>\n",
       "    </tr>\n",
       "  </tbody>\n",
       "</table>\n",
       "</div><br><label><b>dtype:</b> int64</label>"
      ],
      "text/plain": [
       "review_id                  0\n",
       "order_id                   0\n",
       "review_score               0\n",
       "review_creation_date       0\n",
       "review_answer_timestamp    0\n",
       "has_comment                0\n",
       "dtype: int64"
      ]
     },
     "execution_count": 26,
     "metadata": {},
     "output_type": "execute_result"
    }
   ],
   "source": [
    "reviews_cleaned.isnull().sum()\n"
   ]
  },
  {
   "cell_type": "code",
   "execution_count": 28,
   "metadata": {
    "colab": {
     "base_uri": "https://localhost:8080/"
    },
    "executionInfo": {
     "elapsed": 548,
     "status": "ok",
     "timestamp": 1746805106243,
     "user": {
      "displayName": "Amira Kamel",
      "userId": "17694101562792701289"
     },
     "user_tz": -180
    },
    "id": "Az3XI8nXsgNx",
    "outputId": "6458cff9-9f4d-49d8-eacd-0587a8ca3234"
   },
   "outputs": [
    {
     "name": "stdout",
     "output_type": "stream",
     "text": [
      "                          review_id                          order_id  review_score review_creation_date review_answer_timestamp  has_comment  days_until_review  review_answer_days  review_creation_day  review_creation_month  review_creation_year\n",
      "0  7bc2406110b926393aa56f80a40eba40  73fc7af87114b39712e6da79b0a377eb             4           2018-01-18     2018-01-18 21:46:59            1               2668                   0                   18                      1                  2018\n",
      "1  80e641a11e56f04c1ad469d5645fdfde  a548910a1c6147796b98fdf73dbeba33             5           2018-03-10     2018-03-11 03:05:13            1               2617                   1                   10                      3                  2018\n",
      "2  228ce5500dc1d8e020d8d1322874b6f0  f9e4b658b201a9f2ecdecbb34bed034b             5           2018-02-17     2018-02-18 14:36:24            1               2638                   1                   17                      2                  2018\n",
      "3  e64fb393e7b32834bb789ff8bb30750e  658677c97b385a9be170737859d3511b             5           2017-04-21     2017-04-21 22:02:06            1               2940                   0                   21                      4                  2017\n",
      "4  f7c4243c7fe1938f181bec41a392bdeb  8e6bfb81e283fa7e4f11123a3fb894f1             5           2018-03-01     2018-03-02 10:26:53            1               2626                   1                    1                      3                  2018\n"
     ]
    }
   ],
   "source": [
    "reviews_cleaned['review_creation_date'] = pd.to_datetime(reviews_cleaned['review_creation_date'])\n",
    "reviews_cleaned['review_answer_timestamp'] = pd.to_datetime(reviews_cleaned['review_answer_timestamp'])\n",
    "\n",
    "reviews_cleaned['review_answer_days'] = (reviews_cleaned['review_answer_timestamp'] - reviews_cleaned['review_creation_date']).dt.days\n",
    "\n",
    "reviews_cleaned['review_creation_day'] = reviews_cleaned['review_creation_date'].dt.day\n",
    "reviews_cleaned['review_creation_month'] = reviews_cleaned['review_creation_date'].dt.month\n",
    "reviews_cleaned['review_creation_year'] = reviews_cleaned['review_creation_date'].dt.year\n",
    "reviews_cleaned['has_comment'] = reviews_cleaned['has_comment'].astype(int)\n",
    "\n",
    "reviews_cleaned['days_until_review'] = (pd.to_datetime('today') - reviews_cleaned['review_creation_date']).dt.days\n",
    "\n",
    "reviews_cleaned = reviews_cleaned[['review_id', 'order_id', 'review_score', 'review_creation_date',\n",
    "                                   'review_answer_timestamp', 'has_comment', 'days_until_review',\n",
    "                                   'review_answer_days', 'review_creation_day',\n",
    "                                   'review_creation_month', 'review_creation_year']]\n",
    "\n",
    "\n",
    "pd.set_option('display.max_columns', None)\n",
    "pd.set_option('display.width', 1000)\n",
    "\n",
    "print(reviews_cleaned.head())\n"
   ]
  },
  {
   "cell_type": "code",
   "execution_count": 29,
   "metadata": {
    "colab": {
     "base_uri": "https://localhost:8080/"
    },
    "executionInfo": {
     "elapsed": 85,
     "status": "ok",
     "timestamp": 1746805121838,
     "user": {
      "displayName": "Amira Kamel",
      "userId": "17694101562792701289"
     },
     "user_tz": -180
    },
    "id": "_T6gQbWTsgJ8",
    "outputId": "b27a4e9b-e5b9-4d46-9d07-8809da72a02a"
   },
   "outputs": [
    {
     "name": "stdout",
     "output_type": "stream",
     "text": [
      "                          review_id                          order_id  review_score review_creation_date review_answer_timestamp  has_comment  days_until_review  review_answer_days  review_creation_day  review_creation_month  review_creation_year  is_positive_review  is_weekend_review  is_late_review  is_fast_review\n",
      "0  7bc2406110b926393aa56f80a40eba40  73fc7af87114b39712e6da79b0a377eb             4           2018-01-18     2018-01-18 21:46:59            1               2668                   0                   18                      1                  2018                True              False           False            True\n",
      "1  80e641a11e56f04c1ad469d5645fdfde  a548910a1c6147796b98fdf73dbeba33             5           2018-03-10     2018-03-11 03:05:13            1               2617                   1                   10                      3                  2018                True               True           False           False\n",
      "2  228ce5500dc1d8e020d8d1322874b6f0  f9e4b658b201a9f2ecdecbb34bed034b             5           2018-02-17     2018-02-18 14:36:24            1               2638                   1                   17                      2                  2018                True               True           False           False\n",
      "3  e64fb393e7b32834bb789ff8bb30750e  658677c97b385a9be170737859d3511b             5           2017-04-21     2017-04-21 22:02:06            1               2940                   0                   21                      4                  2017                True              False           False            True\n",
      "4  f7c4243c7fe1938f181bec41a392bdeb  8e6bfb81e283fa7e4f11123a3fb894f1             5           2018-03-01     2018-03-02 10:26:53            1               2626                   1                    1                      3                  2018                True              False           False           False\n"
     ]
    }
   ],
   "source": [
    "\n",
    "reviews_cleaned['review_creation_date'] = pd.to_datetime(reviews_cleaned['review_creation_date'])\n",
    "reviews_cleaned['review_answer_timestamp'] = pd.to_datetime(reviews_cleaned['review_answer_timestamp'])\n",
    "\n",
    "\n",
    "reviews_cleaned['review_answer_days'] = (reviews_cleaned['review_answer_timestamp'] - reviews_cleaned['review_creation_date']).dt.days\n",
    "\n",
    "reviews_cleaned['review_creation_day'] = reviews_cleaned['review_creation_date'].dt.day\n",
    "reviews_cleaned['review_creation_month'] = reviews_cleaned['review_creation_date'].dt.month\n",
    "reviews_cleaned['review_creation_year'] = reviews_cleaned['review_creation_date'].dt.year\n",
    "\n",
    "\n",
    "reviews_cleaned['has_comment'] = reviews_cleaned['has_comment'].astype(int)\n",
    "\n",
    "\n",
    "reviews_cleaned['days_until_review'] = (pd.to_datetime('today') - reviews_cleaned['review_creation_date']).dt.days\n",
    "\n",
    "\n",
    "reviews_cleaned['is_positive_review'] = reviews_cleaned['review_score'] >= 3\n",
    "\n",
    "reviews_cleaned['is_weekend_review'] = reviews_cleaned['review_creation_date'].dt.weekday >= 5\n",
    "\n",
    "reviews_cleaned['is_late_review'] = reviews_cleaned['review_answer_days'] > 7\n",
    "\n",
    "\n",
    "reviews_cleaned['is_fast_review'] = reviews_cleaned['review_answer_days'] < 1\n",
    "\n",
    "print(reviews_cleaned.head())\n"
   ]
  },
  {
   "cell_type": "code",
   "execution_count": 30,
   "metadata": {
    "colab": {
     "base_uri": "https://localhost:8080/",
     "height": 1000
    },
    "executionInfo": {
     "elapsed": 3622,
     "status": "ok",
     "timestamp": 1746805137597,
     "user": {
      "displayName": "Amira Kamel",
      "userId": "17694101562792701289"
     },
     "user_tz": -180
    },
    "id": "pnrchXM3swjx",
    "outputId": "0ad1e5db-ef45-4bd7-8aba-20b2d7395c1f"
   },
   "outputs": [
    {
     "name": "stderr",
     "output_type": "stream",
     "text": [
      "<ipython-input-30-fe3b874dd7f1>:3: FutureWarning: \n",
      "\n",
      "Passing `palette` without assigning `hue` is deprecated and will be removed in v0.14.0. Assign the `x` variable to `hue` and set `legend=False` for the same effect.\n",
      "\n",
      "  sns.countplot(x='review_score', data=reviews_cleaned, palette='coolwarm')\n"
     ]
    },
    {
     "data": {
      "image/png": "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",
      "text/plain": [
       "<Figure size 1000x600 with 1 Axes>"
      ]
     },
     "metadata": {},
     "output_type": "display_data"
    },
    {
     "name": "stderr",
     "output_type": "stream",
     "text": [
      "<ipython-input-30-fe3b874dd7f1>:11: UserWarning: Ignoring `palette` because no `hue` variable has been assigned.\n",
      "  sns.scatterplot(x='review_answer_days', y='review_score', data=reviews_cleaned, palette='coolwarm')\n"
     ]
    },
    {
     "data": {
      "image/png": "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",
      "text/plain": [
       "<Figure size 1000x600 with 1 Axes>"
      ]
     },
     "metadata": {},
     "output_type": "display_data"
    },
    {
     "name": "stderr",
     "output_type": "stream",
     "text": [
      "<ipython-input-30-fe3b874dd7f1>:19: FutureWarning: \n",
      "\n",
      "Passing `palette` without assigning `hue` is deprecated and will be removed in v0.14.0. Assign the `x` variable to `hue` and set `legend=False` for the same effect.\n",
      "\n",
      "  sns.countplot(x='is_positive_review', data=reviews_cleaned, palette='coolwarm')\n"
     ]
    },
    {
     "data": {
      "image/png": "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",
      "text/plain": [
       "<Figure size 1000x600 with 1 Axes>"
      ]
     },
     "metadata": {},
     "output_type": "display_data"
    },
    {
     "name": "stderr",
     "output_type": "stream",
     "text": [
      "<ipython-input-30-fe3b874dd7f1>:27: FutureWarning: \n",
      "\n",
      "Passing `palette` without assigning `hue` is deprecated and will be removed in v0.14.0. Assign the `x` variable to `hue` and set `legend=False` for the same effect.\n",
      "\n",
      "  sns.countplot(x='is_weekend_review', data=reviews_cleaned, palette='coolwarm')\n"
     ]
    },
    {
     "data": {
      "image/png": "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",
      "text/plain": [
       "<Figure size 1000x600 with 1 Axes>"
      ]
     },
     "metadata": {},
     "output_type": "display_data"
    },
    {
     "name": "stderr",
     "output_type": "stream",
     "text": [
      "<ipython-input-30-fe3b874dd7f1>:35: FutureWarning: \n",
      "\n",
      "Passing `palette` without assigning `hue` is deprecated and will be removed in v0.14.0. Assign the `x` variable to `hue` and set `legend=False` for the same effect.\n",
      "\n",
      "  sns.countplot(x='is_late_review', data=reviews_cleaned, palette='coolwarm')\n"
     ]
    },
    {
     "data": {
      "image/png": "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",
      "text/plain": [
       "<Figure size 1000x600 with 1 Axes>"
      ]
     },
     "metadata": {},
     "output_type": "display_data"
    },
    {
     "name": "stderr",
     "output_type": "stream",
     "text": [
      "<ipython-input-30-fe3b874dd7f1>:43: FutureWarning: \n",
      "\n",
      "Passing `palette` without assigning `hue` is deprecated and will be removed in v0.14.0. Assign the `x` variable to `hue` and set `legend=False` for the same effect.\n",
      "\n",
      "  sns.countplot(x='is_fast_review', data=reviews_cleaned, palette='coolwarm')\n"
     ]
    },
    {
     "data": {
      "image/png": "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",
      "text/plain": [
       "<Figure size 1000x600 with 1 Axes>"
      ]
     },
     "metadata": {},
     "output_type": "display_data"
    }
   ],
   "source": [
    "plt.figure(figsize=(10, 6))\n",
    "sns.countplot(x='review_score', data=reviews_cleaned, palette='coolwarm')\n",
    "plt.title('Distribution of Review Scores')\n",
    "plt.xlabel('Review Score')\n",
    "plt.ylabel('Count')\n",
    "plt.show()\n",
    "\n",
    "plt.figure(figsize=(10, 6))\n",
    "sns.scatterplot(x='review_answer_days', y='review_score', data=reviews_cleaned, palette='coolwarm')\n",
    "plt.title('Review Score vs Answer Days')\n",
    "plt.xlabel('Number of Days to Answer')\n",
    "plt.ylabel('Review Score')\n",
    "plt.show()\n",
    "\n",
    "plt.figure(figsize=(10, 6))\n",
    "sns.countplot(x='is_positive_review', data=reviews_cleaned, palette='coolwarm')\n",
    "plt.title('Positive vs Negative Reviews')\n",
    "plt.xlabel('Positive Review (1 = Yes, 0 = No)')\n",
    "plt.ylabel('Count')\n",
    "plt.show()\n",
    "\n",
    "plt.figure(figsize=(10, 6))\n",
    "sns.countplot(x='is_weekend_review', data=reviews_cleaned, palette='coolwarm')\n",
    "plt.title('Reviews on Weekends vs Weekdays')\n",
    "plt.xlabel('Weekend Review (1 = Yes, 0 = No)')\n",
    "plt.ylabel('Count')\n",
    "plt.show()\n",
    "\n",
    "plt.figure(figsize=(10, 6))\n",
    "sns.countplot(x='is_late_review', data=reviews_cleaned, palette='coolwarm')\n",
    "plt.title('Late Reviews vs On-Time Reviews')\n",
    "plt.xlabel('Late Review (1 = Yes, 0 = No)')\n",
    "plt.ylabel('Count')\n",
    "plt.show()\n",
    "\n",
    "plt.figure(figsize=(10, 6))\n",
    "sns.countplot(x='is_fast_review', data=reviews_cleaned, palette='coolwarm')\n",
    "plt.title('Fast Reviews vs Regular Reviews')\n",
    "plt.xlabel('Fast Review (1 = Yes, 0 = No)')\n",
    "plt.ylabel('Count')\n",
    "plt.show()\n"
   ]
  },
  {
   "cell_type": "markdown",
   "metadata": {
    "id": "waZjfPa-oiqB"
   },
   "source": [
    "# Save The new Cleaned Data"
   ]
  },
  {
   "cell_type": "code",
   "execution_count": null,
   "metadata": {
    "id": "ND5h4SsaX_52"
   },
   "outputs": [],
   "source": [
    "# Save the cleaned data to a CSV file\n",
    "order_df.to_csv('order_cleaned.csv',index=False)\n",
    "seller_df.to_csv('seller_cleaned.csv', index=False)\n",
    "product_df.to_csv('product_cleaned.csv', index=False)\n",
    "df_pay.to_csv(\"cleaned_olist_order_payments.csv\", index=False)\n",
    "df_geoloca.to_csv(\"cleaned_olist_geolocation.csv\", index=False)\n",
    "reviews_cleaned.to_csv('reviews_cleaned.csv', index=False)"
   ]
  },
  {
   "cell_type": "code",
   "execution_count": null,
   "metadata": {
    "id": "AKj2o2bIX_2W"
   },
   "outputs": [],
   "source": [
    "# Merge The Data\n",
    "geoloc=pd.read_csv('/content/cleaned_olist_geolocation.csv')\n",
    "payment=pd.read_csv('/content/cleaned_olist_order_payments.csv')\n",
    "# customer=pd.read_csv('d:\\DEPI Cleaned Data\\df_customer_cleaned.csv')\n",
    "order=pd.read_csv('/content/order_cleaned.csv')\n",
    "# item=pd.read_csv('d:\\DEPI Cleaned Data\\order_items updated.csv')\n",
    "product=pd.read_csv('/content/product_cleaned.csv')\n",
    "seller=pd.read_csv('/content/seller_cleaned.csv')\n",
    "review=pd.read_csv('/content/reviews_cleaned.csv')"
   ]
  },
  {
   "cell_type": "code",
   "execution_count": null,
   "metadata": {
    "id": "utt-xB5-X_0d"
   },
   "outputs": [],
   "source": [
    "final_df = pd.merge(order, customer, on='customer_id', how='left')\n",
    "final_df = pd.merge(final_df, payment, on='order_id', how='left')\n",
    "final_df = pd.merge(final_df, item, on='order_id', how='left')\n",
    "final_df = pd.merge(final_df, product, on='product_id', how='left')\n",
    "final_df = pd.merge(final_df, seller, on='seller_id', how='left')\n",
    "final_df = pd.merge(final_df, geoloc, left_on='seller_zip_code_prefix', right_on='geolocation_zip_code_prefix', how='left')\n",
    "final_df = pd.merge(final_df, review, on='order_id', how='left')\n"
   ]
  },
  {
   "cell_type": "markdown",
   "metadata": {
    "id": "wf3AZuW_eqh7"
   },
   "source": [
    "# Recommendation"
   ]
  },
  {
   "cell_type": "code",
   "execution_count": null,
   "metadata": {
    "colab": {
     "base_uri": "https://localhost:8080/"
    },
    "executionInfo": {
     "elapsed": 5978,
     "status": "ok",
     "timestamp": 1746794018875,
     "user": {
      "displayName": "Amira Kamel",
      "userId": "17694101562792701289"
     },
     "user_tz": -180
    },
    "id": "KO5UBVtec4CN",
    "outputId": "12aea9dc-8a8c-428d-b980-da948af894c7"
   },
   "outputs": [
    {
     "name": "stdout",
     "output_type": "stream",
     "text": [
      "Dataset URL: https://www.kaggle.com/datasets/merakamel/recommendation-olist\n",
      "License(s): unknown\n",
      "recommendation-olist.zip: Skipping, found more recently modified local copy (use --force to force download)\n",
      "Archive:  /content/recommendation-olist.zip\n",
      "replace Final_df.csv? [y]es, [n]o, [A]ll, [N]one, [r]ename: y\n",
      "  inflating: Final_df.csv            \n"
     ]
    }
   ],
   "source": [
    "# Load New Cleaned Data From Kaggle\n",
    "! kaggle datasets download -d merakamel/recommendation-olist\n",
    "! unzip /content/recommendation-olist.zip\n"
   ]
  },
  {
   "cell_type": "code",
   "execution_count": null,
   "metadata": {
    "id": "IM0RAoGCe-Hy"
   },
   "outputs": [],
   "source": [
    "import numpy as np\n",
    "import pandas as pd\n",
    "from sklearn.metrics.pairwise import cosine_similarity\n",
    "from scipy.sparse import csr_matrix\n",
    "from sklearn.feature_extraction.text import TfidfVectorizer\n",
    "from sklearn.neighbors import NearestNeighbors\n",
    "from sklearn.decomposition import TruncatedSVD\n",
    "from sklearn.model_selection import train_test_split\n",
    "from collections import defaultdict\n",
    "from sklearn.preprocessing import StandardScaler\n",
    "\n",
    "\n",
    "import tensorflow as tf\n",
    "from tensorflow.keras.models import Sequential\n",
    "from tensorflow.keras.layers import Embedding, LSTM, Dense\n",
    "from tensorflow.keras.preprocessing.sequence import pad_sequences\n",
    "from tensorflow.keras.initializers import Constant"
   ]
  },
  {
   "cell_type": "code",
   "execution_count": null,
   "metadata": {
    "id": "MrNNiHG6c3_y"
   },
   "outputs": [],
   "source": [
    "df=pd.read_csv('/content/Final_df.csv')\n"
   ]
  },
  {
   "cell_type": "code",
   "execution_count": null,
   "metadata": {
    "id": "3ToksDr6c39B"
   },
   "outputs": [],
   "source": [
    "df.head()\n"
   ]
  },
  {
   "cell_type": "code",
   "execution_count": null,
   "metadata": {
    "id": "w6yuyASic36Z"
   },
   "outputs": [],
   "source": [
    "df.info()\n"
   ]
  },
  {
   "cell_type": "markdown",
   "metadata": {
    "id": "Q8-GF3Kif10f"
   },
   "source": [
    "## Item_based collaborative Filtering ' RNN+LSTM '"
   ]
  },
  {
   "cell_type": "code",
   "execution_count": null,
   "metadata": {
    "id": "xGgmjzgUc33i"
   },
   "outputs": [],
   "source": [
    "# Assume df contains columns: customer_id, product_id, order_purchase_timestamp\n",
    "df['order_purchase_timestamp'] = pd.to_datetime(df['order_purchase_timestamp'])\n",
    "df = df.sort_values(by=['customer_id', 'order_purchase_timestamp'])\n",
    "\n",
    "# Convert product_id to integers\n",
    "product_id_mapping = {pid: idx for idx, pid in enumerate(df['product_id'].unique())}\n",
    "df['product_id_int'] = df['product_id'].map(product_id_mapping)\n",
    "\n",
    "# Group product sequences per user\n",
    "user_sequences = df.groupby('customer_id')['product_id_int'].apply(list).reset_index()"
   ]
  },
  {
   "cell_type": "code",
   "execution_count": null,
   "metadata": {
    "id": "VR7sshaic3zF"
   },
   "outputs": [],
   "source": [
    "# Define maximum sequence length\n",
    "max_sequence_length = 10\n",
    "\n",
    "# Pad sequences\n",
    "sequences = pad_sequences(user_sequences['product_id_int'], maxlen=max_sequence_length, padding='pre')\n",
    "\n",
    "# Prepare input X and target y\n",
    "X = sequences[:, :-1]  # First n-1 products\n",
    "y = sequences[:, -1]   # The nth product (to be predicted)\n",
    "\n",
    "# Split into train and validation\n",
    "X_train, X_val, y_train, y_val = train_test_split(X, y, test_size=0.2, random_state=42)\n"
   ]
  },
  {
   "cell_type": "code",
   "execution_count": null,
   "metadata": {
    "colab": {
     "base_uri": "https://localhost:8080/",
     "height": 656
    },
    "executionInfo": {
     "elapsed": 1921164,
     "status": "ok",
     "timestamp": 1746795972880,
     "user": {
      "displayName": "Amira Kamel",
      "userId": "17694101562792701289"
     },
     "user_tz": -180
    },
    "id": "WYCNbCYFc3tE",
    "outputId": "5dc3230b-1470-4265-95dc-187571532994"
   },
   "outputs": [
    {
     "name": "stderr",
     "output_type": "stream",
     "text": [
      "/usr/local/lib/python3.11/dist-packages/keras/src/layers/core/embedding.py:90: UserWarning: Argument `input_length` is deprecated. Just remove it.\n",
      "  warnings.warn(\n"
     ]
    },
    {
     "data": {
      "text/html": [
       "<pre style=\"white-space:pre;overflow-x:auto;line-height:normal;font-family:Menlo,'DejaVu Sans Mono',consolas,'Courier New',monospace\"><span style=\"font-weight: bold\">Model: \"sequential\"</span>\n",
       "</pre>\n"
      ],
      "text/plain": [
       "\u001b[1mModel: \"sequential\"\u001b[0m\n"
      ]
     },
     "metadata": {},
     "output_type": "display_data"
    },
    {
     "data": {
      "text/html": [
       "<pre style=\"white-space:pre;overflow-x:auto;line-height:normal;font-family:Menlo,'DejaVu Sans Mono',consolas,'Courier New',monospace\">┏━━━━━━━━━━━━━━━━━━━━━━━━━━━━━━━━━┳━━━━━━━━━━━━━━━━━━━━━━━━┳━━━━━━━━━━━━━━━┓\n",
       "┃<span style=\"font-weight: bold\"> Layer (type)                    </span>┃<span style=\"font-weight: bold\"> Output Shape           </span>┃<span style=\"font-weight: bold\">       Param # </span>┃\n",
       "┡━━━━━━━━━━━━━━━━━━━━━━━━━━━━━━━━━╇━━━━━━━━━━━━━━━━━━━━━━━━╇━━━━━━━━━━━━━━━┩\n",
       "│ embedding (<span style=\"color: #0087ff; text-decoration-color: #0087ff\">Embedding</span>)           │ ?                      │   <span style=\"color: #00af00; text-decoration-color: #00af00\">0</span> (unbuilt) │\n",
       "├─────────────────────────────────┼────────────────────────┼───────────────┤\n",
       "│ lstm (<span style=\"color: #0087ff; text-decoration-color: #0087ff\">LSTM</span>)                     │ ?                      │   <span style=\"color: #00af00; text-decoration-color: #00af00\">0</span> (unbuilt) │\n",
       "├─────────────────────────────────┼────────────────────────┼───────────────┤\n",
       "│ dense (<span style=\"color: #0087ff; text-decoration-color: #0087ff\">Dense</span>)                   │ ?                      │   <span style=\"color: #00af00; text-decoration-color: #00af00\">0</span> (unbuilt) │\n",
       "├─────────────────────────────────┼────────────────────────┼───────────────┤\n",
       "│ dense_1 (<span style=\"color: #0087ff; text-decoration-color: #0087ff\">Dense</span>)                 │ ?                      │   <span style=\"color: #00af00; text-decoration-color: #00af00\">0</span> (unbuilt) │\n",
       "└─────────────────────────────────┴────────────────────────┴───────────────┘\n",
       "</pre>\n"
      ],
      "text/plain": [
       "┏━━━━━━━━━━━━━━━━━━━━━━━━━━━━━━━━━┳━━━━━━━━━━━━━━━━━━━━━━━━┳━━━━━━━━━━━━━━━┓\n",
       "┃\u001b[1m \u001b[0m\u001b[1mLayer (type)                   \u001b[0m\u001b[1m \u001b[0m┃\u001b[1m \u001b[0m\u001b[1mOutput Shape          \u001b[0m\u001b[1m \u001b[0m┃\u001b[1m \u001b[0m\u001b[1m      Param #\u001b[0m\u001b[1m \u001b[0m┃\n",
       "┡━━━━━━━━━━━━━━━━━━━━━━━━━━━━━━━━━╇━━━━━━━━━━━━━━━━━━━━━━━━╇━━━━━━━━━━━━━━━┩\n",
       "│ embedding (\u001b[38;5;33mEmbedding\u001b[0m)           │ ?                      │   \u001b[38;5;34m0\u001b[0m (unbuilt) │\n",
       "├─────────────────────────────────┼────────────────────────┼───────────────┤\n",
       "│ lstm (\u001b[38;5;33mLSTM\u001b[0m)                     │ ?                      │   \u001b[38;5;34m0\u001b[0m (unbuilt) │\n",
       "├─────────────────────────────────┼────────────────────────┼───────────────┤\n",
       "│ dense (\u001b[38;5;33mDense\u001b[0m)                   │ ?                      │   \u001b[38;5;34m0\u001b[0m (unbuilt) │\n",
       "├─────────────────────────────────┼────────────────────────┼───────────────┤\n",
       "│ dense_1 (\u001b[38;5;33mDense\u001b[0m)                 │ ?                      │   \u001b[38;5;34m0\u001b[0m (unbuilt) │\n",
       "└─────────────────────────────────┴────────────────────────┴───────────────┘\n"
      ]
     },
     "metadata": {},
     "output_type": "display_data"
    },
    {
     "data": {
      "text/html": [
       "<pre style=\"white-space:pre;overflow-x:auto;line-height:normal;font-family:Menlo,'DejaVu Sans Mono',consolas,'Courier New',monospace\"><span style=\"font-weight: bold\"> Total params: </span><span style=\"color: #00af00; text-decoration-color: #00af00\">0</span> (0.00 B)\n",
       "</pre>\n"
      ],
      "text/plain": [
       "\u001b[1m Total params: \u001b[0m\u001b[38;5;34m0\u001b[0m (0.00 B)\n"
      ]
     },
     "metadata": {},
     "output_type": "display_data"
    },
    {
     "data": {
      "text/html": [
       "<pre style=\"white-space:pre;overflow-x:auto;line-height:normal;font-family:Menlo,'DejaVu Sans Mono',consolas,'Courier New',monospace\"><span style=\"font-weight: bold\"> Trainable params: </span><span style=\"color: #00af00; text-decoration-color: #00af00\">0</span> (0.00 B)\n",
       "</pre>\n"
      ],
      "text/plain": [
       "\u001b[1m Trainable params: \u001b[0m\u001b[38;5;34m0\u001b[0m (0.00 B)\n"
      ]
     },
     "metadata": {},
     "output_type": "display_data"
    },
    {
     "data": {
      "text/html": [
       "<pre style=\"white-space:pre;overflow-x:auto;line-height:normal;font-family:Menlo,'DejaVu Sans Mono',consolas,'Courier New',monospace\"><span style=\"font-weight: bold\"> Non-trainable params: </span><span style=\"color: #00af00; text-decoration-color: #00af00\">0</span> (0.00 B)\n",
       "</pre>\n"
      ],
      "text/plain": [
       "\u001b[1m Non-trainable params: \u001b[0m\u001b[38;5;34m0\u001b[0m (0.00 B)\n"
      ]
     },
     "metadata": {},
     "output_type": "display_data"
    },
    {
     "name": "stdout",
     "output_type": "stream",
     "text": [
      "Epoch 1/10\n",
      "\u001b[1m1176/1176\u001b[0m \u001b[32m━━━━━━━━━━━━━━━━━━━━\u001b[0m\u001b[37m\u001b[0m \u001b[1m170s\u001b[0m 141ms/step - accuracy: 0.0042 - loss: 9.8844 - val_accuracy: 0.0046 - val_loss: 9.6506\n",
      "Epoch 2/10\n",
      "\u001b[1m1176/1176\u001b[0m \u001b[32m━━━━━━━━━━━━━━━━━━━━\u001b[0m\u001b[37m\u001b[0m \u001b[1m191s\u001b[0m 131ms/step - accuracy: 0.0049 - loss: 9.3488 - val_accuracy: 0.0056 - val_loss: 9.8557\n",
      "Epoch 3/10\n",
      "\u001b[1m1176/1176\u001b[0m \u001b[32m━━━━━━━━━━━━━━━━━━━━\u001b[0m\u001b[37m\u001b[0m \u001b[1m205s\u001b[0m 134ms/step - accuracy: 0.0067 - loss: 9.2237 - val_accuracy: 0.0090 - val_loss: 10.0361\n",
      "Epoch 4/10\n",
      "\u001b[1m1176/1176\u001b[0m \u001b[32m━━━━━━━━━━━━━━━━━━━━\u001b[0m\u001b[37m\u001b[0m \u001b[1m193s\u001b[0m 127ms/step - accuracy: 0.0089 - loss: 9.0820 - val_accuracy: 0.0103 - val_loss: 10.1212\n",
      "Epoch 5/10\n",
      "\u001b[1m1176/1176\u001b[0m \u001b[32m━━━━━━━━━━━━━━━━━━━━\u001b[0m\u001b[37m\u001b[0m \u001b[1m206s\u001b[0m 131ms/step - accuracy: 0.0129 - loss: 8.9606 - val_accuracy: 0.0136 - val_loss: 10.3583\n",
      "Epoch 6/10\n",
      "\u001b[1m1176/1176\u001b[0m \u001b[32m━━━━━━━━━━━━━━━━━━━━\u001b[0m\u001b[37m\u001b[0m \u001b[1m149s\u001b[0m 127ms/step - accuracy: 0.0185 - loss: 8.8444 - val_accuracy: 0.0205 - val_loss: 10.5949\n",
      "Epoch 7/10\n",
      "\u001b[1m1176/1176\u001b[0m \u001b[32m━━━━━━━━━━━━━━━━━━━━\u001b[0m\u001b[37m\u001b[0m \u001b[1m207s\u001b[0m 131ms/step - accuracy: 0.0271 - loss: 8.7213 - val_accuracy: 0.0247 - val_loss: 10.8684\n",
      "Epoch 8/10\n",
      "\u001b[1m1176/1176\u001b[0m \u001b[32m━━━━━━━━━━━━━━━━━━━━\u001b[0m\u001b[37m\u001b[0m \u001b[1m203s\u001b[0m 133ms/step - accuracy: 0.0361 - loss: 8.6095 - val_accuracy: 0.0280 - val_loss: 11.3494\n",
      "Epoch 9/10\n",
      "\u001b[1m1176/1176\u001b[0m \u001b[32m━━━━━━━━━━━━━━━━━━━━\u001b[0m\u001b[37m\u001b[0m \u001b[1m209s\u001b[0m 138ms/step - accuracy: 0.0471 - loss: 8.5249 - val_accuracy: 0.0295 - val_loss: 11.7117\n",
      "Epoch 10/10\n",
      "\u001b[1m1176/1176\u001b[0m \u001b[32m━━━━━━━━━━━━━━━━━━━━\u001b[0m\u001b[37m\u001b[0m \u001b[1m187s\u001b[0m 126ms/step - accuracy: 0.0590 - loss: 8.4205 - val_accuracy: 0.0338 - val_loss: 12.3091\n"
     ]
    },
    {
     "data": {
      "text/plain": [
       "<keras.src.callbacks.history.History at 0x7fe893c53350>"
      ]
     },
     "execution_count": 7,
     "metadata": {},
     "output_type": "execute_result"
    }
   ],
   "source": [
    "num_products = len(product_id_mapping)\n",
    "embedding_dim = 64  # Higher dimension may help learn richer representations\n",
    "\n",
    "lstm_model = Sequential([\n",
    "    Embedding(input_dim=num_products, output_dim=embedding_dim, input_length=max_sequence_length-1),\n",
    "    LSTM(128),\n",
    "    Dense(64, activation='relu'),\n",
    "    Dense(num_products, activation='softmax')  # Output is probability over all products\n",
    "])\n",
    "lstm_model.compile(optimizer='adam', loss='sparse_categorical_crossentropy', metrics=['accuracy'])\n",
    "lstm_model.summary()\n",
    "\n",
    "lstm_model.fit(X_train, y_train, epochs=10, batch_size=64, validation_data=(X_val, y_val))\n"
   ]
  },
  {
   "cell_type": "code",
   "execution_count": null,
   "metadata": {
    "id": "JnY6UJCNc3g_"
   },
   "outputs": [],
   "source": [
    "import numpy as np\n",
    "\n",
    "def batch_predict(model, X, batch_size=256):\n",
    "    preds = []\n",
    "    for i in range(0, len(X), batch_size):\n",
    "        batch_preds = lstm_model.predict(X[i:i+batch_size], verbose=0)\n",
    "        preds.append(batch_preds)\n",
    "    return np.vstack(preds)\n",
    "\n",
    "# Predict in memory-safe batches\n",
    "y_pred_scores = batch_predict(lstm_model, X_val, batch_size=256)\n",
    "\n",
    "# Get top-K predictions\n",
    "K = 10\n",
    "top_k_preds = np.argsort(y_pred_scores, axis=1)[:, -K:]\n",
    "\n",
    "# Evaluation metrics\n",
    "def precision_at_k(y_true, top_k_preds):\n",
    "    hits = sum([y_true[i] in top_k_preds[i] for i in range(len(y_true))])\n",
    "    return hits / len(y_true)\n",
    "\n",
    "# Since we're dealing with single-label next-product prediction\n",
    "def recall_at_k(y_true, top_k_preds):\n",
    "    return precision_at_k(y_true, top_k_preds)\n",
    "\n",
    "def top_k_accuracy(y_true, top_k_preds):\n",
    "    return precision_at_k(y_true, top_k_preds)\n",
    "\n",
    "# Evaluate\n",
    "precision = precision_at_k(y_val, top_k_preds)\n",
    "recall = recall_at_k(y_val, top_k_preds)\n",
    "top_k_acc = top_k_accuracy(y_val, top_k_preds)\n",
    "\n",
    "print(f\"Precision@{K}: {precision:.4f}\")\n",
    "print(f\"Recall@{K}: {recall:.4f}\")\n",
    "print(f\"Top-{K} Accuracy: {top_k_acc:.4f}\")\n"
   ]
  },
  {
   "cell_type": "code",
   "execution_count": null,
   "metadata": {
    "id": "G1mu3CwJ6u-W"
   },
   "outputs": [],
   "source": [
    "import numpy as np\n",
    "\n",
    "def batch_predict(model, X, batch_size=256):\n",
    "    preds = []\n",
    "    for i in range(0, len(X), batch_size):\n",
    "        batch_preds = lstm_model.predict(X[i:i+batch_size], verbose=0)\n",
    "        preds.append(batch_preds)\n",
    "    return np.vstack(preds)\n",
    "\n",
    "# Predict in memory-safe batches\n",
    "y_pred_scores = batch_predict(lstm_model, X_val, batch_size=256)\n",
    "\n",
    "# Get top-K predictions\n",
    "K = 5\n",
    "top_k_preds = np.argsort(y_pred_scores, axis=1)[:, -K:]\n",
    "\n",
    "# Evaluation metrics\n",
    "def precision_at_k(y_true, top_k_preds):\n",
    "    hits = sum([y_true[i] in top_k_preds[i] for i in range(len(y_true))])\n",
    "    return hits / len(y_true)\n",
    "\n",
    "# Since we're dealing with single-label next-product prediction\n",
    "def recall_at_k(y_true, top_k_preds):\n",
    "    return precision_at_k(y_true, top_k_preds)\n",
    "\n",
    "def top_k_accuracy(y_true, top_k_preds):\n",
    "    return precision_at_k(y_true, top_k_preds)\n",
    "\n",
    "# Evaluate\n",
    "precision = precision_at_k(y_val, top_k_preds)\n",
    "recall = recall_at_k(y_val, top_k_preds)\n",
    "top_k_acc = top_k_accuracy(y_val, top_k_preds)\n",
    "\n",
    "print(f\"Precision@{K}: {precision:.4f}\")\n",
    "print(f\"Recall@{K}: {recall:.4f}\")\n",
    "print(f\"Top-{K} Accuracy: {top_k_acc:.4f}\")\n"
   ]
  },
  {
   "cell_type": "code",
   "execution_count": null,
   "metadata": {
    "colab": {
     "base_uri": "https://localhost:8080/",
     "height": 332
    },
    "executionInfo": {
     "elapsed": 230,
     "status": "error",
     "timestamp": 1746791861772,
     "user": {
      "displayName": "Amira Kamel",
      "userId": "17694101562792701289"
     },
     "user_tz": -180
    },
    "id": "L0KeulMo6CXz",
    "outputId": "3e4076ab-1048-4d5c-ec2b-64d459b26041"
   },
   "outputs": [
    {
     "ename": "AttributeError",
     "evalue": "'NearestNeighbors' object has no attribute 'predict'",
     "output_type": "error",
     "traceback": [
      "\u001b[0;31m---------------------------------------------------------------------------\u001b[0m",
      "\u001b[0;31mAttributeError\u001b[0m                            Traceback (most recent call last)",
      "\u001b[0;32m<ipython-input-56-ba2eeb961d09>\u001b[0m in \u001b[0;36m<cell line: 0>\u001b[0;34m()\u001b[0m\n\u001b[1;32m     21\u001b[0m \u001b[0;34m\u001b[0m\u001b[0m\n\u001b[1;32m     22\u001b[0m \u001b[0;31m# Predict top-5 next products\u001b[0m\u001b[0;34m\u001b[0m\u001b[0;34m\u001b[0m\u001b[0m\n\u001b[0;32m---> 23\u001b[0;31m \u001b[0mnext_products\u001b[0m \u001b[0;34m=\u001b[0m \u001b[0mpredict_next_products\u001b[0m\u001b[0;34m(\u001b[0m\u001b[0mmodel\u001b[0m\u001b[0;34m,\u001b[0m \u001b[0mcustomer_seq\u001b[0m\u001b[0;34m,\u001b[0m \u001b[0mproduct_id_reverse_map\u001b[0m\u001b[0;34m,\u001b[0m \u001b[0mtop_k\u001b[0m\u001b[0;34m=\u001b[0m\u001b[0;36m5\u001b[0m\u001b[0;34m)\u001b[0m\u001b[0;34m\u001b[0m\u001b[0;34m\u001b[0m\u001b[0m\n\u001b[0m\u001b[1;32m     24\u001b[0m \u001b[0;34m\u001b[0m\u001b[0m\n\u001b[1;32m     25\u001b[0m \u001b[0mprint\u001b[0m\u001b[0;34m(\u001b[0m\u001b[0;34mf\"Top-5 recommended products for customer {customer_id}:\"\u001b[0m\u001b[0;34m)\u001b[0m\u001b[0;34m\u001b[0m\u001b[0;34m\u001b[0m\u001b[0m\n",
      "\u001b[0;32m<ipython-input-56-ba2eeb961d09>\u001b[0m in \u001b[0;36mpredict_next_products\u001b[0;34m(model, customer_sequence, product_id_reverse_map, top_k)\u001b[0m\n\u001b[1;32m      6\u001b[0m \u001b[0;34m\u001b[0m\u001b[0m\n\u001b[1;32m      7\u001b[0m \u001b[0;32mdef\u001b[0m \u001b[0mpredict_next_products\u001b[0m\u001b[0;34m(\u001b[0m\u001b[0mmodel\u001b[0m\u001b[0;34m,\u001b[0m \u001b[0mcustomer_sequence\u001b[0m\u001b[0;34m,\u001b[0m \u001b[0mproduct_id_reverse_map\u001b[0m\u001b[0;34m,\u001b[0m \u001b[0mtop_k\u001b[0m\u001b[0;34m=\u001b[0m\u001b[0;36m5\u001b[0m\u001b[0;34m)\u001b[0m\u001b[0;34m:\u001b[0m\u001b[0;34m\u001b[0m\u001b[0;34m\u001b[0m\u001b[0m\n\u001b[0;32m----> 8\u001b[0;31m     \u001b[0mpred_scores\u001b[0m \u001b[0;34m=\u001b[0m \u001b[0mmodel\u001b[0m\u001b[0;34m.\u001b[0m\u001b[0mpredict\u001b[0m\u001b[0;34m(\u001b[0m\u001b[0mcustomer_sequence\u001b[0m\u001b[0;34m,\u001b[0m \u001b[0mverbose\u001b[0m\u001b[0;34m=\u001b[0m\u001b[0;36m0\u001b[0m\u001b[0;34m)\u001b[0m  \u001b[0;31m# shape: (1, num_products)\u001b[0m\u001b[0;34m\u001b[0m\u001b[0;34m\u001b[0m\u001b[0m\n\u001b[0m\u001b[1;32m      9\u001b[0m     \u001b[0mtop_k_product_ids\u001b[0m \u001b[0;34m=\u001b[0m \u001b[0mnp\u001b[0m\u001b[0;34m.\u001b[0m\u001b[0margsort\u001b[0m\u001b[0;34m(\u001b[0m\u001b[0mpred_scores\u001b[0m\u001b[0;34m[\u001b[0m\u001b[0;36m0\u001b[0m\u001b[0;34m]\u001b[0m\u001b[0;34m)\u001b[0m\u001b[0;34m[\u001b[0m\u001b[0;34m-\u001b[0m\u001b[0mtop_k\u001b[0m\u001b[0;34m:\u001b[0m\u001b[0;34m]\u001b[0m\u001b[0;34m[\u001b[0m\u001b[0;34m:\u001b[0m\u001b[0;34m:\u001b[0m\u001b[0;34m-\u001b[0m\u001b[0;36m1\u001b[0m\u001b[0;34m]\u001b[0m  \u001b[0;31m# top-K, highest first\u001b[0m\u001b[0;34m\u001b[0m\u001b[0;34m\u001b[0m\u001b[0m\n\u001b[1;32m     10\u001b[0m     \u001b[0mtop_k_products\u001b[0m \u001b[0;34m=\u001b[0m \u001b[0;34m[\u001b[0m\u001b[0mproduct_id_reverse_map\u001b[0m\u001b[0;34m[\u001b[0m\u001b[0mi\u001b[0m\u001b[0;34m]\u001b[0m \u001b[0;32mfor\u001b[0m \u001b[0mi\u001b[0m \u001b[0;32min\u001b[0m \u001b[0mtop_k_product_ids\u001b[0m\u001b[0;34m]\u001b[0m\u001b[0;34m\u001b[0m\u001b[0;34m\u001b[0m\u001b[0m\n",
      "\u001b[0;31mAttributeError\u001b[0m: 'NearestNeighbors' object has no attribute 'predict'"
     ]
    }
   ],
   "source": [
    "# make a prediction\n",
    "def get_customer_sequence(df, customer_id, product_id_mapping, max_sequence_length=10):\n",
    "    customer_df = df[df['customer_id'] == customer_id].sort_values('order_purchase_timestamp')\n",
    "    product_ids = customer_df['product_id'].map(product_id_mapping).tolist()\n",
    "    return pad_sequences([product_ids], maxlen=max_sequence_length - 1, padding='pre')  # shape: (1, max_seq_len - 1)\n",
    "\n",
    "def predict_next_products(model, customer_sequence, product_id_reverse_map, top_k=5):\n",
    "    pred_scores = lstm_model.predict(customer_sequence, verbose=0)  # shape: (1, num_products)\n",
    "    top_k_product_ids = np.argsort(pred_scores[0])[-top_k:][::-1]  # top-K, highest first\n",
    "    top_k_products = [product_id_reverse_map[i] for i in top_k_product_ids]\n",
    "    return top_k_products\n",
    "\n",
    "# Create reverse map from int ID to product_id\n",
    "product_id_reverse_map = {v: k for k, v in product_id_mapping.items()}\n",
    "\n",
    "# Choose a specific customer\n",
    "customer_id = 'YOUR_CUSTOMER_ID_HERE'\n",
    "\n",
    "# Get padded sequence\n",
    "customer_seq = get_customer_sequence(df, customer_id, product_id_mapping)\n",
    "\n",
    "# Predict top-5 next products\n",
    "next_products = predict_next_products(lstm_model, customer_seq, product_id_reverse_map, top_k=5)\n",
    "\n",
    "print(f\"Top-5 recommended products for customer {customer_id}:\")\n",
    "print(next_products)\n",
    "\n"
   ]
  },
  {
   "cell_type": "markdown",
   "metadata": {
    "id": "YV6brc37gJVw"
   },
   "source": [
    "## Content Based"
   ]
  },
  {
   "cell_type": "code",
   "execution_count": null,
   "metadata": {
    "id": "ikZH1fbggMyx"
   },
   "outputs": [],
   "source": [
    "# Select relevant columns\n",
    "features_data = [\n",
    "    \"customer_id\", 'product_id', 'product_category_name', 'product_name_lenght',\n",
    "    'product_weight_g', 'product_length_cm', 'product_height_cm',\n",
    "    'product_width_cm', 'product_volume_cm3', 'price', 'item_total_price',\n",
    "    'freight_value', 'review_score'\n",
    "]\n",
    "df_content = df[features_data]"
   ]
  },
  {
   "cell_type": "code",
   "execution_count": null,
   "metadata": {
    "colab": {
     "base_uri": "https://localhost:8080/"
    },
    "executionInfo": {
     "elapsed": 131,
     "status": "ok",
     "timestamp": 1746795973148,
     "user": {
      "displayName": "Amira Kamel",
      "userId": "17694101562792701289"
     },
     "user_tz": -180
    },
    "id": "RFI8E7VmkDrA",
    "outputId": "e5e1291b-e278-4351-af53-f3e2574ff64a"
   },
   "outputs": [
    {
     "name": "stdout",
     "output_type": "stream",
     "text": [
      "customer_id\n",
      "270c23a11d024a44c896d1894b261a83    63\n",
      "13aa59158da63ba0e93ec6ac2c07aacb    38\n",
      "92cd3ec6e2d643d4ebd0e3d6238f69e2    26\n",
      "d22f25a9fadfb1abbc2e29395b1239f4    24\n",
      "86cc80fef09f7f39df4b0dbce48e81cb    24\n",
      "                                    ..\n",
      "5b79686b44ff3de0d593d16b9e98484e     1\n",
      "5b78abe7e081624cace02bfef1076cca     1\n",
      "5b78a451f244ad4bf514f6871360d004     1\n",
      "5b78a0661472f3b0ee616dbadc86c190     1\n",
      "5b7cbb84e59c351123b7d55e64260c61     1\n",
      "Name: count, Length: 94078, dtype: int64\n",
      "==================================\n",
      "product_id\n",
      "aca2eb7d00ea1a7b8ebd4e68314663af    525\n",
      "99a4788cb24856965c36a24e339b6058    507\n",
      "422879e10f46682990de24d770e7f83d    506\n",
      "389d119b48cf3043d311335e499d9c6b    402\n",
      "368c6c730842d78016ad823897a372db    395\n",
      "                                   ... \n",
      "6acb159c74b0fa813fb68bf88655c7ab      1\n",
      "9decf6aa56f42bbf1043166135ef58bf      1\n",
      "681a43d9f960e80dd7756c749e60a2be      1\n",
      "f3dbf072e817667fbde052aae313cce1      1\n",
      "e6afe5ce0d27df0b787daf76bd037050      1\n",
      "Name: count, Length: 31376, dtype: int64\n",
      "==================================\n",
      "product_category_name\n",
      "bed_bath_table               11635\n",
      "health_beauty                 9689\n",
      "sports_leisure                8703\n",
      "furniture_decor               8509\n",
      "computers_accessories         7908\n",
      "                             ...  \n",
      "arts_and_craftmanship           24\n",
      "la_cuisine                      15\n",
      "cds_dvds_musicals               14\n",
      "fashion_childrens_clothes        7\n",
      "security_and_services            2\n",
      "Name: count, Length: 71, dtype: int64\n",
      "==================================\n",
      "product_name_lenght\n",
      "59.0    8415\n",
      "60.0    7806\n",
      "56.0    6678\n",
      "58.0    6611\n",
      "57.0    6147\n",
      "        ... \n",
      "6.0        3\n",
      "76.0       1\n",
      "7.0        1\n",
      "68.0       1\n",
      "66.0       1\n",
      "Name: count, Length: 65, dtype: int64\n",
      "==================================\n",
      "product_weight_g\n",
      "200.0     6672\n",
      "150.0     5223\n",
      "250.0     4562\n",
      "300.0     4194\n",
      "100.0     3476\n",
      "          ... \n",
      "947.0        1\n",
      "1194.0       1\n",
      "658.0        1\n",
      "698.0        1\n",
      "1670.0       1\n",
      "Name: count, Length: 2160, dtype: int64\n",
      "==================================\n",
      "product_length_cm\n",
      "16.0    17265\n",
      "20.0    10302\n",
      "30.0     7655\n",
      "17.0     5961\n",
      "18.0     5656\n",
      "        ...  \n",
      "88.0        7\n",
      "83.0        6\n",
      "94.0        6\n",
      "9.0         4\n",
      "8.0         2\n",
      "Name: count, Length: 99, dtype: int64\n",
      "==================================\n",
      "product_height_cm\n",
      "10.0    9981\n",
      "15.0    6624\n",
      "20.0    6621\n",
      "11.0    6141\n",
      "12.0    6062\n",
      "        ... \n",
      "87.0       3\n",
      "92.0       2\n",
      "97.0       2\n",
      "94.0       2\n",
      "89.0       1\n",
      "Name: count, Length: 102, dtype: int64\n",
      "==================================\n",
      "product_width_cm\n",
      "20.0     12135\n",
      "11.0     10409\n",
      "15.0      8718\n",
      "16.0      8456\n",
      "30.0      7707\n",
      "         ...  \n",
      "86.0         1\n",
      "87.0         1\n",
      "98.0         1\n",
      "104.0        1\n",
      "97.0         1\n",
      "Name: count, Length: 94, dtype: int64\n",
      "==================================\n",
      "product_volume_cm3\n",
      "8000.0     2711\n",
      "352.0      1755\n",
      "19800.0    1304\n",
      "4096.0     1155\n",
      "816.0      1082\n",
      "           ... \n",
      "42180.0       1\n",
      "32340.0       1\n",
      "16698.0       1\n",
      "79056.0       1\n",
      "38088.0       1\n",
      "Name: count, Length: 4402, dtype: int64\n",
      "==================================\n",
      "price\n",
      "59.90     2538\n",
      "69.90     2048\n",
      "49.90     1972\n",
      "89.90     1574\n",
      "99.90     1478\n",
      "          ... \n",
      "68.75        1\n",
      "253.90       1\n",
      "67.20        1\n",
      "256.78       1\n",
      "291.50       1\n",
      "Name: count, Length: 5760, dtype: int64\n",
      "==================================\n",
      "item_total_price\n",
      "77.57      445\n",
      "73.34      246\n",
      "35.00      218\n",
      "67.50      165\n",
      "107.78     136\n",
      "          ... \n",
      "165.91       1\n",
      "151.66       1\n",
      "1472.47      1\n",
      "168.46       1\n",
      "72.26        1\n",
      "Name: count, Length: 26321, dtype: int64\n",
      "==================================\n",
      "freight_value\n",
      "15.10     3687\n",
      "7.78      2233\n",
      "11.85     1908\n",
      "14.10     1885\n",
      "18.23     1578\n",
      "          ... \n",
      "119.63       1\n",
      "33.77        1\n",
      "89.34        1\n",
      "43.58        1\n",
      "68.87        1\n",
      "Name: count, Length: 6867, dtype: int64\n",
      "==================================\n",
      "review_score\n",
      "5.0    64847\n",
      "4.0    21716\n",
      "1.0    12812\n",
      "3.0     9501\n",
      "2.0     3801\n",
      "Name: count, dtype: int64\n",
      "==================================\n"
     ]
    }
   ],
   "source": [
    "for _ in df_content:\n",
    "  print(df_content[_].value_counts())\n",
    "  print(\"==================================\")"
   ]
  },
  {
   "cell_type": "code",
   "execution_count": null,
   "metadata": {
    "colab": {
     "base_uri": "https://localhost:8080/"
    },
    "executionInfo": {
     "elapsed": 90,
     "status": "ok",
     "timestamp": 1746795973238,
     "user": {
      "displayName": "Amira Kamel",
      "userId": "17694101562792701289"
     },
     "user_tz": -180
    },
    "id": "QONd88vYkDox",
    "outputId": "2d2b516a-76b2-462f-9e1d-6f9dd4ca86d5"
   },
   "outputs": [
    {
     "name": "stdout",
     "output_type": "stream",
     "text": [
      "customer_id              0\n",
      "product_id               0\n",
      "product_category_name    0\n",
      "product_name_lenght      0\n",
      "product_weight_g         0\n",
      "product_length_cm        0\n",
      "product_height_cm        0\n",
      "product_width_cm         0\n",
      "product_volume_cm3       0\n",
      "price                    0\n",
      "item_total_price         0\n",
      "freight_value            0\n",
      "review_score             0\n",
      "dtype: int64\n",
      "0\n"
     ]
    }
   ],
   "source": [
    "print(df_content.isnull().sum())\n",
    "print(sum(df_content.isnull().sum()))"
   ]
  },
  {
   "cell_type": "code",
   "execution_count": null,
   "metadata": {
    "colab": {
     "base_uri": "https://localhost:8080/",
     "height": 243
    },
    "executionInfo": {
     "elapsed": 277,
     "status": "ok",
     "timestamp": 1746795973473,
     "user": {
      "displayName": "Amira Kamel",
      "userId": "17694101562792701289"
     },
     "user_tz": -180
    },
    "id": "o8y8beKwkDmO",
    "outputId": "cc70ef66-d3f3-414e-9d35-75f5cd4c8af4"
   },
   "outputs": [
    {
     "name": "stdout",
     "output_type": "stream",
     "text": [
      "Total duplicated interactions: 25029\n"
     ]
    },
    {
     "data": {
      "application/vnd.google.colaboratory.intrinsic+json": {
       "summary": "{\n  \"name\": \"duplicates\",\n  \"rows\": 25029,\n  \"fields\": [\n    {\n      \"column\": \"customer_id\",\n      \"properties\": {\n        \"dtype\": \"category\",\n        \"num_unique_values\": 9718,\n        \"samples\": [\n          \"99741a5f43aa1794f70b18a4e60229de\",\n          \"70dd390d4cce478ae3b76a877a1f8cd1\",\n          \"1cd96d1a642496e8967965c311f98b1a\"\n        ],\n        \"semantic_type\": \"\",\n        \"description\": \"\"\n      }\n    },\n    {\n      \"column\": \"product_id\",\n      \"properties\": {\n        \"dtype\": \"category\",\n        \"num_unique_values\": 6250,\n        \"samples\": [\n          \"edf78e9c664f8713bb06e61eff191ef8\",\n          \"f9ce5e5592c6836c379b156a1b043684\",\n          \"499152ec860819480e1b2d5598d1e29f\"\n        ],\n        \"semantic_type\": \"\",\n        \"description\": \"\"\n      }\n    },\n    {\n      \"column\": \"product_category_name\",\n      \"properties\": {\n        \"dtype\": \"category\",\n        \"num_unique_values\": 68,\n        \"samples\": [\n          \"home_comfort_2\",\n          \"electronics\",\n          \"health_beauty\"\n        ],\n        \"semantic_type\": \"\",\n        \"description\": \"\"\n      }\n    },\n    {\n      \"column\": \"product_name_lenght\",\n      \"properties\": {\n        \"dtype\": \"number\",\n        \"std\": 10.214291286067066,\n        \"min\": 6.0,\n        \"max\": 67.0,\n        \"num_unique_values\": 57,\n        \"samples\": [\n          57.0,\n          33.0,\n          52.0\n        ],\n        \"semantic_type\": \"\",\n        \"description\": \"\"\n      }\n    },\n    {\n      \"column\": \"product_weight_g\",\n      \"properties\": {\n        \"dtype\": \"number\",\n        \"std\": 3883.147518506936,\n        \"min\": 0.0,\n        \"max\": 30000.0,\n        \"num_unique_values\": 973,\n        \"samples\": [\n          2069.0,\n          11700.0,\n          114.0\n        ],\n        \"semantic_type\": \"\",\n        \"description\": \"\"\n      }\n    },\n    {\n      \"column\": \"product_length_cm\",\n      \"properties\": {\n        \"dtype\": \"number\",\n        \"std\": 16.397596441457935,\n        \"min\": 7.0,\n        \"max\": 105.0,\n        \"num_unique_values\": 93,\n        \"samples\": [\n          101.0,\n          70.0,\n          68.0\n        ],\n        \"semantic_type\": \"\",\n        \"description\": \"\"\n      }\n    },\n    {\n      \"column\": \"product_height_cm\",\n      \"properties\": {\n        \"dtype\": \"number\",\n        \"std\": 14.131143134137204,\n        \"min\": 2.0,\n        \"max\": 105.0,\n        \"num_unique_values\": 85,\n        \"samples\": [\n          69.0,\n          22.0,\n          49.0\n        ],\n        \"semantic_type\": \"\",\n        \"description\": \"\"\n      }\n    },\n    {\n      \"column\": \"product_width_cm\",\n      \"properties\": {\n        \"dtype\": \"number\",\n        \"std\": 11.695277655111683,\n        \"min\": 8.0,\n        \"max\": 100.0,\n        \"num_unique_values\": 74,\n        \"samples\": [\n          26.0,\n          62.0,\n          16.0\n        ],\n        \"semantic_type\": \"\",\n        \"description\": \"\"\n      }\n    },\n    {\n      \"column\": \"product_volume_cm3\",\n      \"properties\": {\n        \"dtype\": \"number\",\n        \"std\": 24335.94939817942,\n        \"min\": 352.0,\n        \"max\": 288000.0,\n        \"num_unique_values\": 1937,\n        \"samples\": [\n          12789.0,\n          8151.0,\n          884.0\n        ],\n        \"semantic_type\": \"\",\n        \"description\": \"\"\n      }\n    },\n    {\n      \"column\": \"price\",\n      \"properties\": {\n        \"dtype\": \"number\",\n        \"std\": 145.39748026416706,\n        \"min\": 1.2,\n        \"max\": 3999.0,\n        \"num_unique_values\": 1911,\n        \"samples\": [\n          485.0,\n          17.82,\n          98.69\n        ],\n        \"semantic_type\": \"\",\n        \"description\": \"\"\n      }\n    },\n    {\n      \"column\": \"item_total_price\",\n      \"properties\": {\n        \"dtype\": \"number\",\n        \"std\": 151.94036937539684,\n        \"min\": 6.08,\n        \"max\": 4194.76,\n        \"num_unique_values\": 6440,\n        \"samples\": [\n          75.84,\n          128.78,\n          194.38\n        ],\n        \"semantic_type\": \"\",\n        \"description\": \"\"\n      }\n    },\n    {\n      \"column\": \"freight_value\",\n      \"properties\": {\n        \"dtype\": \"number\",\n        \"std\": 14.844804395281805,\n        \"min\": 0.0,\n        \"max\": 299.16,\n        \"num_unique_values\": 2660,\n        \"samples\": [\n          20.46,\n          17.67,\n          24.77\n        ],\n        \"semantic_type\": \"\",\n        \"description\": \"\"\n      }\n    },\n    {\n      \"column\": \"review_score\",\n      \"properties\": {\n        \"dtype\": \"number\",\n        \"std\": 1.5252018673177288,\n        \"min\": 1.0,\n        \"max\": 5.0,\n        \"num_unique_values\": 5,\n        \"samples\": [\n          5.0,\n          3.0,\n          4.0\n        ],\n        \"semantic_type\": \"\",\n        \"description\": \"\"\n      }\n    }\n  ]\n}",
       "type": "dataframe",
       "variable_name": "duplicates"
      },
      "text/html": [
       "\n",
       "  <div id=\"df-701075e0-1f2a-4916-808f-c4714b4dd837\" class=\"colab-df-container\">\n",
       "    <div>\n",
       "<style scoped>\n",
       "    .dataframe tbody tr th:only-of-type {\n",
       "        vertical-align: middle;\n",
       "    }\n",
       "\n",
       "    .dataframe tbody tr th {\n",
       "        vertical-align: top;\n",
       "    }\n",
       "\n",
       "    .dataframe thead th {\n",
       "        text-align: right;\n",
       "    }\n",
       "</style>\n",
       "<table border=\"1\" class=\"dataframe\">\n",
       "  <thead>\n",
       "    <tr style=\"text-align: right;\">\n",
       "      <th></th>\n",
       "      <th>customer_id</th>\n",
       "      <th>product_id</th>\n",
       "      <th>product_category_name</th>\n",
       "      <th>product_name_lenght</th>\n",
       "      <th>product_weight_g</th>\n",
       "      <th>product_length_cm</th>\n",
       "      <th>product_height_cm</th>\n",
       "      <th>product_width_cm</th>\n",
       "      <th>product_volume_cm3</th>\n",
       "      <th>price</th>\n",
       "      <th>item_total_price</th>\n",
       "      <th>freight_value</th>\n",
       "      <th>review_score</th>\n",
       "    </tr>\n",
       "  </thead>\n",
       "  <tbody>\n",
       "    <tr>\n",
       "      <th>74442</th>\n",
       "      <td>00066ccbe787a588c52bd5ff404590e3</td>\n",
       "      <td>368c6c730842d78016ad823897a372db</td>\n",
       "      <td>garden_tools</td>\n",
       "      <td>57.0</td>\n",
       "      <td>1650.0</td>\n",
       "      <td>30.0</td>\n",
       "      <td>22.0</td>\n",
       "      <td>30.0</td>\n",
       "      <td>19800.0</td>\n",
       "      <td>49.9</td>\n",
       "      <td>67.50</td>\n",
       "      <td>17.60</td>\n",
       "      <td>1.0</td>\n",
       "    </tr>\n",
       "    <tr>\n",
       "      <th>74443</th>\n",
       "      <td>00066ccbe787a588c52bd5ff404590e3</td>\n",
       "      <td>368c6c730842d78016ad823897a372db</td>\n",
       "      <td>garden_tools</td>\n",
       "      <td>57.0</td>\n",
       "      <td>1650.0</td>\n",
       "      <td>30.0</td>\n",
       "      <td>22.0</td>\n",
       "      <td>30.0</td>\n",
       "      <td>19800.0</td>\n",
       "      <td>49.9</td>\n",
       "      <td>67.50</td>\n",
       "      <td>17.60</td>\n",
       "      <td>1.0</td>\n",
       "    </tr>\n",
       "    <tr>\n",
       "      <th>74444</th>\n",
       "      <td>00066ccbe787a588c52bd5ff404590e3</td>\n",
       "      <td>368c6c730842d78016ad823897a372db</td>\n",
       "      <td>garden_tools</td>\n",
       "      <td>57.0</td>\n",
       "      <td>1650.0</td>\n",
       "      <td>30.0</td>\n",
       "      <td>22.0</td>\n",
       "      <td>30.0</td>\n",
       "      <td>19800.0</td>\n",
       "      <td>49.9</td>\n",
       "      <td>67.50</td>\n",
       "      <td>17.60</td>\n",
       "      <td>1.0</td>\n",
       "    </tr>\n",
       "    <tr>\n",
       "      <th>74445</th>\n",
       "      <td>00066ccbe787a588c52bd5ff404590e3</td>\n",
       "      <td>368c6c730842d78016ad823897a372db</td>\n",
       "      <td>garden_tools</td>\n",
       "      <td>57.0</td>\n",
       "      <td>1650.0</td>\n",
       "      <td>30.0</td>\n",
       "      <td>22.0</td>\n",
       "      <td>30.0</td>\n",
       "      <td>19800.0</td>\n",
       "      <td>49.9</td>\n",
       "      <td>67.50</td>\n",
       "      <td>17.60</td>\n",
       "      <td>1.0</td>\n",
       "    </tr>\n",
       "    <tr>\n",
       "      <th>26217</th>\n",
       "      <td>000bf8121c3412d3057d32371c5d3395</td>\n",
       "      <td>bae1013381fa74d68d18c89d313f97eb</td>\n",
       "      <td>furniture_decor</td>\n",
       "      <td>63.0</td>\n",
       "      <td>300.0</td>\n",
       "      <td>20.0</td>\n",
       "      <td>5.0</td>\n",
       "      <td>48.0</td>\n",
       "      <td>4800.0</td>\n",
       "      <td>15.0</td>\n",
       "      <td>22.78</td>\n",
       "      <td>7.78</td>\n",
       "      <td>5.0</td>\n",
       "    </tr>\n",
       "  </tbody>\n",
       "</table>\n",
       "</div>\n",
       "    <div class=\"colab-df-buttons\">\n",
       "\n",
       "  <div class=\"colab-df-container\">\n",
       "    <button class=\"colab-df-convert\" onclick=\"convertToInteractive('df-701075e0-1f2a-4916-808f-c4714b4dd837')\"\n",
       "            title=\"Convert this dataframe to an interactive table.\"\n",
       "            style=\"display:none;\">\n",
       "\n",
       "  <svg xmlns=\"http://www.w3.org/2000/svg\" height=\"24px\" viewBox=\"0 -960 960 960\">\n",
       "    <path d=\"M120-120v-720h720v720H120Zm60-500h600v-160H180v160Zm220 220h160v-160H400v160Zm0 220h160v-160H400v160ZM180-400h160v-160H180v160Zm440 0h160v-160H620v160ZM180-180h160v-160H180v160Zm440 0h160v-160H620v160Z\"/>\n",
       "  </svg>\n",
       "    </button>\n",
       "\n",
       "  <style>\n",
       "    .colab-df-container {\n",
       "      display:flex;\n",
       "      gap: 12px;\n",
       "    }\n",
       "\n",
       "    .colab-df-convert {\n",
       "      background-color: #E8F0FE;\n",
       "      border: none;\n",
       "      border-radius: 50%;\n",
       "      cursor: pointer;\n",
       "      display: none;\n",
       "      fill: #1967D2;\n",
       "      height: 32px;\n",
       "      padding: 0 0 0 0;\n",
       "      width: 32px;\n",
       "    }\n",
       "\n",
       "    .colab-df-convert:hover {\n",
       "      background-color: #E2EBFA;\n",
       "      box-shadow: 0px 1px 2px rgba(60, 64, 67, 0.3), 0px 1px 3px 1px rgba(60, 64, 67, 0.15);\n",
       "      fill: #174EA6;\n",
       "    }\n",
       "\n",
       "    .colab-df-buttons div {\n",
       "      margin-bottom: 4px;\n",
       "    }\n",
       "\n",
       "    [theme=dark] .colab-df-convert {\n",
       "      background-color: #3B4455;\n",
       "      fill: #D2E3FC;\n",
       "    }\n",
       "\n",
       "    [theme=dark] .colab-df-convert:hover {\n",
       "      background-color: #434B5C;\n",
       "      box-shadow: 0px 1px 3px 1px rgba(0, 0, 0, 0.15);\n",
       "      filter: drop-shadow(0px 1px 2px rgba(0, 0, 0, 0.3));\n",
       "      fill: #FFFFFF;\n",
       "    }\n",
       "  </style>\n",
       "\n",
       "    <script>\n",
       "      const buttonEl =\n",
       "        document.querySelector('#df-701075e0-1f2a-4916-808f-c4714b4dd837 button.colab-df-convert');\n",
       "      buttonEl.style.display =\n",
       "        google.colab.kernel.accessAllowed ? 'block' : 'none';\n",
       "\n",
       "      async function convertToInteractive(key) {\n",
       "        const element = document.querySelector('#df-701075e0-1f2a-4916-808f-c4714b4dd837');\n",
       "        const dataTable =\n",
       "          await google.colab.kernel.invokeFunction('convertToInteractive',\n",
       "                                                    [key], {});\n",
       "        if (!dataTable) return;\n",
       "\n",
       "        const docLinkHtml = 'Like what you see? Visit the ' +\n",
       "          '<a target=\"_blank\" href=https://colab.research.google.com/notebooks/data_table.ipynb>data table notebook</a>'\n",
       "          + ' to learn more about interactive tables.';\n",
       "        element.innerHTML = '';\n",
       "        dataTable['output_type'] = 'display_data';\n",
       "        await google.colab.output.renderOutput(dataTable, element);\n",
       "        const docLink = document.createElement('div');\n",
       "        docLink.innerHTML = docLinkHtml;\n",
       "        element.appendChild(docLink);\n",
       "      }\n",
       "    </script>\n",
       "  </div>\n",
       "\n",
       "\n",
       "    <div id=\"df-62f78638-2e46-4649-9239-7c47fdb7a8be\">\n",
       "      <button class=\"colab-df-quickchart\" onclick=\"quickchart('df-62f78638-2e46-4649-9239-7c47fdb7a8be')\"\n",
       "                title=\"Suggest charts\"\n",
       "                style=\"display:none;\">\n",
       "\n",
       "<svg xmlns=\"http://www.w3.org/2000/svg\" height=\"24px\"viewBox=\"0 0 24 24\"\n",
       "     width=\"24px\">\n",
       "    <g>\n",
       "        <path d=\"M19 3H5c-1.1 0-2 .9-2 2v14c0 1.1.9 2 2 2h14c1.1 0 2-.9 2-2V5c0-1.1-.9-2-2-2zM9 17H7v-7h2v7zm4 0h-2V7h2v10zm4 0h-2v-4h2v4z\"/>\n",
       "    </g>\n",
       "</svg>\n",
       "      </button>\n",
       "\n",
       "<style>\n",
       "  .colab-df-quickchart {\n",
       "      --bg-color: #E8F0FE;\n",
       "      --fill-color: #1967D2;\n",
       "      --hover-bg-color: #E2EBFA;\n",
       "      --hover-fill-color: #174EA6;\n",
       "      --disabled-fill-color: #AAA;\n",
       "      --disabled-bg-color: #DDD;\n",
       "  }\n",
       "\n",
       "  [theme=dark] .colab-df-quickchart {\n",
       "      --bg-color: #3B4455;\n",
       "      --fill-color: #D2E3FC;\n",
       "      --hover-bg-color: #434B5C;\n",
       "      --hover-fill-color: #FFFFFF;\n",
       "      --disabled-bg-color: #3B4455;\n",
       "      --disabled-fill-color: #666;\n",
       "  }\n",
       "\n",
       "  .colab-df-quickchart {\n",
       "    background-color: var(--bg-color);\n",
       "    border: none;\n",
       "    border-radius: 50%;\n",
       "    cursor: pointer;\n",
       "    display: none;\n",
       "    fill: var(--fill-color);\n",
       "    height: 32px;\n",
       "    padding: 0;\n",
       "    width: 32px;\n",
       "  }\n",
       "\n",
       "  .colab-df-quickchart:hover {\n",
       "    background-color: var(--hover-bg-color);\n",
       "    box-shadow: 0 1px 2px rgba(60, 64, 67, 0.3), 0 1px 3px 1px rgba(60, 64, 67, 0.15);\n",
       "    fill: var(--button-hover-fill-color);\n",
       "  }\n",
       "\n",
       "  .colab-df-quickchart-complete:disabled,\n",
       "  .colab-df-quickchart-complete:disabled:hover {\n",
       "    background-color: var(--disabled-bg-color);\n",
       "    fill: var(--disabled-fill-color);\n",
       "    box-shadow: none;\n",
       "  }\n",
       "\n",
       "  .colab-df-spinner {\n",
       "    border: 2px solid var(--fill-color);\n",
       "    border-color: transparent;\n",
       "    border-bottom-color: var(--fill-color);\n",
       "    animation:\n",
       "      spin 1s steps(1) infinite;\n",
       "  }\n",
       "\n",
       "  @keyframes spin {\n",
       "    0% {\n",
       "      border-color: transparent;\n",
       "      border-bottom-color: var(--fill-color);\n",
       "      border-left-color: var(--fill-color);\n",
       "    }\n",
       "    20% {\n",
       "      border-color: transparent;\n",
       "      border-left-color: var(--fill-color);\n",
       "      border-top-color: var(--fill-color);\n",
       "    }\n",
       "    30% {\n",
       "      border-color: transparent;\n",
       "      border-left-color: var(--fill-color);\n",
       "      border-top-color: var(--fill-color);\n",
       "      border-right-color: var(--fill-color);\n",
       "    }\n",
       "    40% {\n",
       "      border-color: transparent;\n",
       "      border-right-color: var(--fill-color);\n",
       "      border-top-color: var(--fill-color);\n",
       "    }\n",
       "    60% {\n",
       "      border-color: transparent;\n",
       "      border-right-color: var(--fill-color);\n",
       "    }\n",
       "    80% {\n",
       "      border-color: transparent;\n",
       "      border-right-color: var(--fill-color);\n",
       "      border-bottom-color: var(--fill-color);\n",
       "    }\n",
       "    90% {\n",
       "      border-color: transparent;\n",
       "      border-bottom-color: var(--fill-color);\n",
       "    }\n",
       "  }\n",
       "</style>\n",
       "\n",
       "      <script>\n",
       "        async function quickchart(key) {\n",
       "          const quickchartButtonEl =\n",
       "            document.querySelector('#' + key + ' button');\n",
       "          quickchartButtonEl.disabled = true;  // To prevent multiple clicks.\n",
       "          quickchartButtonEl.classList.add('colab-df-spinner');\n",
       "          try {\n",
       "            const charts = await google.colab.kernel.invokeFunction(\n",
       "                'suggestCharts', [key], {});\n",
       "          } catch (error) {\n",
       "            console.error('Error during call to suggestCharts:', error);\n",
       "          }\n",
       "          quickchartButtonEl.classList.remove('colab-df-spinner');\n",
       "          quickchartButtonEl.classList.add('colab-df-quickchart-complete');\n",
       "        }\n",
       "        (() => {\n",
       "          let quickchartButtonEl =\n",
       "            document.querySelector('#df-62f78638-2e46-4649-9239-7c47fdb7a8be button');\n",
       "          quickchartButtonEl.style.display =\n",
       "            google.colab.kernel.accessAllowed ? 'block' : 'none';\n",
       "        })();\n",
       "      </script>\n",
       "    </div>\n",
       "\n",
       "    </div>\n",
       "  </div>\n"
      ],
      "text/plain": [
       "                            customer_id                        product_id  \\\n",
       "74442  00066ccbe787a588c52bd5ff404590e3  368c6c730842d78016ad823897a372db   \n",
       "74443  00066ccbe787a588c52bd5ff404590e3  368c6c730842d78016ad823897a372db   \n",
       "74444  00066ccbe787a588c52bd5ff404590e3  368c6c730842d78016ad823897a372db   \n",
       "74445  00066ccbe787a588c52bd5ff404590e3  368c6c730842d78016ad823897a372db   \n",
       "26217  000bf8121c3412d3057d32371c5d3395  bae1013381fa74d68d18c89d313f97eb   \n",
       "\n",
       "      product_category_name  product_name_lenght  product_weight_g  \\\n",
       "74442          garden_tools                 57.0            1650.0   \n",
       "74443          garden_tools                 57.0            1650.0   \n",
       "74444          garden_tools                 57.0            1650.0   \n",
       "74445          garden_tools                 57.0            1650.0   \n",
       "26217       furniture_decor                 63.0             300.0   \n",
       "\n",
       "       product_length_cm  product_height_cm  product_width_cm  \\\n",
       "74442               30.0               22.0              30.0   \n",
       "74443               30.0               22.0              30.0   \n",
       "74444               30.0               22.0              30.0   \n",
       "74445               30.0               22.0              30.0   \n",
       "26217               20.0                5.0              48.0   \n",
       "\n",
       "       product_volume_cm3  price  item_total_price  freight_value  \\\n",
       "74442             19800.0   49.9             67.50          17.60   \n",
       "74443             19800.0   49.9             67.50          17.60   \n",
       "74444             19800.0   49.9             67.50          17.60   \n",
       "74445             19800.0   49.9             67.50          17.60   \n",
       "26217              4800.0   15.0             22.78           7.78   \n",
       "\n",
       "       review_score  \n",
       "74442           1.0  \n",
       "74443           1.0  \n",
       "74444           1.0  \n",
       "74445           1.0  \n",
       "26217           5.0  "
      ]
     },
     "execution_count": 11,
     "metadata": {},
     "output_type": "execute_result"
    }
   ],
   "source": [
    "#See the number of duplicates in the customer-product interaction.\n",
    "duplicates = df_content[df_content.duplicated(subset=[\"customer_id\", \"product_id\"], keep=False)]\n",
    "print(f\"Total duplicated interactions: {len(duplicates)}\")\n",
    "duplicates.head()\n"
   ]
  },
  {
   "cell_type": "code",
   "execution_count": null,
   "metadata": {
    "colab": {
     "base_uri": "https://localhost:8080/"
    },
    "executionInfo": {
     "elapsed": 300,
     "status": "ok",
     "timestamp": 1746795973774,
     "user": {
      "displayName": "Amira Kamel",
      "userId": "17694101562792701289"
     },
     "user_tz": -180
    },
    "id": "QflNiUFikDh9",
    "outputId": "010e3690-3a63-4298-9878-3e0c0e7b0699"
   },
   "outputs": [
    {
     "name": "stderr",
     "output_type": "stream",
     "text": [
      "<ipython-input-12-a5927fad731e>:3: SettingWithCopyWarning: \n",
      "A value is trying to be set on a copy of a slice from a DataFrame.\n",
      "Try using .loc[row_indexer,col_indexer] = value instead\n",
      "\n",
      "See the caveats in the documentation: https://pandas.pydata.org/pandas-docs/stable/user_guide/indexing.html#returning-a-view-versus-a-copy\n",
      "  df_content[numeric_cols] = df_content[numeric_cols].fillna(df[numeric_cols].median())\n",
      "<ipython-input-12-a5927fad731e>:6: SettingWithCopyWarning: \n",
      "A value is trying to be set on a copy of a slice from a DataFrame\n",
      "\n",
      "See the caveats in the documentation: https://pandas.pydata.org/pandas-docs/stable/user_guide/indexing.html#returning-a-view-versus-a-copy\n",
      "  df_content.drop_duplicates(inplace=True)\n"
     ]
    }
   ],
   "source": [
    "# Fill missing values in numeric columns\n",
    "numeric_cols = df_content.select_dtypes(include=np.number).columns\n",
    "df_content[numeric_cols] = df_content[numeric_cols].fillna(df[numeric_cols].median())\n",
    "\n",
    "# Remove full duplicates\n",
    "df_content.drop_duplicates(inplace=True)\n",
    "\n",
    "# Keep only highest review per customer-product pair\n",
    "df_content = df_content.sort_values(\"review_score\", ascending=False)\n",
    "df_content = df_content.drop_duplicates(subset=[\"customer_id\", \"product_id\"], keep=\"first\").reset_index(drop=True)"
   ]
  },
  {
   "cell_type": "code",
   "execution_count": null,
   "metadata": {
    "id": "XEK6zETrkDeB"
   },
   "outputs": [],
   "source": [
    "# Add new features\n",
    "df_content['price_per_weight'] = df_content['price'] / df_content['product_weight_g'].replace(0, np.nan)\n",
    "df_content['price_per_volume'] = df_content['price'] / df_content['product_volume_cm3'].replace(0, np.nan)\n"
   ]
  },
  {
   "cell_type": "code",
   "execution_count": null,
   "metadata": {
    "id": "wLUfwd8dkDbs"
   },
   "outputs": [],
   "source": [
    "\n",
    "# Fill NaNs after feature creation\n",
    "numeric_cols_new = df_content.select_dtypes(include=np.number).columns\n",
    "df_content[numeric_cols_new] = df_content[numeric_cols_new].fillna(df_content[numeric_cols_new].median())\n",
    "\n",
    "# Save display data\n",
    "df_display = df_content[['product_id', 'product_category_name']].copy()\n"
   ]
  },
  {
   "cell_type": "code",
   "execution_count": null,
   "metadata": {
    "id": "4q8Ckk_9kxdI"
   },
   "outputs": [],
   "source": [
    "# Fill NaNs after feature creation\n",
    "numeric_cols_new = df_content.select_dtypes(include=np.number).columns\n",
    "df_content[numeric_cols_new] = df_content[numeric_cols_new].fillna(df_content[numeric_cols_new].median())\n",
    "\n",
    "# Save display data\n",
    "df_display = df_content[['product_id', 'product_category_name']].copy()\n"
   ]
  },
  {
   "cell_type": "code",
   "execution_count": null,
   "metadata": {
    "id": "1PIbxXmXkxay"
   },
   "outputs": [],
   "source": [
    "#handling missing value\n",
    "df_content['product_category_name'] = df_content['product_category_name'].fillna('Unknown_Category').astype(str)"
   ]
  },
  {
   "cell_type": "code",
   "execution_count": null,
   "metadata": {
    "id": "qs4C0RZ5kxYR"
   },
   "outputs": [],
   "source": [
    "# Feature Engineering + TF-IDF Encoding\n",
    "from sklearn.feature_extraction.text import TfidfVectorizer\n",
    "from scipy.sparse import hstack, csr_matrix\n",
    "from sklearn.preprocessing import MinMaxScaler\n",
    "\n",
    "# Encode categorical features using TF-IDF\n",
    "tfidf = TfidfVectorizer(ngram_range=(1, 2))\n",
    "category_tfidf = tfidf.fit_transform(df_content['product_category_name'])\n"
   ]
  },
  {
   "cell_type": "code",
   "execution_count": null,
   "metadata": {
    "id": "PlYW-UBFk37w"
   },
   "outputs": [],
   "source": [
    "# Drop duplicates based on product_id\n",
    "df_encoded = df_content.drop_duplicates(subset=['product_id']).reset_index(drop=True)\n",
    "df_display = df_display.drop_duplicates(subset=['product_id']).reset_index(drop=True)\n",
    "category_tfidf = category_tfidf[df_encoded.index]\n"
   ]
  },
  {
   "cell_type": "code",
   "execution_count": null,
   "metadata": {
    "id": "hlhq8Bk6kxVw"
   },
   "outputs": [],
   "source": [
    "# Define numerical features (excluding review_score from scaling)\n",
    "numerical_features = [\n",
    "    'price', 'product_weight_g', 'product_length_cm', 'product_height_cm',\n",
    "    'product_width_cm', 'product_volume_cm3', 'price_per_weight', 'price_per_volume'\n",
    "]\n",
    "\n",
    "# Scale numerical features\n",
    "scaler = MinMaxScaler()\n",
    "df_encoded[numerical_features] = scaler.fit_transform(df_encoded[numerical_features])"
   ]
  },
  {
   "cell_type": "code",
   "execution_count": null,
   "metadata": {
    "colab": {
     "base_uri": "https://localhost:8080/"
    },
    "executionInfo": {
     "elapsed": 18,
     "status": "ok",
     "timestamp": 1746795974512,
     "user": {
      "displayName": "Amira Kamel",
      "userId": "17694101562792701289"
     },
     "user_tz": -180
    },
    "id": "bdQ7DPXykxQa",
    "outputId": "93ab2bb9-6d24-47a3-de9e-69db5012ff1c"
   },
   "outputs": [
    {
     "name": "stdout",
     "output_type": "stream",
     "text": [
      " Feature engineering and encoding completed.\n"
     ]
    }
   ],
   "source": [
    "# Increase weight of review_score manually\n",
    "df_encoded['review_score'] *= 2  # Double the impact of review_score\n",
    "\n",
    "# Convert to sparse matrix\n",
    "numerical_features_sparse = csr_matrix(df_encoded[numerical_features].values)\n",
    "\n",
    "# Combine text and numeric features\n",
    "features_sparse = hstack([category_tfidf, numerical_features_sparse])\n",
    "\n",
    "print(\" Feature engineering and encoding completed.\")"
   ]
  },
  {
   "cell_type": "code",
   "execution_count": null,
   "metadata": {
    "colab": {
     "base_uri": "https://localhost:8080/"
    },
    "executionInfo": {
     "elapsed": 14,
     "status": "ok",
     "timestamp": 1746795974528,
     "user": {
      "displayName": "Amira Kamel",
      "userId": "17694101562792701289"
     },
     "user_tz": -180
    },
    "id": "4o0wg7IlkxN_",
    "outputId": "145d65bb-1e3b-45b2-eb05-b790ac8a450d"
   },
   "outputs": [
    {
     "name": "stdout",
     "output_type": "stream",
     "text": [
      "NearestNeighbors model trained.\n"
     ]
    }
   ],
   "source": [
    "##Train NearestNeighbors Model\n",
    "from sklearn.neighbors import NearestNeighbors\n",
    "\n",
    "# Train model\n",
    "model = NearestNeighbors(n_neighbors=6, metric='cosine')\n",
    "model.fit(features_sparse)\n",
    "\n",
    "print(\"NearestNeighbors model trained.\")"
   ]
  },
  {
   "cell_type": "code",
   "execution_count": null,
   "metadata": {
    "id": "PgGtKuDVkxKw"
   },
   "outputs": [],
   "source": [
    "def recommend_products(product_index, n_recommendations=5):\n",
    "    \"\"\"\n",
    "    Recommends similar products based on product index.\n",
    "    \"\"\"\n",
    "    distances, indices = model.kneighbors(features_sparse[product_index:product_index+1])\n",
    "    recommended_indices = [i for i in indices[0] if i != product_index][:n_recommendations]\n",
    "\n",
    "    similarities = 1 - distances[0][1:n_recommendations+1]\n",
    "\n",
    "    print(\"Original Product:\")\n",
    "    print(df_display.iloc[product_index][['product_id', 'product_category_name']])\n",
    "    print(f\"Price: {df_encoded.iloc[product_index]['price']:.2f}, Review Score: {df_encoded.iloc[product_index]['review_score']:.2f}\")\n",
    "\n",
    "    print(\"\\nRecommended Products:\")\n",
    "\n",
    "    recommendations = df_display.iloc[recommended_indices][['product_id', 'product_category_name']]\n",
    "    recommendations['price'] = df_encoded.iloc[recommended_indices]['price'].values\n",
    "    recommendations['review_score'] = df_encoded.iloc[recommended_indices]['review_score'].values\n",
    "    recommendations['similarity_score'] = similarities.round(3)\n",
    "\n",
    "    # Filter out negative reviews\n",
    "    recommendations = recommendations[recommendations['review_score'] > 0]\n",
    "\n",
    "    return recommendations"
   ]
  },
  {
   "cell_type": "code",
   "execution_count": null,
   "metadata": {
    "colab": {
     "base_uri": "https://localhost:8080/"
    },
    "executionInfo": {
     "elapsed": 194258,
     "status": "ok",
     "timestamp": 1746796168791,
     "user": {
      "displayName": "Amira Kamel",
      "userId": "17694101562792701289"
     },
     "user_tz": -180
    },
    "id": "bVA77kwJkxF4",
    "outputId": "b0105e88-056a-44b1-b3a7-078f26fc1554"
   },
   "outputs": [
    {
     "name": "stdout",
     "output_type": "stream",
     "text": [
      "\n",
      "Relevance Threshold: 10.000\n",
      "Precision@5: 0.73\n",
      "Recall@5: 1.00\n",
      "NDCG@5: 0.96\n"
     ]
    }
   ],
   "source": [
    "from sklearn.model_selection import train_test_split\n",
    "from sklearn.metrics import precision_score, recall_score\n",
    "\n",
    "# Determine relevance threshold (Top 25% of review scores)\n",
    "df_encoded['is_relevant'] = df_encoded['review_score'] >= df_encoded['review_score'].quantile(0.75)\n",
    "\n",
    "# Split data into train and test sets\n",
    "train_indices, test_indices = train_test_split(df_encoded.index, test_size=0.2, random_state=42)\n",
    "\n",
    "# Precision@K\n",
    "def precision_at_k(model, features, df, test_indices, k=5):\n",
    "    true_labels = []\n",
    "    predicted_labels = []\n",
    "\n",
    "    for idx in test_indices:\n",
    "        distances, indices = model.kneighbors(features[idx:idx+1], n_neighbors=k+1)\n",
    "        recommended_indices = [i for i in indices[0] if i != idx][:k]\n",
    "        actual_label = df.loc[idx, 'is_relevant']\n",
    "        predicted_labels.append(df.loc[recommended_indices, 'is_relevant'].any())\n",
    "        true_labels.append(actual_label)\n",
    "\n",
    "    return precision_score(true_labels, predicted_labels)\n",
    "\n",
    "# Recall@K\n",
    "def recall_at_k(model, features, df, test_indices, k=5):\n",
    "    true_labels = []\n",
    "    predicted_labels = []\n",
    "\n",
    "    for idx in test_indices:\n",
    "        distances, indices = model.kneighbors(features[idx:idx+1], n_neighbors=k+1)\n",
    "        recommended_indices = [i for i in indices[0] if i != idx][:k]\n",
    "        actual_label = df.loc[idx, 'is_relevant']\n",
    "        predicted_labels.append(df.loc[recommended_indices, 'is_relevant'].any())\n",
    "        true_labels.append(actual_label)\n",
    "\n",
    "    return recall_score(true_labels, predicted_labels)\n",
    "\n",
    "# NDCG@K\n",
    "def ndcg_at_k(model, features, df, test_indices, k=5):\n",
    "    relevance_scores = []\n",
    "\n",
    "    for idx in test_indices:\n",
    "        _, indices = model.kneighbors(features[idx:idx+1], n_neighbors=k+1)\n",
    "        recommended_indices = [i for i in indices[0] if i != idx][:k]\n",
    "        scores = df.loc[recommended_indices, 'review_score'].values\n",
    "        gains = scores / np.log2(np.arange(len(scores)) + 2)\n",
    "        ideal_gains = sorted(scores, reverse=True) / np.log2(np.arange(len(scores)) + 2)\n",
    "        relevance_scores.append(sum(gains) / sum(ideal_gains))\n",
    "\n",
    "    return np.mean(relevance_scores)\n",
    "\n",
    "# Run evaluation\n",
    "precision = precision_at_k(model, features_sparse, df_encoded, test_indices, k=5)\n",
    "recall = recall_at_k(model, features_sparse, df_encoded, test_indices, k=5)\n",
    "ndcg = ndcg_at_k(model, features_sparse, df_encoded, test_indices, k=5)\n",
    "\n",
    "print(f\"\\nRelevance Threshold: {df_encoded['review_score'].quantile(0.75):.3f}\")\n",
    "print(f\"Precision@5: {precision:.2f}\")\n",
    "print(f\"Recall@5: {recall:.2f}\")\n",
    "print(f\"NDCG@5: {ndcg:.2f}\")"
   ]
  },
  {
   "cell_type": "markdown",
   "metadata": {
    "id": "jhN45uODqhId"
   },
   "source": [
    "## Recommend Most Common"
   ]
  },
  {
   "cell_type": "code",
   "execution_count": null,
   "metadata": {
    "colab": {
     "base_uri": "https://localhost:8080/"
    },
    "executionInfo": {
     "elapsed": 30,
     "status": "ok",
     "timestamp": 1746796168814,
     "user": {
      "displayName": "Amira Kamel",
      "userId": "17694101562792701289"
     },
     "user_tz": -180
    },
    "id": "cjCpMogrkxDe",
    "outputId": "32b6f76b-3cfb-45f9-d40b-2965e48ff7f3"
   },
   "outputs": [
    {
     "name": "stdout",
     "output_type": "stream",
     "text": [
      "Top products for fast-delivery lovers:\n",
      "product_id\n",
      "aca2eb7d00ea1a7b8ebd4e68314663af    129\n",
      "422879e10f46682990de24d770e7f83d    104\n",
      "99a4788cb24856965c36a24e339b6058    103\n",
      "53759a2ecddad2bb87a079a1f1519f73     95\n",
      "368c6c730842d78016ad823897a372db     89\n",
      "53b36df67ebb7c41585e8d54d6772e08     84\n",
      "389d119b48cf3043d311335e499d9c6b     82\n",
      "2b4609f8948be18874494203496bc318     75\n",
      "d1c427060a0f73f6b889a5c7c61f2ac4     73\n",
      "bb50f2e236e5eea0100680137654686c     70\n",
      "3dd2a17168ec895c781a9191c1e95ad7     68\n",
      "154e7e31ebfa092203795c972e5804a6     68\n",
      "b532349fe46b38fbc7bb3914c1bdae07     59\n",
      "a92930c327948861c015c919a0bcb4a8     55\n",
      "7c1bd920dbdf22470b68bde975dd3ccf     55\n",
      "a62e25e09e05e6faf31d90c6ec1aa3d1     52\n",
      "e0d64dcfaa3b6db5c54ca298ae101d05     50\n",
      "2028bf1b01cafb2d2b1901fca4083222     46\n",
      "ec2d43cc59763ec91694573b31f1c29a     45\n",
      "e53e557d5a159f5aa2c5e995dfdf244b     44\n",
      "461f43be3bdf8844e65b62d9ac2c7a5a     43\n",
      "437c05a395e9e47f9762e677a7068ce7     43\n",
      "42a2c92a0979a949ca4ea89ec5c7b934     43\n",
      "6cdd53843498f92890544667809f1595     42\n",
      "0aabfb375647d9738ad0f7b4ea3653b1     40\n",
      "d017a2151d543a9885604dc62a3d9dcc     40\n",
      "ee0c1cf2fbeae95205b4aa506f1469f0     39\n",
      "3fbc0ef745950c7932d5f2a446189725     39\n",
      "0554911df28fda9fd668ce5ba5949695     38\n",
      "e7cc48a9daff5436f63d3aad9426f28b     38\n",
      "6f3b5b605d91b7439c5e3f5a8dffeea7     38\n",
      "19c91ef95d509ea33eda93495c4d3481     37\n",
      "c4baedd846ed09b85f78a781b522f126     36\n",
      "54d9ac713e253fa1fae9c8003b011c2a     36\n",
      "7a10781637204d8d10485c71a6108a2e     35\n",
      "8c591ab0ca519558779df02023177f44     35\n",
      "36f60d45225e60c7da4558b070ce4b60     35\n",
      "bdc3291ab242ec1effc8eb0987850268     33\n",
      "35afc973633aaeb6b877ff57b2793310     33\n",
      "89321f94e35fc6d7903d36f74e351d40     32\n",
      "52c80cedd4e90108bf4fa6a206ef6b03     32\n",
      "d285360f29ac7fd97640bf0baef03de0     30\n",
      "84f456958365164420cfc80fbe4c7fab     30\n",
      "656e0eca68dcecf6a31b8ececfabe3e8     30\n",
      "ee406bf28024d97771c4b1e8b7e8e219     29\n",
      "6c3effec7c8ddba466d4f03f982c7aa3     29\n",
      "3f14d740544f37ece8a9e7bc8349797e     29\n",
      "4c2394abfbac7ff59ec7a420918562fa     29\n",
      "0bcc3eeca39e1064258aa1e932269894     28\n",
      "e0cf79767c5b016251fe139915c59a26     28\n",
      "dtype: int64\n"
     ]
    }
   ],
   "source": [
    "# Segment: Fast delivery lovers\n",
    "fast_df = df[df['is_fast_review'] == True]\n",
    "\n",
    "# Get top products purchased by this segment\n",
    "top_fast_products = (\n",
    "    fast_df.groupby('product_id')\n",
    "    .size()\n",
    "    .sort_values(ascending=False)\n",
    "    .head(50)\n",
    ")\n",
    "\n",
    "print(\"Top products for fast-delivery lovers:\")\n",
    "print(top_fast_products)\n"
   ]
  },
  {
   "cell_type": "code",
   "execution_count": null,
   "metadata": {
    "colab": {
     "base_uri": "https://localhost:8080/"
    },
    "executionInfo": {
     "elapsed": 28,
     "status": "ok",
     "timestamp": 1746796168845,
     "user": {
      "displayName": "Amira Kamel",
      "userId": "17694101562792701289"
     },
     "user_tz": -180
    },
    "id": "iYMRvRI3q2Uo",
    "outputId": "c809373a-bbcf-48cc-d9f8-4fea92557ea8"
   },
   "outputs": [
    {
     "name": "stdout",
     "output_type": "stream",
     "text": [
      "Top products for positive review :\n",
      "product_id\n",
      "aca2eb7d00ea1a7b8ebd4e68314663af    456\n",
      "99a4788cb24856965c36a24e339b6058    428\n",
      "422879e10f46682990de24d770e7f83d    405\n",
      "389d119b48cf3043d311335e499d9c6b    342\n",
      "368c6c730842d78016ad823897a372db    317\n",
      "                                   ... \n",
      "43423cdffde7fda63d0414ed38c11a73     74\n",
      "3f14d740544f37ece8a9e7bc8349797e     74\n",
      "18b0e642cbae7251e60a64aa07dd9eb9     74\n",
      "ee406bf28024d97771c4b1e8b7e8e219     74\n",
      "c6336fa91fbd87c359e44f5dca5a90ed     73\n",
      "Length: 80, dtype: int64\n"
     ]
    }
   ],
   "source": [
    "# Segment:  positive review lovers\n",
    "positive_df = df[df['is_positive_review'] == True]\n",
    "\n",
    "# Get top products purchased by this segment\n",
    "top_positive_review =(\n",
    "\n",
    "      positive_df.groupby('product_id')\n",
    "    .size()\n",
    "    .sort_values(ascending=False)\n",
    "    .head(80)\n",
    "\n",
    ")\n",
    "\n",
    "print(\"Top products for positive review :\")\n",
    "print(top_positive_review)\n"
   ]
  },
  {
   "cell_type": "code",
   "execution_count": null,
   "metadata": {
    "colab": {
     "base_uri": "https://localhost:8080/"
    },
    "executionInfo": {
     "elapsed": 19,
     "status": "ok",
     "timestamp": 1746796168868,
     "user": {
      "displayName": "Amira Kamel",
      "userId": "17694101562792701289"
     },
     "user_tz": -180
    },
    "id": "GyRQ_gNmq2Rq",
    "outputId": "ae988759-1b59-457b-ad18-f064ae5dd966"
   },
   "outputs": [
    {
     "name": "stdout",
     "output_type": "stream",
     "text": [
      "Top products for weekend revie:\n",
      "product_id\n",
      "aca2eb7d00ea1a7b8ebd4e68314663af    138\n",
      "99a4788cb24856965c36a24e339b6058    131\n",
      "368c6c730842d78016ad823897a372db    111\n",
      "53759a2ecddad2bb87a079a1f1519f73     95\n",
      "422879e10f46682990de24d770e7f83d     95\n",
      "389d119b48cf3043d311335e499d9c6b     88\n",
      "53b36df67ebb7c41585e8d54d6772e08     84\n",
      "2b4609f8948be18874494203496bc318     71\n",
      "d1c427060a0f73f6b889a5c7c61f2ac4     68\n",
      "b532349fe46b38fbc7bb3914c1bdae07     65\n",
      "3dd2a17168ec895c781a9191c1e95ad7     63\n",
      "154e7e31ebfa092203795c972e5804a6     61\n",
      "bb50f2e236e5eea0100680137654686c     58\n",
      "7c1bd920dbdf22470b68bde975dd3ccf     50\n",
      "42a2c92a0979a949ca4ea89ec5c7b934     49\n",
      "c4baedd846ed09b85f78a781b522f126     47\n",
      "a62e25e09e05e6faf31d90c6ec1aa3d1     47\n",
      "f1c7f353075ce59d8a6f3cf58f419c9c     46\n",
      "36f60d45225e60c7da4558b070ce4b60     46\n",
      "35afc973633aaeb6b877ff57b2793310     44\n",
      "437c05a395e9e47f9762e677a7068ce7     42\n",
      "8c591ab0ca519558779df02023177f44     42\n",
      "a92930c327948861c015c919a0bcb4a8     42\n",
      "6cdd53843498f92890544667809f1595     41\n",
      "ec2d43cc59763ec91694573b31f1c29a     41\n",
      "0bcc3eeca39e1064258aa1e932269894     40\n",
      "601a360bd2a916ecef0e88de72a6531a     40\n",
      "e53e557d5a159f5aa2c5e995dfdf244b     39\n",
      "e0d64dcfaa3b6db5c54ca298ae101d05     38\n",
      "54d9ac713e253fa1fae9c8003b011c2a     36\n",
      "7a10781637204d8d10485c71a6108a2e     36\n",
      "7ce94ab189134e2d3c05f496d635419c     35\n",
      "ee0c1cf2fbeae95205b4aa506f1469f0     35\n",
      "d285360f29ac7fd97640bf0baef03de0     35\n",
      "6f3b5b605d91b7439c5e3f5a8dffeea7     34\n",
      "461f43be3bdf8844e65b62d9ac2c7a5a     34\n",
      "e0cf79767c5b016251fe139915c59a26     34\n",
      "3fbc0ef745950c7932d5f2a446189725     34\n",
      "0aabfb375647d9738ad0f7b4ea3653b1     33\n",
      "b623b7cb05ee3248fbe4a6ecbeed79a4     33\n",
      "89321f94e35fc6d7903d36f74e351d40     32\n",
      "880be32f4db1d9f6e2bec38fb6ac23ab     31\n",
      "634256dbcd184b3757ffd7632c9fe52a     31\n",
      "06edb72f1e0c64b14c5b79353f7abea3     30\n",
      "2028bf1b01cafb2d2b1901fca4083222     30\n",
      "8c292ca193d326152e335d77176746f0     29\n",
      "4c2394abfbac7ff59ec7a420918562fa     29\n",
      "b0961721fd839e9982420e807758a2a6     29\n",
      "c6dd917a0be2a704582055949915ab32     28\n",
      "165f86fe8b799a708a20ee4ba125c289     28\n",
      "d017a2151d543a9885604dc62a3d9dcc     28\n",
      "52c80cedd4e90108bf4fa6a206ef6b03     28\n",
      "19c91ef95d509ea33eda93495c4d3481     27\n",
      "3f14d740544f37ece8a9e7bc8349797e     27\n",
      "08574b074924071f4e201e151b152b4e     26\n",
      "78efe838c04bbc568be034082200ac20     26\n",
      "43423cdffde7fda63d0414ed38c11a73     26\n",
      "4fcb3d9a5f4871e8362dfedbdb02b064     25\n",
      "4298b7e67dc399c200662b569563a2b2     25\n",
      "84f456958365164420cfc80fbe4c7fab     25\n",
      "dtype: int64\n"
     ]
    }
   ],
   "source": [
    "weekend_df = df[df['is_weekend_review'] == True]\n",
    "top_weekend_review=(\n",
    "\n",
    "     weekend_df.groupby('product_id')\n",
    "    .size()\n",
    "    .sort_values(ascending=False)\n",
    "    .head(60)\n",
    "\n",
    ")\n",
    "\n",
    "print(\"Top products for weekend revie:\")\n",
    "print(top_weekend_review)\n"
   ]
  },
  {
   "cell_type": "code",
   "execution_count": null,
   "metadata": {
    "id": "yctAAMM_q2OR"
   },
   "outputs": [],
   "source": [
    "user_id = 'b0830fb4747a6c6d20dea0b8c802d7ef'  # example from your data\n",
    "user_history_df = df[df['customer_id'] == user_id].copy()\n"
   ]
  },
  {
   "cell_type": "code",
   "execution_count": null,
   "metadata": {
    "id": "yrfbF4Slq2Kj"
   },
   "outputs": [],
   "source": [
    "def recommend_products_for_user(user_history_df):\n",
    "    \"\"\"\n",
    "    Takes a DataFrame with user orders/reviews and recommends products.\n",
    "    \"\"\"\n",
    "    # Adjusted to match your column name\n",
    "    is_fast = (user_history_df['order_duration_days'] <= 5).mean() > 0.5\n",
    "    is_positive = user_history_df['is_positive_review'].mean() > 0.5\n",
    "    is_weekend = user_history_df['is_weekend_review'].mean() > 0.5\n",
    "\n",
    "    recommendations = set()\n",
    "\n",
    "    if is_fast:\n",
    "        recommendations.update(top_fast_products)\n",
    "    if is_positive:\n",
    "        recommendations.update(top_positive_review)\n",
    "    if is_weekend:\n",
    "        recommendations.update(top_weekend_review)\n",
    "\n",
    "    if not recommendations:\n",
    "        recommendations.update(top_positive_review[:3])\n",
    "\n",
    "    return list(recommendations)\n"
   ]
  },
  {
   "cell_type": "code",
   "execution_count": null,
   "metadata": {
    "colab": {
     "base_uri": "https://localhost:8080/"
    },
    "executionInfo": {
     "elapsed": 32939,
     "status": "ok",
     "timestamp": 1746796305283,
     "user": {
      "displayName": "Amira Kamel",
      "userId": "17694101562792701289"
     },
     "user_tz": -180
    },
    "id": "d7DHegyerDtz",
    "outputId": "a614493d-6332-4dd0-d8fa-75d68f792902"
   },
   "outputs": [
    {
     "name": "stdout",
     "output_type": "stream",
     "text": [
      "Average Precision@5: 0.004761904761904762\n",
      "Average Recall@5: 0.022027373823781008\n"
     ]
    }
   ],
   "source": [
    "# Step 1: Define product segment top products globally\n",
    "def get_top_products_by_segment(df):\n",
    "    top_fast = df[df['is_fast_review']].groupby('product_id').size().sort_values(ascending=False).head(10).index.tolist()\n",
    "    top_positive = df[df['is_positive_review']].groupby('product_id').size().sort_values(ascending=False).head(10).index.tolist()\n",
    "    top_weekend = df[df['is_weekend_review']].groupby('product_id').size().sort_values(ascending=False).head(10).index.tolist()\n",
    "    return top_fast, top_positive, top_weekend\n",
    "\n",
    "# Step 2: Define the recommendation function\n",
    "def recommend_products_for_user(user_df, top_fast, top_positive, top_weekend):\n",
    "    is_fast = (user_df['order_duration_days'] <= 5).mean() > 0.5\n",
    "    is_positive = user_df['is_positive_review'].mean() > 0.5\n",
    "    is_weekend = user_df['is_weekend_review'].mean() > 0.5\n",
    "\n",
    "    recommendations = set()\n",
    "\n",
    "    if is_fast:\n",
    "        recommendations.update(top_fast)\n",
    "    if is_positive:\n",
    "        recommendations.update(top_positive)\n",
    "    if is_weekend:\n",
    "        recommendations.update(top_weekend)\n",
    "\n",
    "    if not recommendations:\n",
    "        recommendations.update(top_positive[:3])\n",
    "\n",
    "    return list(recommendations)\n",
    "\n",
    "from sklearn.model_selection import train_test_split\n",
    "\n",
    "# Step 3: Split the data into training and testing sets\n",
    "train_df, test_df = train_test_split(df, test_size=0.2, random_state=42)\n",
    "\n",
    "# Get top products based only on the training data\n",
    "top_fast, top_positive, top_weekend = get_top_products_by_segment(train_df)\n",
    "\n",
    "# Group training data by user\n",
    "grouped_customers = train_df.groupby('customer_id')\n",
    "recommendations = []\n",
    "\n",
    "# Step 4: Generate recommendations for each user\n",
    "for customer_id, user_history_df in grouped_customers:\n",
    "    recommended_products = recommend_products_for_user(user_history_df, top_fast, top_positive, top_weekend)\n",
    "    recommendations.append({\n",
    "        'customer_id': customer_id,\n",
    "        'recommended_products': recommended_products\n",
    "    })\n",
    "\n",
    "recommendations_df = pd.DataFrame(recommendations)\n",
    "\n",
    "# Step 5: Define Precision@k and Recall@k functions\n",
    "def precision_at_k(actual, predicted, k):\n",
    "    predicted = predicted[:k]\n",
    "    if not predicted:\n",
    "        return 0.0\n",
    "    return len(set(predicted) & set(actual)) / len(predicted)\n",
    "\n",
    "def recall_at_k(actual, predicted, k):\n",
    "    predicted = predicted[:k]\n",
    "    if not actual:\n",
    "        return 0.0\n",
    "    return len(set(predicted) & set(actual)) / len(actual)\n",
    "\n",
    "# Step 6: Merge recommendations with actual test data\n",
    "test_grouped = test_df.groupby('customer_id')['product_id'].apply(set).reset_index().rename(columns={'product_id': 'actual_products'})\n",
    "evaluation_df = recommendations_df.merge(test_grouped, on='customer_id', how='inner')\n",
    "\n",
    "# Step 7: Calculate metrics\n",
    "evaluation_df['precision@5'] = evaluation_df.apply(lambda row: precision_at_k(row['actual_products'], row['recommended_products'], 5), axis=1)\n",
    "evaluation_df['recall@5'] = evaluation_df.apply(lambda row: recall_at_k(row['actual_products'], row['recommended_products'], 5), axis=1)\n",
    "\n",
    "# Show average scores\n",
    "print(\"Average Precision@5:\", evaluation_df['precision@5'].mean())\n",
    "print(\"Average Recall@5:\", evaluation_df['recall@5'].mean())\n"
   ]
  },
  {
   "cell_type": "markdown",
   "metadata": {
    "id": "X_q3YnbDARVa"
   },
   "source": [
    "# Save The Models"
   ]
  },
  {
   "cell_type": "code",
   "execution_count": null,
   "metadata": {
    "colab": {
     "base_uri": "https://localhost:8080/"
    },
    "executionInfo": {
     "elapsed": 1429,
     "status": "ok",
     "timestamp": 1746796311901,
     "user": {
      "displayName": "Amira Kamel",
      "userId": "17694101562792701289"
     },
     "user_tz": -180
    },
    "id": "-kLk7dJmrDoN",
    "outputId": "25062dfa-990b-4038-c440-32e8f4322c18"
   },
   "outputs": [
    {
     "name": "stderr",
     "output_type": "stream",
     "text": [
      "WARNING:absl:You are saving your model as an HDF5 file via `model.save()` or `keras.saving.save_model(model)`. This file format is considered legacy. We recommend using instead the native Keras format, e.g. `model.save('my_model.keras')` or `keras.saving.save_model(model, 'my_model.keras')`. \n"
     ]
    }
   ],
   "source": [
    "import pickle\n",
    "import joblib\n",
    "\n",
    "# Save the LSTM model\n",
    "lstm_model.save(\"models/lstm_next_product.h5\")\n",
    "\n",
    "with open(\"models/product_mappings.pkl\", \"wb\") as f:\n",
    "    pickle.dump({\n",
    "        \"product_id_mapping\": product_id_mapping,\n",
    "        \"product_id_reverse_map\": {v: k for k, v in product_id_mapping.items()},\n",
    "        \"max_sequence_length\": max_sequence_length\n",
    "    }, f)\n",
    "\n",
    "\n",
    "# Save NearestNeighbors model\n",
    "joblib.dump(model, \"models/item_knn_model.pkl\")\n",
    "\n",
    "# Save product features (e.g., features_sparse used for prediction)\n",
    "joblib.dump(features_sparse, \"models/product_features_sparse.pkl\")\n",
    "\n",
    "# Save supporting DataFrames used for display (if needed)\n",
    "df_display.to_csv(\"models/product_display.csv\", index=False)\n",
    "df_encoded.to_csv(\"models/product_encoded.csv\", index=False)\n",
    "\n",
    "# save most common\n",
    "with open(\"models/segment_top_products.pkl\", \"wb\") as f:\n",
    "    pickle.dump({\n",
    "        \"top_fast\": top_fast,\n",
    "        \"top_positive\": top_positive,\n",
    "        \"top_weekend\": top_weekend\n",
    "    }, f)\n"
   ]
  }
 ],
 "metadata": {
  "colab": {
   "authorship_tag": "ABX9TyM9f1o+TuUzdfEIzhivHJw/",
   "provenance": []
  },
  "kernelspec": {
   "display_name": "Python 3",
   "name": "python3"
  },
  "language_info": {
   "name": "python"
  },
  
    
   
      "outputs": [
       {
        "name": "stdout",
        "output_type": "stream",
        "text": [
         "Original Product:\n",
         "product_id               ad1128daf194f4b6ac4256e16233497c\n",
         "product_category_name                           telephony\n",
         "Name: 60, dtype: object\n",
         "Price: 0.01, Review Score: 10.00\n",
         "\n",
         "Recommended Products:\n"
        ]
       },
       {
        "data": {
         "application/vnd.google.colaboratory.intrinsic+json": {
          "summary": "{\n  \"name\": \"display(product_index_input, search_button, output)\",\n  \"rows\": 5,\n  \"fields\": [\n    {\n      \"column\": \"product_id\",\n      \"properties\": {\n        \"dtype\": \"string\",\n        \"num_unique_values\": 5,\n        \"samples\": [\n          \"d5f006788a809ec51caf80f7d438649c\",\n          \"acd427ee119d5c71c7a85ae488cb0a6a\",\n          \"02475368dfb38934fe55f574024fe1d7\"\n        ],\n        \"semantic_type\": \"\",\n        \"description\": \"\"\n      }\n    },\n    {\n      \"column\": \"product_category_name\",\n      \"properties\": {\n        \"dtype\": \"string\",\n        \"num_unique_values\": 4,\n        \"samples\": [\n          \"fashion_bags_accessories\",\n          \"fashion_male_clothing\",\n          \"auto\"\n        ],\n        \"semantic_type\": \"\",\n        \"description\": \"\"\n      }\n    },\n    {\n      \"column\": \"price\",\n      \"properties\": {\n        \"dtype\": \"number\",\n        \"std\": 0.0009773102713840857,\n        \"min\": 0.003571349019549609,\n        \"max\": 0.005737917925796129,\n        \"num_unique_values\": 5,\n        \"samples\": [\n          0.003927741437300922,\n          0.0055166576331088565,\n          0.0041801860665414345\n        ],\n        \"semantic_type\": \"\",\n        \"description\": \"\"\n      }\n    },\n    {\n      \"column\": \"review_score\",\n      \"properties\": {\n        \"dtype\": \"number\",\n        \"std\": 3.5777087639996643,\n        \"min\": 2.0,\n        \"max\": 10.0,\n        \"num_unique_values\": 2,\n        \"samples\": [\n          2.0,\n          10.0\n        ],\n        \"semantic_type\": \"\",\n        \"description\": \"\"\n      }\n    },\n    {\n      \"column\": \"similarity_score\",\n      \"properties\": {\n        \"dtype\": \"number\",\n        \"std\": 0.0,\n        \"min\": 1.0,\n        \"max\": 1.0,\n        \"num_unique_values\": 1,\n        \"samples\": [\n          1.0\n        ],\n        \"semantic_type\": \"\",\n        \"description\": \"\"\n      }\n    }\n  ]\n}",
          "type": "dataframe"
         },
         "text/html": "\n  <div id=\"df-cc3a58b5-2901-4396-be5a-33f018339d46\" class=\"colab-df-container\">\n    <div>\n<style scoped>\n    .dataframe tbody tr th:only-of-type {\n        vertical-align: middle;\n    }\n\n    .dataframe tbody tr th {\n        vertical-align: top;\n    }\n\n    .dataframe thead th {\n        text-align: right;\n    }\n</style>\n<table border=\"1\" class=\"dataframe\">\n  <thead>\n    <tr style=\"text-align: right;\">\n      <th></th>\n      <th>product_id</th>\n      <th>product_category_name</th>\n      <th>price</th>\n      <th>review_score</th>\n      <th>similarity_score</th>\n    </tr>\n  </thead>\n  <tbody>\n    <tr>\n      <th>4850</th>\n      <td>9f6621f95877826c7f967b6c4e7979b5</td>\n      <td>auto</td>\n      <td>0.005738</td>\n      <td>10.0</td>\n      <td>1.0</td>\n    </tr>\n    <tr>\n      <th>30266</th>\n      <td>d5f006788a809ec51caf80f7d438649c</td>\n      <td>fashion_bags_accessories</td>\n      <td>0.003928</td>\n      <td>2.0</td>\n      <td>1.0</td>\n    </tr>\n    <tr>\n      <th>7133</th>\n      <td>02475368dfb38934fe55f574024fe1d7</td>\n      <td>watches_gifts</td>\n      <td>0.004180</td>\n      <td>10.0</td>\n      <td>1.0</td>\n    </tr>\n    <tr>\n      <th>21707</th>\n      <td>8e87b57f5bc7661130ee7803017f3f32</td>\n      <td>fashion_male_clothing</td>\n      <td>0.003571</td>\n      <td>10.0</td>\n      <td>1.0</td>\n    </tr>\n    <tr>\n      <th>18245</th>\n      <td>acd427ee119d5c71c7a85ae488cb0a6a</td>\n      <td>fashion_bags_accessories</td>\n      <td>0.005517</td>\n      <td>10.0</td>\n      <td>1.0</td>\n    </tr>\n  </tbody>\n</table>\n</div>\n    <div class=\"colab-df-buttons\">\n\n  <div class=\"colab-df-container\">\n    <button class=\"colab-df-convert\" onclick=\"convertToInteractive('df-cc3a58b5-2901-4396-be5a-33f018339d46')\"\n            title=\"Convert this dataframe to an interactive table.\"\n            style=\"display:none;\">\n\n  <svg xmlns=\"http://www.w3.org/2000/svg\" height=\"24px\" viewBox=\"0 -960 960 960\">\n    <path d=\"M120-120v-720h720v720H120Zm60-500h600v-160H180v160Zm220 220h160v-160H400v160Zm0 220h160v-160H400v160ZM180-400h160v-160H180v160Zm440 0h160v-160H620v160ZM180-180h160v-160H180v160Zm440 0h160v-160H620v160Z\"/>\n  </svg>\n    </button>\n\n  <style>\n    .colab-df-container {\n      display:flex;\n      gap: 12px;\n    }\n\n    .colab-df-convert {\n      background-color: #E8F0FE;\n      border: none;\n      border-radius: 50%;\n      cursor: pointer;\n      display: none;\n      fill: #1967D2;\n      height: 32px;\n      padding: 0 0 0 0;\n      width: 32px;\n    }\n\n    .colab-df-convert:hover {\n      background-color: #E2EBFA;\n      box-shadow: 0px 1px 2px rgba(60, 64, 67, 0.3), 0px 1px 3px 1px rgba(60, 64, 67, 0.15);\n      fill: #174EA6;\n    }\n\n    .colab-df-buttons div {\n      margin-bottom: 4px;\n    }\n\n    [theme=dark] .colab-df-convert {\n      background-color: #3B4455;\n      fill: #D2E3FC;\n    }\n\n    [theme=dark] .colab-df-convert:hover {\n      background-color: #434B5C;\n      box-shadow: 0px 1px 3px 1px rgba(0, 0, 0, 0.15);\n      filter: drop-shadow(0px 1px 2px rgba(0, 0, 0, 0.3));\n      fill: #FFFFFF;\n    }\n  </style>\n\n    <script>\n      const buttonEl =\n        document.querySelector('#df-cc3a58b5-2901-4396-be5a-33f018339d46 button.colab-df-convert');\n      buttonEl.style.display =\n        google.colab.kernel.accessAllowed ? 'block' : 'none';\n\n      async function convertToInteractive(key) {\n        const element = document.querySelector('#df-cc3a58b5-2901-4396-be5a-33f018339d46');\n        const dataTable =\n          await google.colab.kernel.invokeFunction('convertToInteractive',\n                                                    [key], {});\n        if (!dataTable) return;\n\n        const docLinkHtml = 'Like what you see? Visit the ' +\n          '<a target=\"_blank\" href=https://colab.research.google.com/notebooks/data_table.ipynb>data table notebook</a>'\n          + ' to learn more about interactive tables.';\n        element.innerHTML = '';\n        dataTable['output_type'] = 'display_data';\n        await google.colab.output.renderOutput(dataTable, element);\n        const docLink = document.createElement('div');\n        docLink.innerHTML = docLinkHtml;\n        element.appendChild(docLink);\n      }\n    </script>\n  </div>\n\n\n    <div id=\"df-df734c1c-9a33-49bf-871e-be71c00cf37c\">\n      <button class=\"colab-df-quickchart\" onclick=\"quickchart('df-df734c1c-9a33-49bf-871e-be71c00cf37c')\"\n                title=\"Suggest charts\"\n                style=\"display:none;\">\n\n<svg xmlns=\"http://www.w3.org/2000/svg\" height=\"24px\"viewBox=\"0 0 24 24\"\n     width=\"24px\">\n    <g>\n        <path d=\"M19 3H5c-1.1 0-2 .9-2 2v14c0 1.1.9 2 2 2h14c1.1 0 2-.9 2-2V5c0-1.1-.9-2-2-2zM9 17H7v-7h2v7zm4 0h-2V7h2v10zm4 0h-2v-4h2v4z\"/>\n    </g>\n</svg>\n      </button>\n\n<style>\n  .colab-df-quickchart {\n      --bg-color: #E8F0FE;\n      --fill-color: #1967D2;\n      --hover-bg-color: #E2EBFA;\n      --hover-fill-color: #174EA6;\n      --disabled-fill-color: #AAA;\n      --disabled-bg-color: #DDD;\n  }\n\n  [theme=dark] .colab-df-quickchart {\n      --bg-color: #3B4455;\n      --fill-color: #D2E3FC;\n      --hover-bg-color: #434B5C;\n      --hover-fill-color: #FFFFFF;\n      --disabled-bg-color: #3B4455;\n      --disabled-fill-color: #666;\n  }\n\n  .colab-df-quickchart {\n    background-color: var(--bg-color);\n    border: none;\n    border-radius: 50%;\n    cursor: pointer;\n    display: none;\n    fill: var(--fill-color);\n    height: 32px;\n    padding: 0;\n    width: 32px;\n  }\n\n  .colab-df-quickchart:hover {\n    background-color: var(--hover-bg-color);\n    box-shadow: 0 1px 2px rgba(60, 64, 67, 0.3), 0 1px 3px 1px rgba(60, 64, 67, 0.15);\n    fill: var(--button-hover-fill-color);\n  }\n\n  .colab-df-quickchart-complete:disabled,\n  .colab-df-quickchart-complete:disabled:hover {\n    background-color: var(--disabled-bg-color);\n    fill: var(--disabled-fill-color);\n    box-shadow: none;\n  }\n\n  .colab-df-spinner {\n    border: 2px solid var(--fill-color);\n    border-color: transparent;\n    border-bottom-color: var(--fill-color);\n    animation:\n      spin 1s steps(1) infinite;\n  }\n\n  @keyframes spin {\n    0% {\n      border-color: transparent;\n      border-bottom-color: var(--fill-color);\n      border-left-color: var(--fill-color);\n    }\n    20% {\n      border-color: transparent;\n      border-left-color: var(--fill-color);\n      border-top-color: var(--fill-color);\n    }\n    30% {\n      border-color: transparent;\n      border-left-color: var(--fill-color);\n      border-top-color: var(--fill-color);\n      border-right-color: var(--fill-color);\n    }\n    40% {\n      border-color: transparent;\n      border-right-color: var(--fill-color);\n      border-top-color: var(--fill-color);\n    }\n    60% {\n      border-color: transparent;\n      border-right-color: var(--fill-color);\n    }\n    80% {\n      border-color: transparent;\n      border-right-color: var(--fill-color);\n      border-bottom-color: var(--fill-color);\n    }\n    90% {\n      border-color: transparent;\n      border-bottom-color: var(--fill-color);\n    }\n  }\n</style>\n\n      <script>\n        async function quickchart(key) {\n          const quickchartButtonEl =\n            document.querySelector('#' + key + ' button');\n          quickchartButtonEl.disabled = true;  // To prevent multiple clicks.\n          quickchartButtonEl.classList.add('colab-df-spinner');\n          try {\n            const charts = await google.colab.kernel.invokeFunction(\n                'suggestCharts', [key], {});\n          } catch (error) {\n            console.error('Error during call to suggestCharts:', error);\n          }\n          quickchartButtonEl.classList.remove('colab-df-spinner');\n          quickchartButtonEl.classList.add('colab-df-quickchart-complete');\n        }\n        (() => {\n          let quickchartButtonEl =\n            document.querySelector('#df-df734c1c-9a33-49bf-871e-be71c00cf37c button');\n          quickchartButtonEl.style.display =\n            google.colab.kernel.accessAllowed ? 'block' : 'none';\n        })();\n      </script>\n    </div>\n\n    </div>\n  </div>\n",
         "text/plain": "                             product_id     product_category_name     price  \\\n4850   9f6621f95877826c7f967b6c4e7979b5                      auto  0.005738   \n30266  d5f006788a809ec51caf80f7d438649c  fashion_bags_accessories  0.003928   \n7133   02475368dfb38934fe55f574024fe1d7             watches_gifts  0.004180   \n21707  8e87b57f5bc7661130ee7803017f3f32     fashion_male_clothing  0.003571   \n18245  acd427ee119d5c71c7a85ae488cb0a6a  fashion_bags_accessories  0.005517   \n\n       review_score  similarity_score  \n4850           10.0               1.0  \n30266           2.0               1.0  \n7133           10.0               1.0  \n21707          10.0               1.0  \n18245          10.0               1.0  "
        },
        "metadata": {},
        "output_type": "display_data"
       }
      ]
     }
    }
   }
  }
 },
 "nbformat": 4,
 "nbformat_minor": 0
}
